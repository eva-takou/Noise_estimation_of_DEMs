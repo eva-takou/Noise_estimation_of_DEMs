{
 "cells": [
  {
   "cell_type": "code",
   "execution_count": 1,
   "id": "56e30753",
   "metadata": {},
   "outputs": [],
   "source": [
    "import sys\n",
    "sys.path.append('/Users/evatakou/noise_est')\n",
    "\n",
    "import stim\n",
    "import numpy as np\n",
    "from matplotlib import pyplot as plt\n",
    "\n",
    "from sims.surface_code_bare_ancilla.circuit_SC import *\n",
    "from estimation_funcs_surface_code import *\n",
    "from utilities.utils_for_decoding import decode_both_dems_same_data\n",
    "from construct_dem import *\n",
    "from utilities.general_utils import avg_vi, avg_vivj_alt\n",
    "\n",
    "import time\n"
   ]
  },
  {
   "cell_type": "code",
   "execution_count": 2,
   "id": "c5ab5e40",
   "metadata": {},
   "outputs": [],
   "source": [
    "def get_DEM(distance,num_rounds,num_shots,p_depol_data,p_depol_anc,p_depol_after,depol_type_after_gates):\n",
    "\n",
    "    L             = distance\n",
    "    num_ancilla   = L*(L-1)\n",
    "    Reset         = True\n",
    "\n",
    "    circuit    = planar_surface_code_circuit_X_memory(distance,num_rounds,p_depol_data,p_depol_anc,Reset,p_depol_after,depol_type_after_gates)\n",
    "\n",
    "    if p_depol_data==0 and p_depol_anc==0 and p_depol_after==0:\n",
    "        my_DEM = stim.DetectorErrorModel()\n",
    "        return my_DEM,circuit\n",
    "    \n",
    "    # defects_matrix, data_qubit_samples = get_defects(circuit, distance,num_shots,num_rounds)\n",
    "\n",
    "    defects_matrix,data_qubit_meas = get_defects(circuit,distance,num_shots,num_rounds)\n",
    "\n",
    "    start_time = time.time()\n",
    "\n",
    "\n",
    "    vi_mean                        = avg_vi(defects_matrix)\n",
    "    vivj_mean                      = avg_vivj_alt(defects_matrix.data)\n",
    "    \n",
    "    pij_time        = estimate_time_edge_probs(num_rounds,num_ancilla,vi_mean,vivj_mean)\n",
    "    pij_bulk,pij_bd = estimate_bulk_and_bd_edge_probs(num_rounds,num_ancilla,distance,vi_mean,vivj_mean,pij_time)\n",
    "    \n",
    "    my_DEM = surface_code_DEM(pij_bulk,pij_bd,pij_time,circuit.detector_error_model())\n",
    "\n",
    "    end_time = time.time()\n",
    "    TIME = end_time-start_time\n",
    "\n",
    "    return TIME\n",
    "\n",
    "\n",
    "\n"
   ]
  },
  {
   "cell_type": "code",
   "execution_count": 3,
   "id": "410fe785",
   "metadata": {},
   "outputs": [],
   "source": [
    "def get_DEM_alt(distance,num_rounds,num_shots,p_depol_data,p_depol_anc,p_depol_after,depol_type_after_gates):\n",
    "\n",
    "    L             = distance\n",
    "    num_ancilla   = L*(L-1)\n",
    "    Reset         = True\n",
    "\n",
    "    circuit    = planar_surface_code_circuit_X_memory(distance,num_rounds,p_depol_data,p_depol_anc,Reset,p_depol_after,depol_type_after_gates)\n",
    "\n",
    "    if p_depol_data==0 and p_depol_anc==0 and p_depol_after==0:\n",
    "        my_DEM = stim.DetectorErrorModel()\n",
    "        return my_DEM,circuit\n",
    "    \n",
    "    # defects_matrix, data_qubit_samples = get_defects(circuit, distance,num_shots,num_rounds)\n",
    "\n",
    "    defects_matrix,data_qubit_meas = get_defects(circuit,distance,num_shots,num_rounds)\n",
    "\n",
    "    start_time = time.time()\n",
    "\n",
    "\n",
    "    vi_mean                        = avg_vi(defects_matrix)\n",
    "    # vivj_mean                      = avg_vivj_alt(defects_matrix.data)\n",
    "    \n",
    "    pij_time        = estimate_time_edge_probs_alt_V2(num_rounds,num_ancilla,defects_matrix,vi_mean)\n",
    "    pij_bulk,pij_bd = estimate_bulk_and_bd_edge_probs_alt_Final(num_rounds,num_ancilla,distance,defects_matrix,pij_time,vi_mean)\n",
    "    \n",
    "    my_DEM = surface_code_DEM(pij_bulk,pij_bd,pij_time,circuit.detector_error_model())\n",
    "\n",
    "    end_time = time.time()\n",
    "    TIME = end_time-start_time\n",
    "\n",
    "    return TIME\n",
    "\n",
    "\n",
    "\n"
   ]
  },
  {
   "cell_type": "code",
   "execution_count": 4,
   "id": "d2f593f6",
   "metadata": {},
   "outputs": [],
   "source": [
    "distance   = 11\n",
    "num_rounds = 11\n",
    "num_shots  = 10**5\n",
    "p_depol_data = 0.01\n",
    "p_depol_anc = 0.01\n",
    "p_depol_after = 0.01\n",
    "depol_type_after_gates = \"DEPOLARIZE2\"\n",
    "num_ancilla   = distance*(distance-1)\n",
    "Reset=True\n",
    "# get_DEM(distance,num_rounds,num_shots,p_depol_data,p_depol_anc,p_depol_after,depol_type_after_gates)"
   ]
  },
  {
   "cell_type": "code",
   "execution_count": 5,
   "id": "3df2cdb4",
   "metadata": {},
   "outputs": [],
   "source": [
    "\n",
    "circuit    = planar_surface_code_circuit_X_memory(distance,num_rounds,p_depol_data,p_depol_anc,Reset,p_depol_after,depol_type_after_gates)\n",
    "\n",
    "\n",
    "\n",
    "defects_matrix,data_qubit_meas = get_defects(circuit,distance,num_shots,num_rounds)\n",
    "\n",
    "\n",
    "\n",
    "# vi_mean                        = avg_vi(defects_matrix)\n",
    "# vivj_mean                      = avg_vivj_alt(defects_matrix.data)\n",
    "\n",
    "\n",
    "# pij_bulk,pij_bd = estimate_bulk_and_bd_edge_probs_alt(num_rounds,num_ancilla,distance,defects_matrix,pij_time)\n"
   ]
  },
  {
   "cell_type": "code",
   "execution_count": 6,
   "id": "2d0ea5ce",
   "metadata": {},
   "outputs": [
    {
     "data": {
      "text/plain": [
       "1.778493881225586"
      ]
     },
     "execution_count": 6,
     "metadata": {},
     "output_type": "execute_result"
    }
   ],
   "source": [
    "start_time = time.time()\n",
    "pij_time        = estimate_time_edge_probs_alt(num_rounds,num_ancilla,defects_matrix)\n",
    "end_time = time.time()\n",
    "TIME = end_time-start_time\n",
    "TIME"
   ]
  },
  {
   "cell_type": "code",
   "execution_count": 7,
   "id": "acd199fa",
   "metadata": {},
   "outputs": [
    {
     "data": {
      "text/plain": [
       "1.5502700805664062"
      ]
     },
     "execution_count": 7,
     "metadata": {},
     "output_type": "execute_result"
    }
   ],
   "source": [
    "start_time = time.time()\n",
    "pij_time_alt        = estimate_time_edge_probs_alt_V2(num_rounds,num_ancilla,defects_matrix)\n",
    "end_time = time.time()\n",
    "TIME = end_time-start_time\n",
    "TIME"
   ]
  },
  {
   "cell_type": "code",
   "execution_count": 8,
   "id": "8ef5aa9a",
   "metadata": {},
   "outputs": [],
   "source": [
    "for key in pij_time.keys():\n",
    "\n",
    "    if pij_time[key]!=pij_time_alt[key]:\n",
    "        raise Exception(\"Incorrect\")"
   ]
  },
  {
   "cell_type": "code",
   "execution_count": 13,
   "id": "4a7efc50",
   "metadata": {},
   "outputs": [
    {
     "data": {
      "text/plain": [
       "8.033470869064331"
      ]
     },
     "execution_count": 13,
     "metadata": {},
     "output_type": "execute_result"
    }
   ],
   "source": [
    "get_DEM_alt(distance,num_rounds,num_shots,p_depol_data,p_depol_anc,p_depol_after,depol_type_after_gates)"
   ]
  },
  {
   "cell_type": "code",
   "execution_count": 5,
   "id": "48acbab7",
   "metadata": {},
   "outputs": [],
   "source": [
    "from joblib import Parallel, delayed\n",
    "import numpy as np\n",
    "\n",
    "def calculate_runtime_parallel(distances, num_shots, iterMax, n_jobs=-1):\n",
    "    \n",
    "    p_depol_data = 0.01\n",
    "    p_depol_anc = 0.01\n",
    "    p_depol_after = 0.01\n",
    "    depol_type_after_gates = \"DEPOLARIZE2\"\n",
    "    TIMES = []\n",
    "    std_error                   = []\n",
    "\n",
    "    for distance in distances:\n",
    "        # Parallel over iterations for each distance\n",
    "\n",
    "        num_rounds = 3\n",
    "\n",
    "        print(f\"Processing distance: {distance}\")\n",
    "        avg_time = Parallel(n_jobs=n_jobs)(\n",
    "            delayed(get_DEM_alt)(\n",
    "                distance, num_rounds, num_shots,\n",
    "                p_depol_data, p_depol_anc, p_depol_after,\n",
    "                depol_type_after_gates\n",
    "            )\n",
    "            for _ in range(iterMax)\n",
    "        )\n",
    "        std_error.append(np.std(avg_time))\n",
    "        TIMES.append(np.mean(avg_time))\n",
    "\n",
    "    return TIMES,std_error\n"
   ]
  },
  {
   "cell_type": "code",
   "execution_count": 8,
   "id": "94b8bd08",
   "metadata": {},
   "outputs": [
    {
     "name": "stdout",
     "output_type": "stream",
     "text": [
      "Processing distance: 3\n",
      "Processing distance: 5\n",
      "Processing distance: 7\n",
      "Processing distance: 9\n",
      "Processing distance: 11\n",
      "Processing distance: 13\n",
      "Processing distance: 15\n",
      "Processing distance: 17\n",
      "Processing distance: 19\n"
     ]
    }
   ],
   "source": [
    "from scipy.optimize import curve_fit\n",
    "from matplotlib import pyplot as plt\n",
    "import matplotlib\n",
    "\n",
    "def scaling_function(n, a, k):\n",
    "    return a * n**k\n",
    "\n",
    "def calculate_runtime(distances,num_shots,iterMax):\n",
    "\n",
    "    \n",
    "    p_depol_data           = 0.01\n",
    "    p_depol_anc            = 0.01\n",
    "    p_depol_after          = 0.01\n",
    "    depol_type_after_gates = \"DEPOLARIZE2\"\n",
    "    TIMES                  = []\n",
    "    std_error                   = []\n",
    "\n",
    "    for distance in distances:\n",
    "\n",
    "        avg_time=[]\n",
    "        \n",
    "        for iter in range(iterMax):\n",
    "\n",
    "            num_rounds = distance\n",
    "\n",
    "            time = get_DEM_alt(distance,num_rounds,num_shots,p_depol_data,p_depol_anc,p_depol_after,depol_type_after_gates)\n",
    "            avg_time.append(time)\n",
    "\n",
    "        std_error.append(np.std(avg_time))\n",
    "        TIMES.append(np.mean(avg_time))\n",
    "        \n",
    "\n",
    "    return TIMES,std_error\n",
    "\n",
    "max_d           = 19\n",
    "distances       = np.arange(3,max_d+2,2)\n",
    "num_shots       = 10**5\n",
    "iterMax         = 400\n",
    "TIMES,std_error = calculate_runtime_parallel(distances,num_shots,iterMax)\n",
    "\n",
    "num_qubits = []\n",
    "for distance in distances:\n",
    "\n",
    "    num_qubits.append(distance**2 + (distance-1)**2 + distance*(distance-1))\n",
    "\n"
   ]
  },
  {
   "cell_type": "code",
   "execution_count": 10,
   "id": "33467e3d",
   "metadata": {},
   "outputs": [
    {
     "data": {
      "image/png": "[encoded data removed]",
      "text/plain": [
       "<Figure size 640x480 with 1 Axes>"
      ]
     },
     "metadata": {},
     "output_type": "display_data"
    }
   ],
   "source": [
    "matplotlib.rcParams.update({'font.size': 17})\n",
    "plt.rcParams[\"font.family\"] = \"Microsoft Sans Serif\"\n",
    "\n",
    "fig, ax = plt.subplots()\n",
    "# plt.plot(num_qubits,TIMES,marker='o')\n",
    "plt.errorbar(\n",
    "    x=num_qubits,\n",
    "    y=TIMES,\n",
    "    yerr=std_error,\n",
    "    xerr=None,\n",
    "    fmt='-s',             # marker only (no line)\n",
    "    label='measured time',\n",
    "    color='tab:blue',\n",
    "    capsize=5,\n",
    "    markersize=5\n",
    ")\n",
    "# plt.errorbar(num_qubits, TIMES, yerr=std_error, fmt='-o', capsize=5, label='Measured runtimes')\n",
    "plt.xlabel('number of data and ancilla qubits')\n",
    "plt.ylabel('runtime (s)')\n",
    "# plt.yscale('log')\n",
    "# plt.ylim([0.1,1])\n",
    "\n",
    "# Fit the scaling function to the data\n",
    "popt, pcov = curve_fit(scaling_function, np.array(num_qubits), np.array(TIMES))\n",
    "\n",
    "# # Plot the fitted curve\n",
    "x_fit = np.linspace(min(num_qubits), max(num_qubits), 100)\n",
    "y_fit = scaling_function(x_fit, *popt)\n",
    "\n",
    "plt.plot(x_fit, y_fit, '--', label = f'$T(n) = {popt[0]:.2f} \\\\, n^{{{popt[1]:.2f}}}$',color='orange')\n",
    "plt.legend(frameon=False)\n",
    "# plt.ylim([-1,23])\n",
    "plt.show()\n",
    "\n",
    "\n",
    "\n",
    "# Print the fitted parameters (a, k)\n",
    "# print(f\"Empirical scaling: T(n) = {popt[0]:.2f} * n^{popt[1]:.2f}\")\n",
    "\n",
    "# fig.savefig(\"runtime_SC_code_repeat_200_N_10__5.pdf\",bbox_inches='tight')\n",
    "fig.savefig(\"new_runtime_400_averages.pdf\",bbox_inches='tight')\n",
    "\n"
   ]
  },
  {
   "cell_type": "code",
   "execution_count": 23,
   "id": "ad193670",
   "metadata": {},
   "outputs": [
    {
     "data": {
      "text/plain": [
       "array([0.00424082, 1.22454609])"
      ]
     },
     "execution_count": 23,
     "metadata": {},
     "output_type": "execute_result"
    }
   ],
   "source": [
    "popt"
   ]
  },
  {
   "cell_type": "code",
   "execution_count": 11,
   "id": "b52bae7c",
   "metadata": {},
   "outputs": [],
   "source": [
    "with open(\"average_time_400_repeat.txt\", \"w\") as file:\n",
    "    file.write(str(TIMES))\n",
    "with open(\"std_error_time_400_repeat.txt\", \"w\") as file:\n",
    "    file.write(str(std_error))    \n",
    " "
   ]
  },
  {
   "cell_type": "code",
   "execution_count": null,
   "id": "abae0fd6",
   "metadata": {},
   "outputs": [],
   "source": []
  }
 ],
 "metadata": {
  "kernelspec": {
   "display_name": "noise_est",
   "language": "python",
   "name": "python3"
  },
  "language_info": {
   "codemirror_mode": {
    "name": "ipython",
    "version": 3
   },
   "file_extension": ".py",
   "mimetype": "text/x-python",
   "name": "python",
   "nbconvert_exporter": "python",
   "pygments_lexer": "ipython3",
   "version": "3.11.6"
  }
 },
 "nbformat": 4,
 "nbformat_minor": 5
}
