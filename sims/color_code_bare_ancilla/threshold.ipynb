{
 "cells": [
  {
   "cell_type": "code",
   "execution_count": 2,
   "id": "771be44d",
   "metadata": {},
   "outputs": [],
   "source": [
    "#Run this to troubleshoot some problem with the cairo library (happens in macos)\n",
    "#Also, need to add to settings.json the following:\n",
    "#\"terminal.integrated.env.osx\": {\n",
    "#     \"DYLD_LIBRARY_PATH\": \"/opt/homebrew/opt/cairo/lib:${env:DYLD_LIBRARY_PATH}\"\n",
    "# },\n",
    "\n",
    "import os\n",
    "os.environ['DYLD_LIBRARY_PATH'] = '/opt/homebrew/opt/cairo/lib:$DYLD_LIBRARY_PATH'\n"
   ]
  },
  {
   "cell_type": "code",
   "execution_count": null,
   "id": "6f4b3ec8",
   "metadata": {},
   "outputs": [],
   "source": []
  },
  {
   "cell_type": "code",
   "execution_count": 2,
   "id": "30925d74",
   "metadata": {},
   "outputs": [],
   "source": [
    "import sys\n",
    "sys.path.append('/Users/evatakou/noise_est')\n",
    "# from color_code_stim import *\n",
    "from color_code_stim_copy import *\n",
    "from noise_est_funcs_for_color_code import *\n",
    "from utilities_for_color_code import *\n",
    "from numerical_equations_for_color_code import *\n",
    "\n",
    "import matplotlib.pyplot as plt \n",
    "import pymatching \n",
    "from pymatching import Matching \n",
    "from utilities_for_color_code import *\n",
    "from construct_dem import *\n",
    "from defects_matrix_construction import *\n"
   ]
  },
  {
   "cell_type": "code",
   "execution_count": null,
   "id": "62113a04",
   "metadata": {},
   "outputs": [
    {
     "ename": "TypeError",
     "evalue": "to_circuit(): incompatible function arguments. The following argument types are supported:\n    1. (self: stim._stim_polyfill.Tableau, method: str = 'elimination') -> stim._stim_polyfill.Circuit\n\nInvoked with: ",
     "output_type": "error",
     "traceback": [
      "\u001b[31m---------------------------------------------------------------------------\u001b[39m",
      "\u001b[31mTypeError\u001b[39m                                 Traceback (most recent call last)",
      "\u001b[36mCell\u001b[39m\u001b[36m \u001b[39m\u001b[32mIn[34]\u001b[39m\u001b[32m, line 1\u001b[39m\n\u001b[32m----> \u001b[39m\u001b[32m1\u001b[39m \u001b[43mstim\u001b[49m\u001b[43m.\u001b[49m\u001b[43mTableau\u001b[49m\u001b[43m.\u001b[49m\u001b[43mto_circuit\u001b[49m\u001b[43m(\u001b[49m\u001b[43m)\u001b[49m\n",
      "\u001b[31mTypeError\u001b[39m: to_circuit(): incompatible function arguments. The following argument types are supported:\n    1. (self: stim._stim_polyfill.Tableau, method: str = 'elimination') -> stim._stim_polyfill.Circuit\n\nInvoked with: "
     ]
    }
   ],
   "source": [
    "stim.Tableau.to_stabilizers()"
   ]
  },
  {
   "cell_type": "code",
   "execution_count": 14,
   "id": "80647882",
   "metadata": {},
   "outputs": [
    {
     "name": "stdout",
     "output_type": "stream",
     "text": [
      "+-xz-xz-xz-\n",
      "| ++ -+ ++\n",
      "| YX _Z _X\n",
      "| XZ ZY YZ\n",
      "| YZ Z_ X_\n"
     ]
    },
    {
     "data": {
      "text/plain": [
       "[stim.PauliString(\"+XZZ\"), stim.PauliString(\"+ZY_\"), stim.PauliString(\"+XZ_\")]"
      ]
     },
     "execution_count": 14,
     "metadata": {},
     "output_type": "execute_result"
    }
   ],
   "source": [
    "T=stim.Tableau.random(3)\n",
    "print(T)\n",
    "T.to_stabilizers()"
   ]
  },
  {
   "cell_type": "code",
   "execution_count": 33,
   "id": "b2dfaf86",
   "metadata": {},
   "outputs": [
    {
     "data": {
      "text/plain": [
       "[(stim.PauliString(\"+Z_X\"), stim.PauliString(\"+__Z\"))]"
      ]
     },
     "execution_count": 33,
     "metadata": {},
     "output_type": "execute_result"
    }
   ],
   "source": [
    "get_observables([stim.PauliString(\"+XZZ\"), stim.PauliString(\"+ZY_\")])"
   ]
  },
  {
   "cell_type": "code",
   "execution_count": 25,
   "id": "0630c7aa",
   "metadata": {},
   "outputs": [
    {
     "data": {
      "text/plain": [
       "[(stim.PauliString(\"+XXX\"), stim.PauliString(\"+__Z\"))]"
      ]
     },
     "execution_count": 25,
     "metadata": {},
     "output_type": "execute_result"
    }
   ],
   "source": [
    "def get_observables(\n",
    "    stabilizers: list[stim.PauliString],\n",
    ") -> list[tuple[stim.PauliString, stim.PauliString]]:\n",
    "    completed_tableau = stim.Tableau.from_stabilizers(\n",
    "        stabilizers,\n",
    "        allow_redundant=True,\n",
    "        allow_underconstrained=True,\n",
    "    )\n",
    "\n",
    "    observables = []\n",
    "    for k in range(len(completed_tableau))[::-1]:\n",
    "        z = completed_tableau.z_output(k)\n",
    "        if z in stabilizers:\n",
    "            break\n",
    "        x = completed_tableau.x_output(k)\n",
    "        observables.append((x, z))\n",
    "\n",
    "    return observables\n",
    "\n",
    "get_observables([stim.PauliString(\"ZZI\"),\n",
    "    stim.PauliString(\"IZZ\"),\n",
    "])"
   ]
  },
  {
   "cell_type": "code",
   "execution_count": 19,
   "id": "c92c9d76",
   "metadata": {},
   "outputs": [
    {
     "data": {
      "text/plain": [
       "[stim.PauliString(\"+ZZ_\"), stim.PauliString(\"+_ZZ\"), stim.PauliString(\"+ZZZ\")]"
      ]
     },
     "execution_count": 19,
     "metadata": {},
     "output_type": "execute_result"
    }
   ],
   "source": [
    "# T=stim.TableauSimulator()\n",
    "T=stim.Tableau.from_stabilizers([\n",
    "    stim.PauliString(\"ZZI\"),\n",
    "    stim.PauliString(\"IZZ\"),\n",
    "    stim.PauliString(\"ZZZ\")])\n",
    "\n",
    "T.to_stabilizers()\n",
    "\n",
    "# get_observables(T.to_stabilizers())"
   ]
  },
  {
   "cell_type": "code",
   "execution_count": null,
   "id": "56027d0e",
   "metadata": {},
   "outputs": [],
   "source": [
    "#W/ Parallel processing\n",
    "\n",
    "from joblib import Parallel, delayed\n",
    "\n",
    "def compare_logical_error_rate(d,p_circuit,num_shots_for_est,num_shots):\n",
    "\n",
    "    num_rounds = d\n",
    "    obj        = ColorCode(d=d,rounds=num_rounds,p_circuit=p_circuit) ##p_cnot=0,p_bitflip=0.01, p_circuit=1e-2 ,\n",
    "    circuit    = obj.circuit\n",
    " \n",
    "    # num_ancilla   = len(obj.qubit_groups['anc'])\n",
    "    Z_dets,X_dets = get_Z_X_det_nodes(obj,num_rounds)\n",
    "    Z_DEM,X_DEM   = decompose_org_DEM_into_ZX_DEMs(circuit,Z_dets,X_dets)\n",
    "\n",
    "    dems_stim                     = {}\n",
    "\n",
    "    for color in [\"r\", \"g\", \"b\"]: \n",
    "        # dem1,dem2        = obj.get_decomposed_dems(color)\n",
    "        dem1,dem2= obj.decompose_detector_error_model([],color)\n",
    "        dems_stim[color] = dem1, dem2  # stim.DetectorErrorModel    \n",
    "\n",
    "    # for color in [\"r\", \"g\", \"b\"]: \n",
    "    #     dem1,dem2        = obj.get_decomposed_dems(color)\n",
    "    #     dems_stim[color] = dem1, dem2  # stim.DetectorErrorModel\n",
    "\n",
    "\n",
    "    #------- Estimation -------------------------------------\n",
    "\n",
    "    defects_matrix_Z,defects_matrix_X,data_qubit_samples,Z_ANC_QUBITS,X_ANC_QUBITS=get_defects(circuit,num_rounds,num_shots_for_est,obj)\n",
    "\n",
    "\n",
    "    min_bound = 1e-12\n",
    "    max_bound = 0.6 \n",
    "    method    =  \"least_squares\"  #minimize method does not work well\n",
    "\n",
    "    vi_mean_Z      = avg_vi(defects_matrix_Z)\n",
    "    vivj_mean_Z    = avg_vivj(defects_matrix_Z.data)\n",
    "    p3_cnts_for_Z  = get_3_pnt_events_Z_DEM(defects_matrix_Z,obj,Z_DEM)\n",
    "    detector_type  = \"Z\"\n",
    "    vijk_for_Z     = get_vijk(p3_cnts_for_Z,num_rounds,vi_mean_Z,vivj_mean_Z,obj,detector_type)\n",
    "    sols_for_Z     = solve_for_probs(min_bound,max_bound,method,vijk_for_Z)\n",
    "\n",
    "    if len(defects_matrix_X)>0: #non-empty\n",
    "\n",
    "        vi_mean_X      = avg_vi(defects_matrix_X)\n",
    "        vivj_mean_X    = avg_vivj(defects_matrix_X.data)\n",
    "        p3_cnts_for_X  = get_3_pnt_events_X_DEM(defects_matrix_X,obj,X_DEM,num_rounds)\n",
    "        detector_type  = \"X\"\n",
    "        vijk_for_X     = get_vijk(p3_cnts_for_X,num_rounds,vi_mean_X,vivj_mean_X,obj,detector_type)\n",
    "        sols_for_X     = solve_for_probs(min_bound,max_bound,method,vijk_for_X)\n",
    "\n",
    "\n",
    "    sols_for_defect_type           = sols_for_Z\n",
    "    vi_mean                        = vi_mean_Z \n",
    "    vivj_mean                      = vivj_mean_Z \n",
    "    stims_DEM                      = Z_DEM \n",
    "    defects_type                   = \"Z\"\n",
    "    pij_bulk,pij_time,pij_bd,p3    = estimate_all_edges_for_defect_type(sols_for_defect_type,obj,num_rounds,vi_mean,vivj_mean,stims_DEM,defects_type)\n",
    "\n",
    "    \n",
    "    \n",
    "    error_events_in_Z_DEM,my_Z_DEM = create_Z_DEM(pij_bd,pij_bulk,pij_time,p3,Z_DEM)\n",
    "\n",
    "    if len(defects_matrix_X)>0:\n",
    "\n",
    "        sols_for_defect_type           = sols_for_X\n",
    "        vi_mean                        = vi_mean_X \n",
    "        vivj_mean                      = vivj_mean_X \n",
    "        stims_DEM                      = X_DEM \n",
    "        defects_type                   = \"X\"\n",
    "        pij_bulk,pij_time,pij_bd,p3    = estimate_all_edges_for_defect_type(sols_for_defect_type,obj,num_rounds,vi_mean,vivj_mean,stims_DEM,defects_type)\n",
    "        error_events_in_X_DEM,my_X_DEM = create_X_DEM(pij_bd,pij_bulk,pij_time,p3,X_DEM)\n",
    "    else:\n",
    "        my_X_DEM={}\n",
    "\n",
    "    r_only_DEM_mine,r_restricted_DEM_mine=create_lattices('r',my_Z_DEM,my_X_DEM,obj)\n",
    "    b_only_DEM_mine,b_restricted_DEM_mine=create_lattices('b',my_Z_DEM,my_X_DEM,obj)\n",
    "    g_only_DEM_mine,g_restricted_DEM_mine=create_lattices('g',my_Z_DEM,my_X_DEM,obj)\n",
    "\n",
    "    dems_mine      = {}\n",
    "    dems_mine['r'] = [r_restricted_DEM_mine,r_only_DEM_mine]\n",
    "    dems_mine['b'] = [b_restricted_DEM_mine,b_only_DEM_mine]\n",
    "    dems_mine['g'] = [g_restricted_DEM_mine,g_only_DEM_mine]\n",
    "\n",
    "    #Find the detector coordinates and pass them to my dems\n",
    "\n",
    "    for color in ['r','b','g']:\n",
    "\n",
    "        for j in range(2):\n",
    "\n",
    "            temp = dems_stim[color][j]\n",
    "            \n",
    "            for instruction in temp:\n",
    "                if instruction.type==\"error\":\n",
    "                    continue \n",
    "                else:\n",
    "                    \n",
    "                    dems_mine[color][j].append(instruction)\n",
    "\n",
    "    # num_shots = 10**7\n",
    "    det, obs  = obj.sample(num_shots)\n",
    "    preds_obs = obj.decode(det, dems_stim, verbose=False)\n",
    "\n",
    "    fails_stim = np.logical_xor(obs, preds_obs)\n",
    "    preds_obs  = obj.decode(det, dems_mine, verbose=False)\n",
    "    fails_mine = np.logical_xor(obs, preds_obs)\n",
    "\n",
    "\n",
    "    stims_LE = sum(fails_stim)/num_shots\n",
    "    my_LE    = sum(fails_mine)/num_shots\n",
    "\n",
    "    return stims_LE,my_LE\n",
    "\n",
    "def get_logical_error_rate_vs_p_and_d(num_shots_for_est, num_shots, n_jobs=-1):\n",
    "\n",
    "    Ls = [5, 7,9,11 ] \n",
    "    ps = [2e-4, 5e-4, 2.5e-3, 5e-3, 1e-2]\n",
    "\n",
    "    error_per_d_stim = []\n",
    "    error_per_d_mine = []\n",
    "\n",
    "    for d in Ls:\n",
    "        print(f\"Running d = {d} ...\")\n",
    "\n",
    "        # Wrap one (d, p_circuit) pair into a function for parallelization\n",
    "        def run_for_p(p_circuit):\n",
    "            print(f\"---Running p = {p_circuit} ...\")\n",
    "            stims_LE, my_LE = compare_logical_error_rate(d, p_circuit, num_shots_for_est, num_shots)\n",
    "            print(f\"---Done p = {p_circuit}\")\n",
    "            return stims_LE, my_LE\n",
    "\n",
    "        # Run in parallel across different p values for the same d\n",
    "        results = Parallel(n_jobs=n_jobs)(\n",
    "            delayed(run_for_p)(p) for p in ps\n",
    "        )\n",
    "\n",
    "        # Collect results\n",
    "        error_per_p_stim = [res[0] for res in results]\n",
    "        error_per_p_mine = [res[1] for res in results]\n",
    "\n",
    "        error_per_d_stim.append(error_per_p_stim)\n",
    "        error_per_d_mine.append(error_per_p_mine)\n",
    "\n",
    "        print(f\"Done d = {d}\")\n",
    "\n",
    "    return Ls, ps, error_per_d_stim, error_per_d_mine\n",
    "\n",
    "\n",
    "num_shots_for_est                       = 10**6\n",
    "num_shots                               = 10**6\n",
    "Ls,ps,error_per_d_stim,error_per_d_mine = get_logical_error_rate_vs_p_and_d(num_shots_for_est,num_shots)\n"
   ]
  },
  {
   "cell_type": "code",
   "execution_count": null,
   "id": "fedd9eba",
   "metadata": {},
   "outputs": [
    {
     "data": {
      "text/plain": [
       "([<matplotlib.axis.XTick at 0x153a5ff90>,\n",
       "  <matplotlib.axis.XTick at 0x153ceaf50>,\n",
       "  <matplotlib.axis.XTick at 0x153da9450>,\n",
       "  <matplotlib.axis.XTick at 0x153d97950>],\n",
       " [Text(0.0005, 0, '5$\\\\times 10^{-4}$'),\n",
       "  Text(0.002, 0, '2$\\\\times 10^{-3}$'),\n",
       "  Text(0.005, 0, '5$\\\\times 10^{-3}$'),\n",
       "  Text(0.01, 0, '$10^{-2}$')])"
      ]
     },
     "execution_count": 3,
     "metadata": {},
     "output_type": "execute_result"
    },
    {
     "data": {
      "image/png": "[encoded data removed]",
      "text/plain": [
       "<Figure size 640x480 with 1 Axes>"
      ]
     },
     "metadata": {},
     "output_type": "display_data"
    }
   ],
   "source": [
    "#Plot our results\n",
    "from matplotlib import pyplot as plt \n",
    "import matplotlib\n",
    "fig, ax = plt.subplots()\n",
    "\n",
    "matplotlib.rcParams.update({'font.size': 17})\n",
    "plt.rcParams[\"font.family\"] = \"Microsoft Sans Serif\"    \n",
    "\n",
    "\n",
    "colors = ['tab:blue','tab:orange','tab:green','tab:cyan','tab:purple']\n",
    "\n",
    "cnt = 0\n",
    "for L in Ls:\n",
    "    \n",
    "    plt.plot(ps,error_per_d_stim[cnt],marker='s',linestyle=':',color=colors[cnt]\n",
    "                    ,linewidth=3,markeredgecolor='black',\n",
    "                    markersize=9,alpha=0.5)\n",
    "    plt.plot(ps,error_per_d_mine[cnt],marker='*',color=colors[cnt],\n",
    "                    markersize=9,markeredgecolor='black',markerfacecolor='white')\n",
    "    \n",
    "    # plt.plot(ps,rel_err_all[cnt],marker='s')\n",
    "    cnt+=1\n",
    "\n",
    "    plt.legend([\"$d=5$ (stim)\",\"$d=5$ (our DEM)\",\n",
    "                \"$d=7$ (stim)\",\"$d=7$ (our DEM)\",\n",
    "                \"$d=9$ (stim)\",\"$d=9$ (our DEM)\",\n",
    "                \"$d=11$ (stim)\",\"$d=11$ (our DEM)\"],\n",
    "                frameon=False,\n",
    "                 shadow=True,\n",
    "                 fontsize=15)\n",
    "    \n",
    "plt.xlabel(\"physical error rate\")\n",
    "plt.ylabel(\"logical error rate\")\n",
    "plt.yscale('log')\n",
    "plt.xscale('log')\n",
    "plt.xticks(ticks=[5e-4,\n",
    "                  2e-3,\n",
    "                  5e-3,\n",
    "                  1e-2],\n",
    "        labels=[ r\"5$\\times 10^{-4}$\",\n",
    "                r\"2$\\times 10^{-3}$\",\n",
    "                r\"5$\\times 10^{-3}$\",                      \n",
    "                \"$10^{-2}$\",])\n",
    "\n",
    "\n",
    "# fig.savefig(\"threshold.pdf\",bbox_inches='tight')\n"
   ]
  },
  {
   "cell_type": "code",
   "execution_count": null,
   "id": "24dcaa18",
   "metadata": {},
   "outputs": [],
   "source": [
    "with open(\"stims_LE_threshold.txt\", \"w\") as file:\n",
    "    file.write(str(error_per_d_stim))\n",
    "with open(\"all_errors_my_DEM.txt\", \"w\") as file:\n",
    "    file.write(str(error_per_d_mine))    \n",
    "with open(\"ps_threshold.txt\", \"w\") as file:\n",
    "    file.write(str(ps))   \n",
    "with open(\"Ls_threshold.txt\", \"w\") as file:\n",
    "    file.write(str(Ls))   \n",
    "    "
   ]
  }
 ],
 "metadata": {
  "kernelspec": {
   "display_name": "noise_est",
   "language": "python",
   "name": "python3"
  },
  "language_info": {
   "codemirror_mode": {
    "name": "ipython",
    "version": 3
   },
   "file_extension": ".py",
   "mimetype": "text/x-python",
   "name": "python",
   "nbconvert_exporter": "python",
   "pygments_lexer": "ipython3",
   "version": "3.11.6"
  }
 },
 "nbformat": 4,
 "nbformat_minor": 5
}
