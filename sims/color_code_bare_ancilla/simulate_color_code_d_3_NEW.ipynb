{
 "cells": [
  {
   "cell_type": "markdown",
   "metadata": {},
   "source": [
    "Apply the 3-pnt method to reconstruct the majority of the edges/hyper-edges\n",
    "and then solve equations for the boundary nodes."
   ]
  },
  {
   "cell_type": "code",
   "execution_count": 5,
   "metadata": {},
   "outputs": [],
   "source": [
    "import sys\n",
    "sys.path.append('/Users/evatakou/noise_est')\n",
    "from color_code_stim import *\n",
    "from noise_est_funcs_for_color_code import *\n",
    "from utilities_for_color_code import *\n",
    "from numerical_equations_for_color_code import *\n",
    "from equations_for_d_3 import *\n",
    "\n",
    "\n",
    "\n",
    "# from sims.color_code.noise_est_funcs_for_color_code import *\n",
    "# from numerical_equations_for_color_code import *\n",
    "import matplotlib.pyplot as plt \n",
    "\n",
    "import pymatching \n",
    "from pymatching import Matching \n",
    "\n",
    "import time\n"
   ]
  },
  {
   "cell_type": "code",
   "execution_count": 19,
   "metadata": {},
   "outputs": [],
   "source": [
    "d          = 3\n",
    "num_rounds = 1\n",
    "\n",
    "\n",
    "p_circuit  = 1e-3\n",
    "obj        = ColorCode(d=d,rounds=num_rounds,p_circuit=p_circuit) ##p_cnot=0,p_bitflip=0.01, p_circuit=1e-2 ,\n",
    "circuit    = obj.circuit\n",
    "nodes      =  collect_color_of_nodes(obj)\n",
    "# circuit.diagram(\"timeline-svg\")\n"
   ]
  },
  {
   "cell_type": "code",
   "execution_count": 20,
   "metadata": {},
   "outputs": [],
   "source": [
    "num_ancilla   = len(obj.qubit_groups['anc'])\n",
    "Z_dets,X_dets = get_Z_X_det_nodes(obj,num_rounds)\n",
    "Z_DEM,X_DEM   = decompose_org_DEM_into_ZX_DEMs(circuit,Z_dets,X_dets)\n",
    "#TODO: Fix the instructions of detectors inside of the DEMs when we separate them into Z and X type."
   ]
  },
  {
   "cell_type": "code",
   "execution_count": 21,
   "metadata": {},
   "outputs": [],
   "source": [
    "dems_stim                     = {}\n",
    "ORG_DEM                       = []\n",
    "pauli_decomposed_targets_dict = {}\n",
    "pauli_decomposed_probs_dict   = {}\n",
    "\n",
    "for color in [\"r\", \"g\", \"b\"]: \n",
    "    pauli_decomposed_targets_dict[color],pauli_decomposed_probs_dict[color],dem1, dem2 = obj.decompose_detector_error_model(ORG_DEM,color)\n",
    "    dems_stim[color] = dem1, dem2  # stim.DetectorErrorModel\n",
    "    "
   ]
  },
  {
   "cell_type": "code",
   "execution_count": 7,
   "metadata": {},
   "outputs": [
    {
     "data": {
      "text/plain": [
       "{'r': ['D2', 'D5'], 'g': ['D0', 'D3'], 'b': ['D1', 'D4']}"
      ]
     },
     "execution_count": 7,
     "metadata": {},
     "output_type": "execute_result"
    }
   ],
   "source": [
    "nodes"
   ]
  },
  {
   "cell_type": "code",
   "execution_count": 8,
   "metadata": {},
   "outputs": [
    {
     "data": {
      "text/plain": [
       "stim.DetectorErrorModel('''\n",
       "    error(0.00504495) D11\n",
       "    error(0.00504495) D2 D5\n",
       "    error(0.00504495) D8\n",
       "    error(0.00484654) D5\n",
       "    error(0.00471432) D5 D14\n",
       "    error(0.00458224) D7 L0\n",
       "    error(0.00405306) D12 L0\n",
       "    error(0.00352348) D14 L0\n",
       "    error(0.00339091) D5 D12\n",
       "    error(0.00325848) D9 L0\n",
       "    error(0.00286063) D13 L0\n",
       "    error(0.00272788) D5 D13\n",
       "    error(0.00266116) D10 L0\n",
       "    error(0.00259527) D2 D7\n",
       "    error(0.00193118) D2 D6\n",
       "    error(0.00193118) D2\n",
       "    error(0.00133227) D5 D9\n",
       "    error(0.0012662) D2 D9\n",
       "    error(0.0012662) D6 L0\n",
       "    error(0.00119929) D9\n",
       "    error(0.000799787) D5 D10\n",
       "    error(0.000799787) D2 D10\n",
       "    error(0.000799787) D2 D12\n",
       "    error(0.000533333) D2 L0\n",
       "    error(0.000533333) D5 L0\n",
       "    detector(3.5, 0, 0) D0\n",
       "    detector(0.5, 1, 0) D1\n",
       "    detector(3.5, 2, 0) D2\n",
       "    shift_detectors(0, 0, 1) 0\n",
       "    detector(3.5, 0, 0) D3\n",
       "    detector(0.5, 1, 0) D4\n",
       "    detector(3.5, 2, 0) D5\n",
       "''')"
      ]
     },
     "execution_count": 8,
     "metadata": {},
     "output_type": "execute_result"
    }
   ],
   "source": [
    "dems_stim['r'][1]"
   ]
  },
  {
   "cell_type": "code",
   "execution_count": 9,
   "metadata": {},
   "outputs": [],
   "source": [
    "dets_Z,dets_X = get_Z_X_det_nodes_as_rd_anc_pairs_dict(obj,num_rounds)\n"
   ]
  },
  {
   "cell_type": "code",
   "execution_count": 72,
   "metadata": {},
   "outputs": [],
   "source": [
    "num_shots = 2*10**7\n",
    "defects_matrix_Z,defects_matrix_X,data_qubit_samples,Z_ANC_QUBITS,X_ANC_QUBITS = get_defects(circuit,num_rounds,num_shots,obj)\n",
    "\n",
    "obs_flips = get_observable_flips(data_qubit_samples,d)\n",
    "\n",
    "min_bound = 1e-12\n",
    "max_bound = 0.6              #Sometimes solutions for the 3 pnt-event are sensitive to the bounds...\n",
    "method    = \"least_squares\"  #minimize method is not reliable...\n",
    "\n",
    "vi_mean_Z   = avg_vi(defects_matrix_Z)\n",
    "vivj_mean_Z = avg_vivj(defects_matrix_Z.data)\n"
   ]
  },
  {
   "cell_type": "code",
   "execution_count": 73,
   "metadata": {},
   "outputs": [],
   "source": [
    "p3_cnts_for_Z  = get_3_pnt_events_only_Z_new(defects_matrix_Z,obj,Z_DEM)\n",
    "detector_type  = \"Z\"\n",
    "vijk_for_Z     = get_vijk_new(p3_cnts_for_Z,num_rounds,vi_mean_Z,vivj_mean_Z,obj,detector_type)\n",
    "sols_for_Z     = solve_for_probs(min_bound,max_bound,method,vijk_for_Z)\n",
    "\n",
    "if len(defects_matrix_X)>0: #non-empty\n",
    "\n",
    "    vi_mean_X      = avg_vi(defects_matrix_X) \n",
    "    vivj_mean_X    = avg_vivj(defects_matrix_X) \n",
    "    p3_cnts_for_X  = get_3_pnt_events_only_X_new(defects_matrix_X,obj,X_DEM,num_rounds) \n",
    "    detector_type  = \"X\" \n",
    "    vijk_for_X     = get_vijk_new(p3_cnts_for_X,num_rounds,vi_mean_X,vivj_mean_X,obj,detector_type) \n",
    "    sols_for_X     = solve_for_probs(min_bound,max_bound,method,vijk_for_X) \n"
   ]
  },
  {
   "cell_type": "code",
   "execution_count": 74,
   "metadata": {},
   "outputs": [],
   "source": [
    "#Get the edges for the Z_DEM\n",
    "sols_for_defect_type           = sols_for_Z    \n",
    "vi_mean                        = vi_mean_Z  \n",
    "vivj_mean                      = vivj_mean_Z     \n",
    "stims_DEM                      = Z_DEM    \n",
    "defects_type                   = \"Z\" \n",
    "pij_bulk,pij_time,pij_bd,p3    = estimate_all_edges_for_defect_type(sols_for_defect_type,obj,num_rounds,vi_mean,vivj_mean,stims_DEM,defects_type) \n",
    "error_events_in_Z_DEM,my_Z_DEM = create_Z_DEM(pij_bd,pij_bulk,pij_time,p3,Z_DEM) \n",
    "\n"
   ]
  },
  {
   "cell_type": "code",
   "execution_count": 75,
   "metadata": {},
   "outputs": [],
   "source": [
    "def append_L0_to_edges(Z_DEM,pij_time,pij_bulk,pij_bd):\n",
    "\n",
    "    pij_time_new = {}\n",
    "    pij_bulk_new = {}\n",
    "    pij_bd_new   = {}\n",
    "\n",
    "    for instruction in Z_DEM:\n",
    "\n",
    "        if instruction.type==\"error\":\n",
    "\n",
    "            targets   = instruction.targets_copy()\n",
    "            dets      = []\n",
    "            dets_w_L0 = []\n",
    "\n",
    "            for target in targets:\n",
    "                if target.is_relative_detector_id():\n",
    "                    id = target.val \n",
    "                    dets.append(\"D\"+str(id))\n",
    "                    dets_w_L0.append(\"D\"+str(id))\n",
    "                else:\n",
    "                    dets_w_L0.append(\"L0\")\n",
    "            \n",
    "            if tuple(dets) in pij_bulk.keys():\n",
    "                pij_bulk_new[tuple(dets_w_L0)] = pij_bulk[tuple(dets)]\n",
    "            \n",
    "            if tuple(dets) in pij_time.keys():\n",
    "                pij_time_new[tuple(dets_w_L0)] = pij_time[tuple(dets)]\n",
    "            \n",
    "           \n",
    "            if len(dets)==1:\n",
    "                    \n",
    "                pij_bd_new[tuple(dets_w_L0)] = pij_bd[dets[0]]\n",
    "\n",
    "\n",
    "    #Now put the new boundaries, by keeping only those with definite values:\n",
    "\n",
    "            \n",
    "    return pij_time_new,pij_bulk_new,pij_bd_new\n",
    "\n",
    "pij_time,pij_bulk,pij_bd = append_L0_to_edges(Z_DEM,pij_time,pij_bulk,pij_bd)\n",
    "\n"
   ]
  },
  {
   "cell_type": "code",
   "execution_count": 76,
   "metadata": {},
   "outputs": [
    {
     "name": "stdout",
     "output_type": "stream",
     "text": [
      "eq: 0.946930802249863*pD1L0*(1 - pD2L0)*(1 - pD5L0)*(-(0.00246072994394786 - pD2L0)/(1 - 2*pD2L0) + 1)*(-(0.00441901315070314 - pD1L0)/(1 - 2*pD1L0) + 1)*(-(0.0053388698817956 - pD5L0)/(1 - 2*pD5L0) + 1) + 0.00118895608330277*pD2L0*(1 - pD1L0)*(1 - pD5L0)*(-(0.00246072994394786 - pD2L0)/(1 - 2*pD2L0) + 1)*(-(0.00441901315070314 - pD1L0)/(1 - 2*pD1L0) + 1)*(-(0.0053388698817956 - pD5L0)/(1 - 2*pD5L0) + 1) + 0.00124912373366521*pD5L0*(1 - pD1L0)*(1 - pD2L0)*(-(0.00246072994394786 - pD2L0)/(1 - 2*pD2L0) + 1)*(-(0.00441901315070314 - pD1L0)/(1 - 2*pD1L0) + 1)*(-(0.0053388698817956 - pD5L0)/(1 - 2*pD5L0) + 1) + 1.6975775142232e-5*(1 - pD1L0)*(1 - pD2L0)*(1 - pD5L0)*(-(0.00246072994394786 - pD2L0)/(1 - 2*pD2L0) + 1)*(-(0.00441901315070314 - pD1L0)/(1 - 2*pD1L0) + 1)*(-(0.0053388698817956 - pD5L0)/(1 - 2*pD5L0) + 1) - 0.0030531000000016\n",
      "eq: 0.00118895608330277*pD1L0*(1 - pD2L0)*(1 - pD5L0)*(-(0.00246072994394786 - pD2L0)/(1 - 2*pD2L0) + 1)*(-(0.00441901315070314 - pD1L0)/(1 - 2*pD1L0) + 1)*(-(0.0053388698817956 - pD5L0)/(1 - 2*pD5L0) + 1) + 0.946930802249863*pD2L0*(1 - pD1L0)*(1 - pD5L0)*(-(0.00246072994394786 - pD2L0)/(1 - 2*pD2L0) + 1)*(-(0.00441901315070314 - pD1L0)/(1 - 2*pD1L0) + 1)*(-(0.0053388698817956 - pD5L0)/(1 - 2*pD5L0) + 1) + 0.00484035231926109*pD5L0*(1 - pD1L0)*(1 - pD2L0)*(-(0.00246072994394786 - pD2L0)/(1 - 2*pD2L0) + 1)*(-(0.00441901315070314 - pD1L0)/(1 - 2*pD1L0) + 1)*(-(0.0053388698817956 - pD5L0)/(1 - 2*pD5L0) + 1) + 1.87602578919371e-5*(1 - pD1L0)*(1 - pD2L0)*(1 - pD5L0)*(-(0.00246072994394786 - pD2L0)/(1 - 2*pD2L0) + 1)*(-(0.00441901315070314 - pD1L0)/(1 - 2*pD1L0) + 1)*(-(0.0053388698817956 - pD5L0)/(1 - 2*pD5L0) + 1) - 0.0005255499999999\n",
      "eq: 0.00124912373366521*pD1L0*(1 - pD2L0)*(1 - pD5L0)*(-(0.00246072994394786 - pD2L0)/(1 - 2*pD2L0) + 1)*(-(0.00441901315070314 - pD1L0)/(1 - 2*pD1L0) + 1)*(-(0.0053388698817956 - pD5L0)/(1 - 2*pD5L0) + 1) + 0.00484035231926109*pD2L0*(1 - pD1L0)*(1 - pD5L0)*(-(0.00246072994394786 - pD2L0)/(1 - 2*pD2L0) + 1)*(-(0.00441901315070314 - pD1L0)/(1 - 2*pD1L0) + 1)*(-(0.0053388698817956 - pD5L0)/(1 - 2*pD5L0) + 1) + 0.946930802249863*pD5L0*(1 - pD1L0)*(1 - pD2L0)*(-(0.00246072994394786 - pD2L0)/(1 - 2*pD2L0) + 1)*(-(0.00441901315070314 - pD1L0)/(1 - 2*pD1L0) + 1)*(-(0.0053388698817956 - pD5L0)/(1 - 2*pD5L0) + 1) + 3.83692555820084e-5*(1 - pD1L0)*(1 - pD2L0)*(1 - pD5L0)*(-(0.00246072994394786 - pD2L0)/(1 - 2*pD2L0) + 1)*(-(0.00441901315070314 - pD1L0)/(1 - 2*pD1L0) + 1)*(-(0.0053388698817956 - pD5L0)/(1 - 2*pD5L0) + 1) - 0.000547799999999913\n",
      "`xtol` termination condition is satisfied.\n",
      "Function evaluations 24, initial cost 1.0176e-04, final cost 0.0000e+00, first-order optimality 2.28e-13.\n"
     ]
    }
   ],
   "source": [
    "max_order         = 2\n",
    "sols,pij_bd_final = form_equations_for_all_boundaries_not_other_nodes_least_squares_V2(pij_time,pij_bulk,p3,pij_bd,\n",
    "                                                                                       defects_matrix_Z,obj,num_rounds,\n",
    "                                                                                       obs_flips,max_order,Z_DEM)\n"
   ]
  },
  {
   "cell_type": "code",
   "execution_count": 77,
   "metadata": {},
   "outputs": [],
   "source": [
    "def update_bd_edges(pij_bd,pij_bd_final):\n",
    "\n",
    "    for key in pij_bd_final.keys():\n",
    "\n",
    "        pij_bd[key]=pij_bd_final[key]\n",
    "\n",
    "    return pij_bd\n",
    "    \n",
    "pij_bd = update_bd_edges(pij_bd,pij_bd_final)    \n",
    "\n"
   ]
  },
  {
   "cell_type": "code",
   "execution_count": 78,
   "metadata": {},
   "outputs": [],
   "source": [
    "#Now construct the new_Z_DEM\n",
    "\n",
    "def construct_Z_DEM_final(pij_bd_final,p3,pij_time_new,pij_bulk_new):\n",
    "\n",
    "    my_Z_DEM = stim.DetectorErrorModel()\n",
    "\n",
    "    for key in p3.keys():\n",
    "\n",
    "        targets=[]\n",
    "        for det in key:\n",
    "            ind = int(det[1:])\n",
    "            targets.append(stim.target_relative_detector_id(ind))\n",
    "\n",
    "        my_Z_DEM.append(\"error\",p3[key],targets)\n",
    "\n",
    "\n",
    "    for key in pij_time_new.keys():\n",
    "\n",
    "        targets=[]\n",
    "        for det in key:\n",
    "            if det[0]==\"D\":\n",
    "                ind = int(det[1:])\n",
    "                targets.append(stim.target_relative_detector_id(ind))\n",
    "            else: #logical\n",
    "                targets.append(stim.target_logical_observable_id(0))\n",
    "\n",
    "        my_Z_DEM.append(\"error\",pij_time_new[key],targets)\n",
    "\n",
    "\n",
    "    for key in pij_bulk_new.keys():\n",
    "\n",
    "        targets=[]\n",
    "        for det in key:\n",
    "            if det[0]==\"D\":\n",
    "                ind = int(det[1:])\n",
    "                targets.append(stim.target_relative_detector_id(ind))\n",
    "            else: #logical\n",
    "                targets.append(stim.target_logical_observable_id(0))\n",
    "\n",
    "        my_Z_DEM.append(\"error\",pij_bulk_new[key],targets)\n",
    "\n",
    "\n",
    "    for key in pij_bd_final.keys():\n",
    "\n",
    "        targets = []\n",
    "\n",
    "        for det in key:\n",
    "\n",
    "            if det[0]==\"D\":\n",
    "                ind = int(det[1:])\n",
    "                targets.append(stim.target_relative_detector_id(ind))\n",
    "            else:\n",
    "                targets.append(stim.target_logical_observable_id(0))\n",
    "        \n",
    "        prob = pij_bd_final[key]\n",
    "        my_Z_DEM.append(\"error\",prob,targets)\n",
    "            \n",
    "\n",
    "    return my_Z_DEM\n",
    "\n",
    "my_Z_DEM = construct_Z_DEM_final(pij_bd,p3,pij_time,pij_bulk)"
   ]
  },
  {
   "cell_type": "code",
   "execution_count": null,
   "metadata": {},
   "outputs": [
    {
     "name": "stdout",
     "output_type": "stream",
     "text": [
      "bd_stim: {('D0', 'L0'): 0.004582241746532972, ('D1',): 0.0011992888888887063, ('D1', 'L0'): 0.003258480791344033, ('D2',): 0.001931182734310662, ('D2', 'L0'): 0.000533333333333148, ('D3', 'L0'): 0.004053055241335569, ('D4', 'L0'): 0.003523480286975192, ('D5',): 0.0048465350479526634, ('D5', 'L0'): 0.000533333333333148}\n",
      "bd_mine: {('D0', 'L0'): 0.004582003815904123, ('D1',): 0.0011925736920841326, ('D1', 'L0'): 0.0032341533911198397, ('D2',): 0.0019278683973293037, ('D2', 'L0'): 0.0005349240730493604, ('D3', 'L0'): 0.004046504558846364, ('D4', 'L0'): 0.003513779660761829, ('D5',): 0.004806231307826425, ('D5', 'L0'): 0.0005378082355275787}\n"
     ]
    },
    {
     "data": {
      "image/png": "[encoded data removed]",
      "text/plain": [
       "<Figure size 640x480 with 1 Axes>"
      ]
     },
     "metadata": {},
     "output_type": "display_data"
    }
   ],
   "source": [
    "#Compare the edges of the 2 DEMS\n",
    "import matplotlib\n",
    "from matplotlib import pyplot as plt \n",
    "\n",
    "def relative_error_of_edges(stims_DEM,my_DEM):\n",
    "\n",
    "    errors_in_stims_DEM = {}\n",
    "    for instruction in stims_DEM:\n",
    "        if instruction.type==\"error\":\n",
    "            \n",
    "            targets = instruction.targets_copy()\n",
    "            prob    = instruction.args_copy()[0]\n",
    "            dets    = []\n",
    "            for target in targets:\n",
    "                if target.is_relative_detector_id():\n",
    "                    id = target.val\n",
    "                    dets.append(\"D\"+str(id))\n",
    "                else:\n",
    "                    dets.append(\"L0\")\n",
    "\n",
    "            errors_in_stims_DEM[tuple(dets)]=prob\n",
    "\n",
    "    errors_in_my_DEM = {}\n",
    "\n",
    "    for instruction in my_DEM:\n",
    "        if instruction.type==\"error\":\n",
    "            \n",
    "            targets = instruction.targets_copy()\n",
    "            prob    = instruction.args_copy()[0]\n",
    "            dets    = []\n",
    "            for target in targets:\n",
    "                if target.is_relative_detector_id():\n",
    "                    id = target.val\n",
    "                    dets.append(\"D\"+str(id))\n",
    "                else:\n",
    "                    dets.append(\"L0\")\n",
    "\n",
    "            errors_in_my_DEM[tuple(dets)]=prob\n",
    "\n",
    "    rel_error_p3 = {}\n",
    "    rel_error_p2 = {}\n",
    "    rel_error_p1 = {}\n",
    "\n",
    "    bd_stim = {}\n",
    "    bd_mine = {}\n",
    "    for key in errors_in_stims_DEM.keys():\n",
    "\n",
    "        p_true  = errors_in_stims_DEM[key]\n",
    "        p_est   = errors_in_my_DEM[key]\n",
    "\n",
    "        if len(key)==3:\n",
    "            if key[1]==\"L0\":\n",
    "                rel_error_p2[key] = abs(p_true-p_est)/p_true \n",
    "            else:\n",
    "                rel_error_p3[key] = abs(p_true-p_est)/p_true \n",
    "        if len(key)==2:\n",
    "            \n",
    "            if key[1]==\"L0\":\n",
    "                \n",
    "                rel_error_p1[key] = abs(p_true-p_est)/p_true \n",
    "                bd_stim[key] = p_true \n",
    "                bd_mine[key] = p_est\n",
    "\n",
    "            else:\n",
    "                rel_error_p2[key] = abs(p_true-p_est)/p_true \n",
    "\n",
    "\n",
    "        if len(key)==1:\n",
    "            rel_error_p1[key] = abs(p_true-p_est)/p_true\n",
    "            bd_stim[key] = p_true \n",
    "            bd_mine[key] = p_est\n",
    "\n",
    "\n",
    "    return rel_error_p1, rel_error_p2, rel_error_p3, bd_stim,bd_mine\n",
    "\n",
    "rel_error_p1, rel_error_p2, rel_error_p3, bd_stim,bd_mine = relative_error_of_edges(Z_DEM,my_Z_DEM)\n",
    "\n",
    "fig, ax = plt.subplots()\n",
    "\n",
    "matplotlib.rcParams.update({'font.size': 17})\n",
    "plt.rcParams[\"font.family\"] = \"Microsoft Sans Serif\"    \n",
    "\n",
    "\n",
    "x1 = np.arange(len(rel_error_p1.keys()))\n",
    "x2 = np.arange(x1[-1]+1,len(rel_error_p2.keys())+x1[-1]+1)\n",
    "x3 = np.arange(x2[-1]+1,len(rel_error_p3.keys())+x2[-1]+1)\n",
    "\n",
    "plt.bar(x=x1,height=list(rel_error_p1.values()),\n",
    "        facecolor='dodgerblue',edgecolor='black')\n",
    "plt.bar(x=x2,height=list(rel_error_p2.values()),\n",
    "        facecolor='goldenrod',edgecolor='black')\n",
    "plt.bar(x=x3,height=list(rel_error_p3.values()),\n",
    "        facecolor='firebrick',edgecolor='black')\n",
    "\n",
    "        \n",
    "plt.legend(['boundary','bulk','3-point'],\n",
    "           frameon=False,shadow=True,fontsize=15,loc='best')\n",
    "plt.xlabel('edge index')\n",
    "plt.ylabel('Relative error')\n",
    "\n",
    "fig.savefig('bar_plot_d_3_r_1_error_1e_minus_3_N_est_2_10_7_Z_DEM_Edges.svg', format='svg', dpi=1500,bbox_inches='tight')\n",
    "\n",
    "print(\"bd_stim:\",bd_stim)\n",
    "print(\"bd_mine:\",bd_mine)"
   ]
  },
  {
   "cell_type": "code",
   "execution_count": 80,
   "metadata": {},
   "outputs": [],
   "source": [
    "#Get the edges for the X_DEM\n",
    "if len(defects_matrix_X)>0:\n",
    "\n",
    "    sols_for_defect_type           = sols_for_X\n",
    "    vi_mean                        = vi_mean_X \n",
    "    vivj_mean                      = vivj_mean_X \n",
    "    stims_DEM                      = X_DEM \n",
    "    defects_type                   = \"X\"\n",
    "    pij_bulk,pij_time,pij_bd,p3    = estimate_all_edges_for_defect_type(sols_for_defect_type,obj,num_rounds,vi_mean,vivj_mean,stims_DEM,defects_type)\n",
    "    error_events_in_X_DEM,my_X_DEM = create_X_DEM(pij_bd,pij_bulk,pij_time,p3,X_DEM)\n",
    "else:\n",
    "    my_X_DEM = {}"
   ]
  },
  {
   "cell_type": "code",
   "execution_count": null,
   "metadata": {},
   "outputs": [],
   "source": []
  },
  {
   "cell_type": "code",
   "execution_count": 22,
   "metadata": {},
   "outputs": [],
   "source": [
    "r_only_DEM_mine,r_restricted_DEM_mine=create_lattices_new('r',my_Z_DEM,my_X_DEM,obj)\n",
    "b_only_DEM_mine,b_restricted_DEM_mine=create_lattices_new('b',my_Z_DEM,my_X_DEM,obj)\n",
    "g_only_DEM_mine,g_restricted_DEM_mine=create_lattices_new('g',my_Z_DEM,my_X_DEM,obj)\n",
    "\n",
    "dems_mine      = {}\n",
    "dems_mine['r'] = [r_restricted_DEM_mine,r_only_DEM_mine]\n",
    "dems_mine['b'] = [b_restricted_DEM_mine,b_only_DEM_mine]\n",
    "dems_mine['g'] = [g_restricted_DEM_mine,g_only_DEM_mine]\n",
    "\n",
    "#Find the detector coordinates and pass them to my dems\n",
    "\n",
    "for color in ['r','b','g']:\n",
    "\n",
    "    for j in range(2):\n",
    "\n",
    "        temp = dems_stim[color][j]\n",
    "        \n",
    "        for instruction in temp:\n",
    "            if instruction.type==\"error\":\n",
    "                continue \n",
    "            else:\n",
    "                \n",
    "                dems_mine[color][j].append(instruction)\n",
    "\n"
   ]
  },
  {
   "cell_type": "code",
   "execution_count": 23,
   "metadata": {},
   "outputs": [
    {
     "name": "stdout",
     "output_type": "stream",
     "text": [
      "stim: 0.10632060000099744\n",
      "mine: 0.10642280000100038\n"
     ]
    }
   ],
   "source": [
    "num_shots = 5*10**6\n",
    "det, obs  = obj.sample(num_shots)\n",
    "preds_obs = obj.decode(det, dems_stim, verbose=False)\n",
    "\n",
    "fails_stim = np.logical_xor(obs, preds_obs)\n",
    "preds_obs  = obj.decode(det, dems_mine, verbose=False)\n",
    "fails_mine = np.logical_xor(obs, preds_obs)\n",
    "\n",
    "print(\"stim:\",sum(fails_stim/num_shots))\n",
    "print(\"mine:\",sum(fails_mine/num_shots))"
   ]
  },
  {
   "cell_type": "code",
   "execution_count": 89,
   "metadata": {},
   "outputs": [],
   "source": [
    "#Full function LE vs QEC rds\n",
    "def compare_logical_error_rate(d,p_circuit,num_shots_for_est,num_shots,num_rounds):\n",
    "\n",
    "    \n",
    "    obj        = ColorCode(d=d,rounds=num_rounds,p_circuit=p_circuit) ##p_cnot=0,p_bitflip=0.01, p_circuit=1e-2 ,\n",
    "    circuit    = obj.circuit\n",
    " \n",
    "    num_ancilla   = len(obj.qubit_groups['anc'])\n",
    "    Z_dets,X_dets = get_Z_X_det_nodes(obj,num_rounds)\n",
    "    Z_DEM,X_DEM   = decompose_org_DEM_into_ZX_DEMs(circuit,Z_dets,X_dets)\n",
    "\n",
    "    dems_stim                     = {}\n",
    "    ORG_DEM                       = []\n",
    "    pauli_decomposed_targets_dict = {}\n",
    "    pauli_decomposed_probs_dict   = {}\n",
    "\n",
    "    for color in [\"r\", \"g\", \"b\"]: \n",
    "        pauli_decomposed_targets_dict[color],pauli_decomposed_probs_dict[color],dem1, dem2 = obj.decompose_detector_error_model(ORG_DEM,color)\n",
    "        dems_stim[color] = dem1, dem2  # stim.DetectorErrorModel\n",
    "\n",
    "\n",
    "    #------- Estimation -------------------------------------\n",
    "    # num_shots = 8*10**6\n",
    "    defects_matrix_Z,defects_matrix_X,data_qubit_samples,Z_ANC_QUBITS,X_ANC_QUBITS=get_defects(circuit,num_rounds,num_shots_for_est,obj)\n",
    "\n",
    "    obs_flips = get_observable_flips(data_qubit_samples,d)\n",
    "\n",
    "    min_bound = 1e-12\n",
    "    max_bound = 0.6 #Sometimes solutions for the 3 pnt-event are sensitive to the max bound...\n",
    "    method    =  \"least_squares\"  #minimize method does not work well\n",
    "\n",
    "    vi_mean_Z      = avg_vi(defects_matrix_Z)\n",
    "    vivj_mean_Z    = avg_vivj(defects_matrix_Z)\n",
    "    p3_cnts_for_Z  = get_3_pnt_events_only_Z(defects_matrix_Z,obj)\n",
    "    detector_type  = \"Z\"\n",
    "    vijk_for_Z     = get_vijk_new(p3_cnts_for_Z,num_rounds,vi_mean_Z,vivj_mean_Z,obj,detector_type)\n",
    "    sols_for_Z     = solve_for_probs(min_bound,max_bound,method,vijk_for_Z)\n",
    "\n",
    "    if len(defects_matrix_X)>0: #non-empty\n",
    "\n",
    "        vi_mean_X      = avg_vi(defects_matrix_X)\n",
    "        vivj_mean_X    = avg_vivj(defects_matrix_X)\n",
    "        p3_cnts_for_X  = get_3_pnt_events_only_X_new(defects_matrix_X,obj,X_DEM,num_rounds)\n",
    "        detector_type  = \"X\"\n",
    "        vijk_for_X     = get_vijk_new(p3_cnts_for_X,num_rounds,vi_mean_X,vivj_mean_X,obj,detector_type)\n",
    "        sols_for_X     = solve_for_probs(min_bound,max_bound,method,vijk_for_X)\n",
    "\n",
    "\n",
    "    sols_for_defect_type           = sols_for_Z\n",
    "    vi_mean                        = vi_mean_Z \n",
    "    vivj_mean                      = vivj_mean_Z \n",
    "    stims_DEM                      = Z_DEM \n",
    "    defects_type                   = \"Z\"\n",
    "    pij_bulk,pij_time,pij_bd,p3    = estimate_all_edges_for_defect_type(sols_for_defect_type,obj,num_ancilla,num_rounds,vi_mean,vivj_mean,stims_DEM,defects_type)\n",
    "\n",
    "    \n",
    "    \n",
    "    error_events_in_Z_DEM,my_Z_DEM = create_Z_DEM_new(pij_bd,pij_bulk,pij_time,p3,Z_DEM,defects_matrix_Z,obj,obs_flips,num_rounds)\n",
    "\n",
    "    if len(defects_matrix_X)>0:\n",
    "\n",
    "        sols_for_defect_type           = sols_for_X\n",
    "        vi_mean                        = vi_mean_X \n",
    "        vivj_mean                      = vivj_mean_X \n",
    "        stims_DEM                      = X_DEM \n",
    "        defects_type                   = \"X\"\n",
    "        pij_bulk,pij_time,pij_bd,p3    = estimate_all_edges_for_defect_type(sols_for_defect_type,obj,num_ancilla,num_rounds,vi_mean,vivj_mean,stims_DEM,defects_type)\n",
    "        error_events_in_X_DEM,my_X_DEM = create_X_DEM_new(pij_bd,pij_bulk,pij_time,p3,X_DEM,defects_matrix_X,obj,obs_flips,num_rounds)\n",
    "    else:\n",
    "        my_X_DEM={}\n",
    "\n",
    "    r_only_DEM_mine,r_restricted_DEM_mine=create_lattices_new('r',my_Z_DEM,my_X_DEM,obj)\n",
    "    b_only_DEM_mine,b_restricted_DEM_mine=create_lattices_new('b',my_Z_DEM,my_X_DEM,obj)\n",
    "    g_only_DEM_mine,g_restricted_DEM_mine=create_lattices_new('g',my_Z_DEM,my_X_DEM,obj)\n",
    "\n",
    "    dems_mine      = {}\n",
    "    dems_mine['r'] = [r_restricted_DEM_mine,r_only_DEM_mine]\n",
    "    dems_mine['b'] = [b_restricted_DEM_mine,b_only_DEM_mine]\n",
    "    dems_mine['g'] = [g_restricted_DEM_mine,g_only_DEM_mine]\n",
    "\n",
    "    #Find the detector coordinates and pass them to my dems\n",
    "\n",
    "    for color in ['r','b','g']:\n",
    "\n",
    "        for j in range(2):\n",
    "\n",
    "            temp = dems_stim[color][j]\n",
    "            \n",
    "            for instruction in temp:\n",
    "                if instruction.type==\"error\":\n",
    "                    continue \n",
    "                else:\n",
    "                    \n",
    "                    dems_mine[color][j].append(instruction)\n",
    "\n",
    "    # num_shots = 10**7\n",
    "    det, obs  = obj.sample(num_shots)\n",
    "    preds_obs = obj.decode(det, dems_stim, verbose=False)\n",
    "\n",
    "    fails_stim = np.logical_xor(obs, preds_obs)\n",
    "    preds_obs  = obj.decode(det, dems_mine, verbose=False)\n",
    "    fails_mine = np.logical_xor(obs, preds_obs)\n",
    "\n",
    "\n",
    "    stims_LE = sum(fails_stim)/num_shots\n",
    "    my_LE    = sum(fails_mine)/num_shots\n",
    "\n",
    "    return stims_LE,my_LE\n",
    "\n",
    "def get_logical_error_rate_vs_QEC_rds(num_shots_for_est,num_shots,d,p,max_round):\n",
    "\n",
    "    \n",
    "    \n",
    "    error_per_round_stim = []\n",
    "    error_per_round_mine = []\n",
    "\n",
    "    for rd in range(1,max_round+1):\n",
    "\n",
    "\n",
    "        stims_LE,my_LE = compare_logical_error_rate(d,p,num_shots_for_est,num_shots,rd)\n",
    "        \n",
    "        error_per_round_stim.append(stims_LE)\n",
    "        error_per_round_mine.append(my_LE)\n",
    "\n",
    "    \n",
    "    return error_per_round_stim,error_per_round_mine\n",
    "\n",
    "num_shots_for_est = 10**6\n",
    "num_shots         = 10**5\n",
    "d                 = 7\n",
    "p                 = 1e-2\n",
    "max_round         = 3\n",
    "\n",
    "error_per_round_stim,error_per_round_mine= \\\n",
    "    get_logical_error_rate_vs_QEC_rds(num_shots_for_est,num_shots,d,p,max_round)\n",
    "\n",
    "\n",
    "\n"
   ]
  },
  {
   "cell_type": "code",
   "execution_count": 90,
   "metadata": {},
   "outputs": [
    {
     "data": {
      "text/plain": [
       "[0.03977, 0.11551, 0.19299]"
      ]
     },
     "execution_count": 90,
     "metadata": {},
     "output_type": "execute_result"
    }
   ],
   "source": [
    "error_per_round_stim"
   ]
  },
  {
   "cell_type": "code",
   "execution_count": 91,
   "metadata": {},
   "outputs": [
    {
     "data": {
      "text/plain": [
       "[0.0399, 0.1156, 0.19339]"
      ]
     },
     "execution_count": 91,
     "metadata": {},
     "output_type": "execute_result"
    }
   ],
   "source": [
    "error_per_round_mine"
   ]
  },
  {
   "cell_type": "code",
   "execution_count": 93,
   "metadata": {},
   "outputs": [
    {
     "data": {
      "image/png": "[encoded data removed]",
      "text/plain": [
       "<Figure size 640x480 with 1 Axes>"
      ]
     },
     "metadata": {},
     "output_type": "display_data"
    }
   ],
   "source": [
    "import matplotlib\n",
    "fig, ax = plt.subplots()\n",
    "\n",
    "matplotlib.rcParams.update({'font.size': 17})\n",
    "plt.rcParams[\"font.family\"] = \"Microsoft Sans Serif\" \n",
    "\n",
    "plt.bar(x=np.arange(1,max_round+1)-0.15,\n",
    "        height=error_per_round_stim,width=0.25,edgecolor='black',\n",
    "        facecolor='teal')\n",
    "plt.bar(x=np.arange(1,max_round+1)+0.15,\n",
    "        height=error_per_round_mine,width=0.25,edgecolor='black',\n",
    "        facecolor='navajowhite')\n",
    "\n",
    "\n",
    "plt.legend([\"stim\",\"our DEM\"],frameon=False,\n",
    "                 shadow=True,\n",
    "                 fontsize=15)\n",
    "plt.xlabel(\"QEC round\")\n",
    "plt.ylabel(\"logical error rate\")\n",
    "plt.yscale('log')\n",
    "\n",
    "plt.xticks(ticks=np.arange(1,max_round+1)) \n",
    "\n",
    "fig.savefig('LE_per_rd_d_7_p_0.01_N_est_10_6_N_dec_10_5.svg', format='svg', dpi=1500,bbox_inches='tight')"
   ]
  },
  {
   "cell_type": "code",
   "execution_count": 104,
   "metadata": {},
   "outputs": [
    {
     "name": "stdout",
     "output_type": "stream",
     "text": [
      "numer/denom: -0.955695901840472\n"
     ]
    },
    {
     "name": "stderr",
     "output_type": "stream",
     "text": [
      "/Users/evatakou/myenv/sims/color_code/noise_est_funcs_for_color_code.py:525: RuntimeWarning: invalid value encountered in sqrt\n",
      "  p      = 1/2  - np.sqrt(1/4- numer/denom)\n"
     ]
    },
    {
     "ename": "Exception",
     "evalue": "Encountered nan value",
     "output_type": "error",
     "traceback": [
      "\u001b[0;31m---------------------------------------------------------------------------\u001b[0m",
      "\u001b[0;31mException\u001b[0m                                 Traceback (most recent call last)",
      "Cell \u001b[0;32mIn[104], line 148\u001b[0m\n\u001b[1;32m    146\u001b[0m num_shots_for_est                       \u001b[38;5;241m=\u001b[39m \u001b[38;5;241m10\u001b[39m\u001b[38;5;241m*\u001b[39m\u001b[38;5;241m*\u001b[39m\u001b[38;5;241m6\u001b[39m\n\u001b[1;32m    147\u001b[0m num_shots                               \u001b[38;5;241m=\u001b[39m \u001b[38;5;241m10\u001b[39m\u001b[38;5;241m*\u001b[39m\u001b[38;5;241m*\u001b[39m\u001b[38;5;241m5\u001b[39m\n\u001b[0;32m--> 148\u001b[0m Ls,ps,error_per_d_stim,error_per_d_mine \u001b[38;5;241m=\u001b[39m \u001b[43mget_logical_error_rate_vs_p_and_d\u001b[49m\u001b[43m(\u001b[49m\u001b[43mnum_shots_for_est\u001b[49m\u001b[43m,\u001b[49m\u001b[43mnum_shots\u001b[49m\u001b[43m)\u001b[49m\n",
      "Cell \u001b[0;32mIn[104], line 136\u001b[0m, in \u001b[0;36mget_logical_error_rate_vs_p_and_d\u001b[0;34m(num_shots_for_est, num_shots)\u001b[0m\n\u001b[1;32m    133\u001b[0m error_per_p_mine \u001b[38;5;241m=\u001b[39m []\n\u001b[1;32m    134\u001b[0m \u001b[38;5;28;01mfor\u001b[39;00m p_circuit \u001b[38;5;129;01min\u001b[39;00m ps:\n\u001b[0;32m--> 136\u001b[0m     stims_LE,my_LE \u001b[38;5;241m=\u001b[39m \u001b[43mcompare_logical_error_rate\u001b[49m\u001b[43m(\u001b[49m\u001b[43md\u001b[49m\u001b[43m,\u001b[49m\u001b[43mp_circuit\u001b[49m\u001b[43m,\u001b[49m\u001b[43mnum_shots_for_est\u001b[49m\u001b[43m,\u001b[49m\u001b[43mnum_shots\u001b[49m\u001b[43m)\u001b[49m\n\u001b[1;32m    138\u001b[0m     error_per_p_stim\u001b[38;5;241m.\u001b[39mappend(stims_LE)\n\u001b[1;32m    139\u001b[0m     error_per_p_mine\u001b[38;5;241m.\u001b[39mappend(my_LE)\n",
      "Cell \u001b[0;32mIn[104], line 58\u001b[0m, in \u001b[0;36mcompare_logical_error_rate\u001b[0;34m(d, p_circuit, num_shots_for_est, num_shots)\u001b[0m\n\u001b[1;32m     56\u001b[0m stims_DEM                      \u001b[38;5;241m=\u001b[39m Z_DEM \n\u001b[1;32m     57\u001b[0m defects_type                   \u001b[38;5;241m=\u001b[39m \u001b[38;5;124m\"\u001b[39m\u001b[38;5;124mZ\u001b[39m\u001b[38;5;124m\"\u001b[39m\n\u001b[0;32m---> 58\u001b[0m pij_bulk,pij_time,pij_bd,p3    \u001b[38;5;241m=\u001b[39m \u001b[43mestimate_all_edges_for_defect_type\u001b[49m\u001b[43m(\u001b[49m\u001b[43msols_for_defect_type\u001b[49m\u001b[43m,\u001b[49m\u001b[43mobj\u001b[49m\u001b[43m,\u001b[49m\u001b[43mnum_ancilla\u001b[49m\u001b[43m,\u001b[49m\u001b[43mnum_rounds\u001b[49m\u001b[43m,\u001b[49m\u001b[43mvi_mean\u001b[49m\u001b[43m,\u001b[49m\u001b[43mvivj_mean\u001b[49m\u001b[43m,\u001b[49m\u001b[43mstims_DEM\u001b[49m\u001b[43m,\u001b[49m\u001b[43mdefects_type\u001b[49m\u001b[43m)\u001b[49m\n\u001b[1;32m     61\u001b[0m error_events_in_Z_DEM,my_Z_DEM \u001b[38;5;241m=\u001b[39m create_Z_DEM_new(pij_bd,pij_bulk,pij_time,p3,Z_DEM,defects_matrix_Z,obj,obs_flips,num_rounds)\n\u001b[1;32m     63\u001b[0m \u001b[38;5;28;01mif\u001b[39;00m \u001b[38;5;28mlen\u001b[39m(defects_matrix_X)\u001b[38;5;241m>\u001b[39m\u001b[38;5;241m0\u001b[39m:\n",
      "Cell \u001b[0;32mIn[56], line 421\u001b[0m, in \u001b[0;36mestimate_all_edges_for_defect_type\u001b[0;34m(sols_for_defect_type, obj, num_ancilla, num_rounds, vi_mean, vivj_mean, stims_DEM, defects_type)\u001b[0m\n\u001b[1;32m    418\u001b[0m v2   \u001b[38;5;241m=\u001b[39m vi_mean[rd2,anc2]\n\u001b[1;32m    419\u001b[0m v1v2 \u001b[38;5;241m=\u001b[39m vivj_mean[rd1,rd2,anc1,anc2]\n\u001b[0;32m--> 421\u001b[0m \u001b[38;5;28;01mif\u001b[39;00m \u001b[43mbulk_prob_formula\u001b[49m\u001b[43m(\u001b[49m\u001b[43mv1\u001b[49m\u001b[43m,\u001b[49m\u001b[43mv2\u001b[49m\u001b[43m,\u001b[49m\u001b[43mv1v2\u001b[49m\u001b[43m)\u001b[49m\u001b[38;5;241m<\u001b[39m\u001b[38;5;241m=\u001b[39m\u001b[38;5;241m0\u001b[39m:\n\u001b[1;32m    422\u001b[0m     \u001b[38;5;28;01mcontinue\u001b[39;00m\n\u001b[1;32m    424\u001b[0m pij_bulk[\u001b[38;5;28mtuple\u001b[39m([det1,det2])] \u001b[38;5;241m=\u001b[39m bulk_prob_formula(v1,v2,v1v2)\n",
      "File \u001b[0;32m~/myenv/sims/color_code/noise_est_funcs_for_color_code.py:531\u001b[0m, in \u001b[0;36mbulk_prob_formula\u001b[0;34m(v1, v2, v1v2)\u001b[0m\n\u001b[1;32m    529\u001b[0m \u001b[38;5;28;01melif\u001b[39;00m math\u001b[38;5;241m.\u001b[39misnan(p):\n\u001b[1;32m    530\u001b[0m     \u001b[38;5;28mprint\u001b[39m(\u001b[38;5;124m\"\u001b[39m\u001b[38;5;124mnumer/denom:\u001b[39m\u001b[38;5;124m\"\u001b[39m,\u001b[38;5;241m1\u001b[39m\u001b[38;5;241m/\u001b[39m\u001b[38;5;241m4\u001b[39m\u001b[38;5;241m-\u001b[39mnumer\u001b[38;5;241m/\u001b[39mdenom)\n\u001b[0;32m--> 531\u001b[0m     \u001b[38;5;28;01mraise\u001b[39;00m \u001b[38;5;167;01mException\u001b[39;00m(\u001b[38;5;124m\"\u001b[39m\u001b[38;5;124mEncountered nan value\u001b[39m\u001b[38;5;124m\"\u001b[39m)\n\u001b[1;32m    533\u001b[0m \u001b[38;5;28;01mreturn\u001b[39;00m p\n",
      "\u001b[0;31mException\u001b[0m: Encountered nan value"
     ]
    }
   ],
   "source": [
    "#Full function:\n",
    "\n",
    "#Try 1 RD for now to speed it up a bit\n",
    "\n",
    "def compare_logical_error_rate(d,p_circuit,num_shots_for_est,num_shots):\n",
    "\n",
    "    num_rounds = 1\n",
    "    obj        = ColorCode(d=d,rounds=num_rounds,p_circuit=p_circuit) ##p_cnot=0,p_bitflip=0.01, p_circuit=1e-2 ,\n",
    "    circuit    = obj.circuit\n",
    " \n",
    "    num_ancilla   = len(obj.qubit_groups['anc'])\n",
    "    Z_dets,X_dets = get_Z_X_det_nodes(obj,num_rounds)\n",
    "    Z_DEM,X_DEM   = decompose_org_DEM_into_ZX_DEMs(circuit,Z_dets,X_dets)\n",
    "\n",
    "    dems_stim                     = {}\n",
    "    ORG_DEM                       = []\n",
    "    pauli_decomposed_targets_dict = {}\n",
    "    pauli_decomposed_probs_dict   = {}\n",
    "\n",
    "    for color in [\"r\", \"g\", \"b\"]: \n",
    "        pauli_decomposed_targets_dict[color],pauli_decomposed_probs_dict[color],dem1, dem2 = obj.decompose_detector_error_model(ORG_DEM,color)\n",
    "        dems_stim[color] = dem1, dem2  # stim.DetectorErrorModel\n",
    "\n",
    "\n",
    "\n",
    "    #------- Estimation -------------------------------------\n",
    "    # num_shots = 8*10**6\n",
    "    defects_matrix_Z,defects_matrix_X,data_qubit_samples,Z_ANC_QUBITS,X_ANC_QUBITS=get_defects(circuit,num_rounds,num_shots_for_est,obj)\n",
    "\n",
    "    obs_flips = get_observable_flips(data_qubit_samples,d)\n",
    "\n",
    "    min_bound = 1e-12\n",
    "    max_bound = 0.6 #Sometimes solutions for the 3 pnt-event are sensitive to the max bound...\n",
    "    method    =  \"least_squares\"  #minimize method does not work well\n",
    "\n",
    "    vi_mean_Z      = avg_vi(defects_matrix_Z)\n",
    "    vivj_mean_Z    = avg_vivj(defects_matrix_Z)\n",
    "    p3_cnts_for_Z  = get_3_pnt_events_only_Z(defects_matrix_Z,obj)\n",
    "    detector_type  = \"Z\"\n",
    "    vijk_for_Z     = get_vijk_new(p3_cnts_for_Z,num_rounds,vi_mean_Z,vivj_mean_Z,obj,detector_type)\n",
    "    sols_for_Z     = solve_for_probs(min_bound,max_bound,method,vijk_for_Z)\n",
    "\n",
    "    if len(defects_matrix_X)>0: #non-empty\n",
    "\n",
    "        vi_mean_X      = avg_vi(defects_matrix_X)\n",
    "        vivj_mean_X    = avg_vivj(defects_matrix_X)\n",
    "        p3_cnts_for_X  = get_3_pnt_events_only_X_new(defects_matrix_X,obj,X_DEM,num_rounds)\n",
    "        detector_type  = \"X\"\n",
    "        vijk_for_X     = get_vijk_new(p3_cnts_for_X,num_rounds,vi_mean_X,vivj_mean_X,obj,detector_type)\n",
    "        sols_for_X     = solve_for_probs(min_bound,max_bound,method,vijk_for_X)\n",
    "\n",
    "\n",
    "    sols_for_defect_type           = sols_for_Z\n",
    "    vi_mean                        = vi_mean_Z \n",
    "    vivj_mean                      = vivj_mean_Z \n",
    "    stims_DEM                      = Z_DEM \n",
    "    defects_type                   = \"Z\"\n",
    "    pij_bulk,pij_time,pij_bd,p3    = estimate_all_edges_for_defect_type(sols_for_defect_type,obj,num_ancilla,num_rounds,vi_mean,vivj_mean,stims_DEM,defects_type)\n",
    "\n",
    "    \n",
    "    error_events_in_Z_DEM,my_Z_DEM = create_Z_DEM_new(pij_bd,pij_bulk,pij_time,p3,Z_DEM,defects_matrix_Z,obj,obs_flips,num_rounds)\n",
    "\n",
    "    if len(defects_matrix_X)>0:\n",
    "\n",
    "        sols_for_defect_type           = sols_for_X\n",
    "        vi_mean                        = vi_mean_X \n",
    "        vivj_mean                      = vivj_mean_X \n",
    "        stims_DEM                      = X_DEM \n",
    "        defects_type                   = \"X\"\n",
    "        pij_bulk,pij_time,pij_bd,p3    = estimate_all_edges_for_defect_type(sols_for_defect_type,obj,num_ancilla,num_rounds,vi_mean,vivj_mean,stims_DEM,defects_type)\n",
    "        error_events_in_X_DEM,my_X_DEM = create_X_DEM_new(pij_bd,pij_bulk,pij_time,p3,X_DEM,defects_matrix_X,obj,obs_flips,num_rounds)\n",
    "\n",
    "    else:\n",
    "        my_X_DEM = {}\n",
    "\n",
    "        \n",
    "    r_only_DEM_mine,r_restricted_DEM_mine=create_lattices_new('r',my_Z_DEM,my_X_DEM,obj)\n",
    "    b_only_DEM_mine,b_restricted_DEM_mine=create_lattices_new('b',my_Z_DEM,my_X_DEM,obj)\n",
    "    g_only_DEM_mine,g_restricted_DEM_mine=create_lattices_new('g',my_Z_DEM,my_X_DEM,obj)\n",
    "\n",
    "    dems_mine      = {}\n",
    "    dems_mine['r'] = [r_restricted_DEM_mine,r_only_DEM_mine]\n",
    "    dems_mine['b'] = [b_restricted_DEM_mine,b_only_DEM_mine]\n",
    "    dems_mine['g'] = [g_restricted_DEM_mine,g_only_DEM_mine]\n",
    "\n",
    "    #Find the detector coordinates and pass them to my dems\n",
    "\n",
    "    for color in ['r','b','g']:\n",
    "\n",
    "        for j in range(2):\n",
    "\n",
    "            temp = dems_stim[color][j]\n",
    "            \n",
    "            for instruction in temp:\n",
    "                if instruction.type==\"error\":\n",
    "                    continue \n",
    "                else:\n",
    "                    \n",
    "                    dems_mine[color][j].append(instruction)\n",
    "\n",
    "    # num_shots = 10**7\n",
    "    det, obs  = obj.sample(num_shots)\n",
    "    preds_obs = obj.decode(det, dems_stim, verbose=False)\n",
    "\n",
    "    fails_stim = np.logical_xor(obs, preds_obs)\n",
    "    preds_obs  = obj.decode(det, dems_mine, verbose=False)\n",
    "    fails_mine = np.logical_xor(obs, preds_obs)\n",
    "\n",
    "    # print(\"stim:\",sum(fails_stim))\n",
    "    # print(\"mine:\",sum(fails_mine))\n",
    "\n",
    "    stims_LE = sum(fails_stim)/num_shots\n",
    "    my_LE    = sum(fails_mine)/num_shots\n",
    "\n",
    "    return stims_LE,my_LE\n",
    "\n",
    "def get_logical_error_rate_vs_p_and_d(num_shots_for_est,num_shots):\n",
    "\n",
    "    Ls               = [5,7]\n",
    "    ps               = [1e-3,\n",
    "                        2.5e-3,\n",
    "                        5e-3,\n",
    "                        1e-2,\n",
    "                        2.5e-2,\n",
    "                        5e-2]\n",
    "    \n",
    "    error_per_d_stim = []\n",
    "    error_per_d_mine = []\n",
    "\n",
    "    for d in Ls:\n",
    "\n",
    "        error_per_p_stim = []\n",
    "        error_per_p_mine = []\n",
    "        for p_circuit in ps:\n",
    "            \n",
    "            stims_LE,my_LE = compare_logical_error_rate(d,p_circuit,num_shots_for_est,num_shots)\n",
    "        \n",
    "            error_per_p_stim.append(stims_LE)\n",
    "            error_per_p_mine.append(my_LE)\n",
    "\n",
    "        error_per_d_stim.append(error_per_p_stim)\n",
    "        error_per_d_mine.append(error_per_p_mine)\n",
    "\n",
    "    return Ls,ps,error_per_d_stim,error_per_d_mine\n",
    "\n",
    "num_shots_for_est                       = 10**6\n",
    "num_shots                               = 10**5\n",
    "Ls,ps,error_per_d_stim,error_per_d_mine = get_logical_error_rate_vs_p_and_d(num_shots_for_est,num_shots)\n",
    "\n"
   ]
  },
  {
   "cell_type": "code",
   "execution_count": 100,
   "metadata": {},
   "outputs": [
    {
     "data": {
      "text/plain": [
       "[[0.00038, 0.01093, 0.05408, 0.45774], [1e-05, 0.00469, 0.03899, 0.48273]]"
      ]
     },
     "execution_count": 100,
     "metadata": {},
     "output_type": "execute_result"
    }
   ],
   "source": [
    "error_per_d_stim"
   ]
  },
  {
   "cell_type": "code",
   "execution_count": 19,
   "metadata": {},
   "outputs": [
    {
     "data": {
      "text/plain": [
       "[[0.002678, 0.09281, 0.297246]]"
      ]
     },
     "execution_count": 19,
     "metadata": {},
     "output_type": "execute_result"
    }
   ],
   "source": [
    "error_per_d_mine"
   ]
  },
  {
   "cell_type": "code",
   "execution_count": 9,
   "metadata": {},
   "outputs": [
    {
     "data": {
      "text/plain": [
       "[[0.0022455089820359016, 0.002257579015265554, 0.00024228229925907547]]"
      ]
     },
     "execution_count": 9,
     "metadata": {},
     "output_type": "execute_result"
    }
   ],
   "source": [
    "rel_err_all =[]\n",
    "for m in range(len(Ls)):\n",
    "    temp_true = error_per_d_stim[m]\n",
    "    temp_est  = error_per_d_mine[m]\n",
    "    rel_err = []\n",
    "    for k in range(len(temp_true)):\n",
    "        val_true = temp_true[k]\n",
    "        val_est  = temp_est[k]\n",
    "        rel_err.append(abs(val_true-val_est)/val_true)\n",
    "    rel_err_all.append(rel_err)\n",
    "\n",
    "rel_err_all"
   ]
  },
  {
   "cell_type": "code",
   "execution_count": 103,
   "metadata": {},
   "outputs": [
    {
     "data": {
      "image/png": "[encoded data removed]",
      "text/plain": [
       "<Figure size 640x480 with 1 Axes>"
      ]
     },
     "metadata": {},
     "output_type": "display_data"
    }
   ],
   "source": [
    "#Plot our results\n",
    "from matplotlib import pyplot as plt \n",
    "import matplotlib\n",
    "fig, ax = plt.subplots()\n",
    "\n",
    "matplotlib.rcParams.update({'font.size': 17})\n",
    "plt.rcParams[\"font.family\"] = \"Microsoft Sans Serif\"    \n",
    "rel_err_all =[]\n",
    "for m in range(len(Ls)):\n",
    "    temp_true = error_per_d_stim[m]\n",
    "    temp_est  = error_per_d_mine[m]\n",
    "    rel_err = []\n",
    "    for k in range(len(temp_true)):\n",
    "        val_true = temp_true[k]\n",
    "        val_est  = temp_est[k]\n",
    "        rel_err.append(1-abs(val_true-val_est)/val_true)\n",
    "    rel_err_all.append(rel_err)\n",
    "\n",
    "colors = ['tab:blue','tab:orange','tab:green','tab:cyan','tab:purple']\n",
    "\n",
    "cnt = 0\n",
    "for L in Ls:\n",
    "    \n",
    "    \n",
    "    plt.plot(ps,error_per_d_stim[cnt],marker='s',linestyle=':',color=colors[cnt]\n",
    "                     ,linewidth=3,markeredgecolor='black',\n",
    "                     markersize=9)\n",
    "    plt.plot(ps,error_per_d_mine[cnt],marker='*',color=colors[cnt],\n",
    "                     markersize=9,markeredgecolor='black',markerfacecolor='white')\n",
    "    \n",
    "    # plt.plot(ps,rel_err_all[cnt],marker='s')\n",
    "    cnt+=1\n",
    "\n",
    "    plt.legend([\"$d=5$ (stim)\",\"$d=5$ (our DEM)\",\n",
    "                \"$d=7$ (stim)\",\"$d=7$ (our DEM)\",\n",
    "                \"$d=9$ (stim)\",\"$d=9$ (our DEM)\"],\n",
    "                frameon=False,\n",
    "                 shadow=True,\n",
    "                 fontsize=15)\n",
    "plt.xlabel(\"physical error rate\")\n",
    "plt.ylabel(\"logical error rate\")\n",
    "plt.yscale('log')\n",
    "plt.xscale('log')\n",
    "# plt.ylim([0.99,1])\n",
    "# plt.title(\"$r=d$ rounds, memory experiment\")\n",
    "\n",
    "fig.savefig('threshold_TEST.svg', format='svg', dpi=1500,bbox_inches='tight')\n"
   ]
  },
  {
   "cell_type": "markdown",
   "metadata": {},
   "source": [
    "Older codes below...\n",
    "\n",
    "\n",
    "\n",
    "IGNORE"
   ]
  },
  {
   "cell_type": "code",
   "execution_count": null,
   "metadata": {},
   "outputs": [],
   "source": [
    "num_shots = 10**7\n",
    "\n",
    "sampler       = my_Z_DEM.compile_sampler() \n",
    "\n",
    "#detection_events, observable_flips = sampler.sample(shots = num_shots, separate_observables=True)\n",
    "events_from_my_DEM  = sampler.sample(shots=num_shots)\n",
    "flips_in_my_DEM     = events_from_my_DEM[1]\n",
    "detection_events    = events_from_my_DEM[0]\n",
    "\n",
    "matcher     = Matching.from_detector_error_model(my_Z_DEM)\n",
    "predictions = matcher.decode_batch(detection_events)\n",
    "\n",
    "num_errors_my_DEM = 0\n",
    "for shot in range(num_shots):\n",
    "    actual_for_shot    = flips_in_my_DEM[shot]\n",
    "    predicted_for_shot = predictions[shot]\n",
    "    if not np.array_equal(actual_for_shot, predicted_for_shot):\n",
    "        num_errors_my_DEM += 1    \n"
   ]
  },
  {
   "cell_type": "code",
   "execution_count": null,
   "metadata": {},
   "outputs": [],
   "source": [
    "sampler       = Z_DEM.compile_sampler() \n",
    "\n",
    "#detection_events, observable_flips = sampler.sample(shots = num_shots, separate_observables=True)\n",
    "events_from_stim  = sampler.sample(shots=num_shots)\n",
    "flips_in_stim     = events_from_stim[1]\n",
    "detection_events  = events_from_stim[0]\n",
    "\n",
    "matcher     = Matching.from_detector_error_model(Z_DEM)\n",
    "predictions = matcher.decode_batch(detection_events)\n",
    "\n",
    "num_errors_stim = 0\n",
    "for shot in range(num_shots):\n",
    "    actual_for_shot    = flips_in_stim[shot]\n",
    "    predicted_for_shot = predictions[shot]\n",
    "    if not np.array_equal(actual_for_shot, predicted_for_shot):\n",
    "        num_errors_stim += 1    \n"
   ]
  },
  {
   "cell_type": "code",
   "execution_count": null,
   "metadata": {},
   "outputs": [
    {
     "name": "stdout",
     "output_type": "stream",
     "text": [
      "stim: 859118\n",
      "our: 566430\n"
     ]
    }
   ],
   "source": [
    "print(\"stim:\",num_errors_stim)\n",
    "print(\"our:\",num_errors_my_DEM)"
   ]
  },
  {
   "cell_type": "code",
   "execution_count": null,
   "metadata": {},
   "outputs": [
    {
     "data": {
      "text/plain": [
       "stim.DetectorErrorModel('''\n",
       "    error(0.0226321) D0 L0\n",
       "    error(0.027442) D1 L0\n",
       "    error(0.0275891) D2 L0\n",
       "    error(0.0300792) D3 L0\n",
       "    error(0.0250909) D4 L0\n",
       "    error(0.030196) D5 L0\n",
       "    error(0.0226325) D0 D1 D2\n",
       "    error(0.00799852) D1 D2 D3\n",
       "    error(0.00808856) D1 D3 D5\n",
       "    error(0.0301266) D3 D4 D5\n",
       "    error(0.0225713) D0 D1 L0\n",
       "    error(0.0225991) D0 D2\n",
       "    error(0.0225559) D1 D2\n",
       "    error(0.02508) D3 D4 L0\n",
       "    error(0.0301998) D3 D5\n",
       "    error(0.0301629) D4 D5\n",
       "    error(0.0106528) D0 D3\n",
       "    error(0.0133068) D1 D3 L0\n",
       "    error(0.0106824) D1 D4\n",
       "    error(0.013102) D1 D5\n",
       "    error(0.00801135) D2 D3\n",
       "    error(0.0105619) D2 D5\n",
       "''')"
      ]
     },
     "execution_count": 378,
     "metadata": {},
     "output_type": "execute_result"
    }
   ],
   "source": [
    "my_Z_DEM"
   ]
  },
  {
   "cell_type": "code",
   "execution_count": null,
   "metadata": {},
   "outputs": [],
   "source": [
    "def get_logical_error_rate(my_DEM,circuit,num_shots,decompose_errors):\n",
    "\n",
    "    # Sample the circuit.\n",
    "    sampler = circuit.compile_detector_sampler()\n",
    "    detection_events, observable_flips = sampler.sample(num_shots, separate_observables=True)\n",
    "\n",
    "    # Configure a decoder using the circuit.\n",
    "    detector_error_model = circuit.detector_error_model(decompose_errors=decompose_errors) \n",
    "    matcher = pymatching.Matching.from_detector_error_model(detector_error_model)\n",
    "\n",
    "    # Run the decoder.\n",
    "    predictions = matcher.decode_batch(detection_events)\n",
    "\n",
    "    # Count the mistakes.\n",
    "    num_errors_stim = 0\n",
    "    for shot in range(num_shots):\n",
    "        actual_for_shot = observable_flips[shot]\n",
    "        predicted_for_shot = predictions[shot]\n",
    "        if not np.array_equal(actual_for_shot, predicted_for_shot):\n",
    "            num_errors_stim += 1\n",
    "\n",
    "    #Now do the same for my DEM\n",
    "\n",
    "\n",
    "    sampler       = my_DEM.compile_sampler() \n",
    "\n",
    "    #detection_events, observable_flips = sampler.sample(shots = num_shots, separate_observables=True)\n",
    "    events_from_my_DEM  = sampler.sample(shots=num_shots)\n",
    "    flips_in_my_DEM     = events_from_my_DEM[1]\n",
    "    detection_events    = events_from_my_DEM[0]\n",
    "\n",
    "    matcher     = Matching.from_detector_error_model(my_DEM)\n",
    "    predictions = matcher.decode_batch(detection_events)\n",
    "\n",
    "    num_errors_my_DEM = 0\n",
    "    for shot in range(num_shots):\n",
    "        actual_for_shot    = flips_in_my_DEM[shot]\n",
    "        predicted_for_shot = predictions[shot]\n",
    "        if not np.array_equal(actual_for_shot, predicted_for_shot):\n",
    "            num_errors_my_DEM += 1    \n",
    "\n",
    "    return num_errors_stim/num_shots, num_errors_my_DEM/num_shots\n"
   ]
  },
  {
   "cell_type": "code",
   "execution_count": null,
   "metadata": {},
   "outputs": [
    {
     "data": {
      "text/plain": [
       "array([0., 0., 0., 0., 0., 0.])"
      ]
     },
     "execution_count": 303,
     "metadata": {},
     "output_type": "execute_result"
    }
   ],
   "source": [
    "#MAYBE TRY THE DECODING TO SEE HOW MUCH THE BOUNDARIES AFFECT THE PROBLEM\n",
    "#IF WE GET BETTER PERFORMANCE THEN IT WOULD BE INTERESTING?"
   ]
  },
  {
   "cell_type": "code",
   "execution_count": null,
   "metadata": {},
   "outputs": [
    {
     "data": {
      "text/plain": [
       "{('D2', 'L0'): 0.008633681025463783, ('D5', 'L0'): 0.009753554663518165}"
      ]
     },
     "execution_count": 355,
     "metadata": {},
     "output_type": "execute_result"
    }
   ],
   "source": [
    "def split_boundary_contribution_Z(pij_bd,defects_matrix_Z):\n",
    "    \n",
    "    num_shots   = np.shape(defects_matrix_Z)[0]\n",
    "    num_ancilla = np.shape(defects_matrix_Z)[2]\n",
    "\n",
    "    \n",
    "    cnt_w_L0  = np.zeros(len(pij_bd.keys()))\n",
    "    cnt_wo_L0 = np.zeros(len(pij_bd.keys()))\n",
    "\n",
    "    for k in range(num_shots):\n",
    "\n",
    "        locs = np.nonzero(defects_matrix_Z.data[k,:,:])\n",
    "\n",
    "        if len(locs[0])==1 and len(locs[1])==1:\n",
    "\n",
    "            rd  = locs[0]\n",
    "            anc = locs[1]\n",
    "\n",
    "            indx = anc + num_ancilla*rd \n",
    "            name = \"D\"+str(indx)\n",
    "\n",
    "            if obs_flips[k]==True:\n",
    "\n",
    "                cnt_w_L0[indx] = cnt_w_L0[indx]+1\n",
    "\n",
    "            else:\n",
    "                # if indx==0:\n",
    "                #     print(\"D0 w/0 L0 happened?\")\n",
    "                    \n",
    "                cnt_wo_L0[indx] = cnt_wo_L0[indx]+1\n",
    "\n",
    "    ratio = cnt_w_L0/cnt_wo_L0\n",
    "                \n",
    "    pij_bd_new = {}\n",
    "    for k in range(len(ratio)):\n",
    "        \n",
    "        if ratio[k]<1:\n",
    "            pij_bd_new[(\"D\"+str(k),\"L0\")] = ratio[k]*pij_bd[(\"D\"+str(k))]\n",
    "\n",
    "\n",
    "    return cnt_w_L0,cnt_wo_L0,pij_bd_new\n",
    "\n",
    "cnt_w_L0,cnt_wo_L0,pij_bd_new=split_boundary_contribution_Z(pij_bd,defects_matrix_Z)\n",
    "\n",
    "pij_bd_new"
   ]
  },
  {
   "cell_type": "code",
   "execution_count": null,
   "metadata": {},
   "outputs": [
    {
     "data": {
      "text/plain": [
       "array([0.01508638, 0.01494013, 0.004678  , 0.02014712, 0.01671563,\n",
       "       0.00538062])"
      ]
     },
     "execution_count": 356,
     "metadata": {},
     "output_type": "execute_result"
    }
   ],
   "source": [
    "cnt_w_L0/num_shots"
   ]
  },
  {
   "cell_type": "code",
   "execution_count": null,
   "metadata": {},
   "outputs": [],
   "source": [
    "ratio=cnt_w_L0/cnt_wo_L0"
   ]
  },
  {
   "cell_type": "code",
   "execution_count": null,
   "metadata": {},
   "outputs": [
    {
     "data": {
      "text/plain": [
       "{'D0': 0.03280250892005976,\n",
       " 'D1': 0.06873286870006705,\n",
       " 'D2': 0.044977326838290116,\n",
       " ('D0', 'D1'): 0.022571484889610468,\n",
       " ('D0', 'D2'): 0.022599190258332975,\n",
       " ('D1', 'D2'): 0.030193737066563617,\n",
       " ('D0', 'D1', 'D2'): 0.022632452633567262}"
      ]
     },
     "execution_count": 354,
     "metadata": {},
     "output_type": "execute_result"
    }
   ],
   "source": [
    "sols_for_Z[('D0', 'D1', 'D2')]"
   ]
  },
  {
   "cell_type": "code",
   "execution_count": null,
   "metadata": {},
   "outputs": [
    {
     "data": {
      "text/plain": [
       "stim.DetectorErrorModel('''\n",
       "    error(0.0225669) D0 D1 D2\n",
       "    error(0.0225669) D0 D1 L0\n",
       "    error(0.0225669) D0 D2\n",
       "    error(0.0106098) D0 D3\n",
       "    error(0.0225669) D0 L0\n",
       "    error(0.00533333) D1\n",
       "    error(0.0225669) D1 D2\n",
       "    error(0.00797863) D1 D2 D3\n",
       "    error(0.00797863) D1 D3 D5\n",
       "    error(0.0132269) D1 D3 L0\n",
       "    error(0.0106098) D1 D4\n",
       "    error(0.0132269) D1 D5\n",
       "    error(0.0225669) D1 L0\n",
       "    error(0.0225669) D2\n",
       "    error(0.00797863) D2 D3\n",
       "    error(0.0106098) D2 D5\n",
       "    error(0.00533333) D2 L0\n",
       "    error(0.0301854) D3 D4 D5\n",
       "    error(0.02512) D3 D4 L0\n",
       "    error(0.0301854) D3 D5\n",
       "    error(0.0301854) D3 L0\n",
       "    error(0.0301854) D4 D5\n",
       "    error(0.02512) D4 L0\n",
       "    error(0.02512) D5\n",
       "    error(0.00533333) D5 L0\n",
       "    detector(3.5, 0, 0) D0\n",
       "    detector(0.5, 1, 0) D1\n",
       "    detector(3.5, 2, 0) D2\n",
       "    shift_detectors(0, 0, 1) 0\n",
       "    detector(3.5, 0, 0) D3\n",
       "    detector(0.5, 1, 0) D4\n",
       "    detector(3.5, 2, 0) D5\n",
       "''')"
      ]
     },
     "execution_count": 319,
     "metadata": {},
     "output_type": "execute_result"
    }
   ],
   "source": [
    "Z_DEM"
   ]
  },
  {
   "cell_type": "code",
   "execution_count": null,
   "metadata": {},
   "outputs": [
    {
     "data": {
      "text/plain": [
       "0.08022456724180678"
      ]
     },
     "execution_count": 332,
     "metadata": {},
     "output_type": "execute_result"
    }
   ],
   "source": [
    "cnt_w_L0  = 0\n",
    "cnt_wo_L0 = 0\n",
    "ratio     = 0\n",
    "rd        = 0\n",
    "anc       = 1\n",
    "for k in range(num_shots):\n",
    "\n",
    "    locs = np.nonzero(defects_matrix_Z.data[k,:,:])\n",
    "\n",
    "    if len(locs[0])==1 and len(locs[1])==1:\n",
    "\n",
    "        if locs[0]==rd and locs[1]==anc:\n",
    "\n",
    "            if obs_flips[k] == True:\n",
    "                cnt_w_L0 +=1 \n",
    "            else:\n",
    "                cnt_wo_L0 +=1\n",
    "\n",
    "\n",
    "ratio = cnt_w_L0/cnt_wo_L0\n",
    "\n",
    "ratio*pij_bd[\"D1\"]\n",
    "        \n",
    "\n"
   ]
  },
  {
   "cell_type": "code",
   "execution_count": null,
   "metadata": {},
   "outputs": [
    {
     "data": {
      "text/plain": [
       "0.08022456724180678"
      ]
     },
     "execution_count": 338,
     "metadata": {},
     "output_type": "execute_result"
    }
   ],
   "source": [
    "w_L0  = cnt_w_L0/num_shots\n",
    "wo_L0 = cnt_wo_L0/num_shots\n",
    "\n",
    "pij_bd[\"D1\"]*(cnt_w_L0/cnt_wo_L0)"
   ]
  },
  {
   "cell_type": "code",
   "execution_count": null,
   "metadata": {},
   "outputs": [
    {
     "data": {
      "text/plain": [
       "0.018055073604951954"
      ]
     },
     "execution_count": 335,
     "metadata": {},
     "output_type": "execute_result"
    }
   ],
   "source": [
    "pij_bd[\"D1\"]*(1-1/ratio)"
   ]
  },
  {
   "cell_type": "code",
   "execution_count": null,
   "metadata": {},
   "outputs": [
    {
     "data": {
      "text/plain": [
       "stim.DetectorErrorModel('''\n",
       "    error(0.0225669) D0 D1 D2\n",
       "    error(0.0225669) D0 D1 L0\n",
       "    error(0.0225669) D0 D2\n",
       "    error(0.0106098) D0 D3\n",
       "    error(0.0225669) D0 L0\n",
       "    error(0.00533333) D1\n",
       "    error(0.0225669) D1 D2\n",
       "    error(0.00797863) D1 D2 D3\n",
       "    error(0.00797863) D1 D3 D5\n",
       "    error(0.0132269) D1 D3 L0\n",
       "    error(0.0106098) D1 D4\n",
       "    error(0.0132269) D1 D5\n",
       "    error(0.0225669) D1 L0\n",
       "    error(0.0225669) D2\n",
       "    error(0.00797863) D2 D3\n",
       "    error(0.0106098) D2 D5\n",
       "    error(0.00533333) D2 L0\n",
       "    error(0.0301854) D3 D4 D5\n",
       "    error(0.02512) D3 D4 L0\n",
       "    error(0.0301854) D3 D5\n",
       "    error(0.0301854) D3 L0\n",
       "    error(0.0301854) D4 D5\n",
       "    error(0.02512) D4 L0\n",
       "    error(0.02512) D5\n",
       "    error(0.00533333) D5 L0\n",
       "    detector(3.5, 0, 0) D0\n",
       "    detector(0.5, 1, 0) D1\n",
       "    detector(3.5, 2, 0) D2\n",
       "    shift_detectors(0, 0, 1) 0\n",
       "    detector(3.5, 0, 0) D3\n",
       "    detector(0.5, 1, 0) D4\n",
       "    detector(3.5, 2, 0) D5\n",
       "''')"
      ]
     },
     "execution_count": 279,
     "metadata": {},
     "output_type": "execute_result"
    }
   ],
   "source": [
    "Z_DEM"
   ]
  },
  {
   "cell_type": "code",
   "execution_count": null,
   "metadata": {},
   "outputs": [
    {
     "data": {
      "text/plain": [
       "0.00772325"
      ]
     },
     "execution_count": 161,
     "metadata": {},
     "output_type": "execute_result"
    }
   ],
   "source": [
    "num_ancilla = len(obj.qubit_groups['anc'])\n",
    "Z_dets,X_dets=get_Z_X_det_nodes_as_rd_anc_pairs_dict(obj,num_rounds,num_ancilla)\n",
    "\n",
    "rd0,anc0    = Z_dets[\"D5\"]\n",
    "num_ancilla = np.shape(defects_matrix_Z)[2]\n",
    "cnt         = 0\n",
    "\n",
    "for k in range(num_shots):\n",
    "\n",
    "    if defects_matrix_Z.data[k,rd0,anc0]==True and obs_flips[k]==True:\n",
    "\n",
    "        flag=True\n",
    "        # for rd in range(num_rounds+1):\n",
    "\n",
    "        #     for anc in range(num_ancilla):\n",
    "\n",
    "        #         if rd!=rd0 or anc!=anc0:\n",
    "\n",
    "        #             if defects_matrix_Z.data[k,rd,anc]==False:\n",
    "        #                 flag=True \n",
    "        #             else:\n",
    "        #                 flag=False \n",
    "        #                 break\n",
    "            \n",
    "        #     if flag==False:\n",
    "        #         break \n",
    "        \n",
    "        if flag==True: \n",
    "            cnt+=1 \n",
    "\n",
    "\n",
    "cnt/num_shots\n",
    "\n",
    "\n",
    "\n",
    "\n",
    "\n"
   ]
  },
  {
   "cell_type": "code",
   "execution_count": null,
   "metadata": {},
   "outputs": [
    {
     "data": {
      "text/plain": [
       "0.010643036336085376"
      ]
     },
     "execution_count": 162,
     "metadata": {},
     "output_type": "execute_result"
    }
   ],
   "source": [
    "pij_bd[(\"D5\")]"
   ]
  },
  {
   "cell_type": "code",
   "execution_count": null,
   "metadata": {},
   "outputs": [
    {
     "data": {
      "text/plain": [
       "0.002965594389827852"
      ]
     },
     "execution_count": 166,
     "metadata": {},
     "output_type": "execute_result"
    }
   ],
   "source": [
    "q=cnt/num_shots\n",
    "(pij_bd[(\"D5\")]-q)/(1-2*q)"
   ]
  },
  {
   "cell_type": "code",
   "execution_count": null,
   "metadata": {},
   "outputs": [
    {
     "data": {
      "text/plain": [
       "{'r': ['D2', 'D5'], 'g': ['D0', 'D3'], 'b': ['D1', 'D4']}"
      ]
     },
     "execution_count": 104,
     "metadata": {},
     "output_type": "execute_result"
    }
   ],
   "source": [
    "collect_color_of_nodes(obj)"
   ]
  },
  {
   "cell_type": "code",
   "execution_count": null,
   "metadata": {},
   "outputs": [
    {
     "data": {
      "text/plain": [
       "stim.DetectorErrorModel('''\n",
       "    error(0.0191187) D0 D1 D2\n",
       "    error(0.0126203) D0 D1 L0\n",
       "    error(0.0255305) D0 D2\n",
       "    error(0.0485405) D0 D3\n",
       "    error(0.0442573) D0 L0\n",
       "    error(0.0119289) D1\n",
       "    error(0.0126203) D1 D2\n",
       "    error(0.00797863) D1 D2 D3\n",
       "    error(0.00797863) D1 D3 D5\n",
       "    error(0.0261209) D1 D3 L0\n",
       "    error(0.0485405) D1 D4\n",
       "    error(0.0132269) D1 D5\n",
       "    error(0.0318567) D1 L0\n",
       "    error(0.0191187) D2\n",
       "    error(0.00797863) D2 D3\n",
       "    error(0.0485405) D2 D5\n",
       "    error(0.00533333) D2 L0\n",
       "    error(0.0267923) D3 D4 D5\n",
       "    error(0.0280678) D3 D4 L0\n",
       "    error(0.0331017) D3 D5\n",
       "    error(0.039327) D3 L0\n",
       "    error(0.0454693) D4 D5\n",
       "    error(0.0343602) D4 L0\n",
       "    error(0.0466945) D5\n",
       "    error(0.00533333) D5 L0\n",
       "    detector(3.5, 0, 0) D0\n",
       "    detector(0.5, 1, 0) D1\n",
       "    detector(3.5, 2, 0) D2\n",
       "    shift_detectors(0, 0, 1) 0\n",
       "    detector(3.5, 0, 0) D3\n",
       "    detector(0.5, 1, 0) D4\n",
       "    detector(3.5, 2, 0) D5\n",
       "''')"
      ]
     },
     "execution_count": 102,
     "metadata": {},
     "output_type": "execute_result"
    }
   ],
   "source": [
    "Z_DEM"
   ]
  },
  {
   "cell_type": "code",
   "execution_count": null,
   "metadata": {},
   "outputs": [
    {
     "name": "stdout",
     "output_type": "stream",
     "text": [
      "w/o L0:\n",
      "-0.053459484061921136\n",
      "w/o L0:\n",
      "-0.08859199244982463\n",
      "w/o L0:\n",
      "-0.10831052165351285\n",
      "w/o L0:\n",
      "-0.11586724373224855\n",
      "w/o L0:\n",
      "-0.09862534492818409\n",
      "w/o L0:\n",
      "-0.16592064494257874\n"
     ]
    }
   ],
   "source": [
    "#Use obs_flips to see how we can identify the contribution of flip/no flip for the boundary events\n",
    "\n",
    "def split_boundary_contribution_Z(pij_bd,obs_flips,defects_matrix_Z,obj,num_rounds,pij_bulk,pij_time,p3):\n",
    "\n",
    "    num_shots   = np.shape(defects_matrix_Z)[0]\n",
    "    num_ancilla = len(obj.qubit_groups['anc'])\n",
    "    dets_Z,dets_X=get_Z_X_det_nodes_as_rd_anc_pairs_dict(obj,num_rounds,num_ancilla)\n",
    "\n",
    "    locs_flips = np.nonzero(obs_flips)[0]\n",
    "    locs_flips = set(locs_flips)\n",
    "    no_flips   = set(np.arange(num_shots)) ^ locs_flips \n",
    "    no_flips   = list(no_flips)\n",
    "    \n",
    "\n",
    "    vi_mean_Z   = np.zeros((num_rounds+1,num_ancilla))\n",
    "    vivj_mean_Z = np.zeros((num_rounds+1,num_rounds+1,num_ancilla,num_ancilla))\n",
    "    \n",
    "    \n",
    "    defects_matrix_Z.data[no_flips,:,:]=0\n",
    "\n",
    "    vi_mean_Z   = avg_vi(defects_matrix_Z)\n",
    "    # vivj_mean_Z = avg_vivj(defects_matrix_Z)\n",
    "\n",
    "    for key in pij_bd.keys():\n",
    "\n",
    "        rd,anc = dets_Z[key]\n",
    "\n",
    "        vi    = vi_mean_Z[rd,anc]\n",
    "        DENOM = 1\n",
    "\n",
    "        for key2 in pij_bulk.keys():\n",
    "            if key in key2:\n",
    "                DENOM *= 1-2*pij_bulk[key2]\n",
    "\n",
    "        for key2 in p3.keys():\n",
    "            if key in key2:\n",
    "                DENOM *= 1-2*p3[key2]\n",
    "        \n",
    "        for key2 in pij_time.keys():\n",
    "            if key in key2:\n",
    "                DENOM *=1-2*pij_time[key2]\n",
    "\n",
    "        print(\"w/o L0:\")\n",
    "        print(1/2 + (vi-1/2)/DENOM)\n",
    "\n",
    "\n",
    "\n",
    "    return \n",
    "\n",
    "split_boundary_contribution_Z(pij_bd,obs_flips,defects_matrix_Z,obj,num_rounds,pij_bulk,pij_time,p3)\n",
    "\n"
   ]
  },
  {
   "cell_type": "code",
   "execution_count": null,
   "metadata": {},
   "outputs": [
    {
     "data": {
      "text/plain": [
       "stim.DetectorErrorModel('''\n",
       "    error(0.0191187) D0 D1 D2\n",
       "    error(0.0126203) D0 D1 L0\n",
       "    error(0.0255305) D0 D2\n",
       "    error(0.0485405) D0 D3\n",
       "    error(0.0442573) D0 L0\n",
       "    error(0.0119289) D1\n",
       "    error(0.0126203) D1 D2\n",
       "    error(0.00797863) D1 D2 D3\n",
       "    error(0.00797863) D1 D3 D5\n",
       "    error(0.0261209) D1 D3 L0\n",
       "    error(0.0485405) D1 D4\n",
       "    error(0.0132269) D1 D5\n",
       "    error(0.0318567) D1 L0\n",
       "    error(0.0191187) D2\n",
       "    error(0.00797863) D2 D3\n",
       "    error(0.0485405) D2 D5\n",
       "    error(0.00533333) D2 L0\n",
       "    error(0.0267923) D3 D4 D5\n",
       "    error(0.0280678) D3 D4 L0\n",
       "    error(0.0331017) D3 D5\n",
       "    error(0.039327) D3 L0\n",
       "    error(0.0454693) D4 D5\n",
       "    error(0.0343602) D4 L0\n",
       "    error(0.0466945) D5\n",
       "    error(0.00533333) D5 L0\n",
       "    detector(3.5, 0, 0) D0\n",
       "    detector(0.5, 1, 0) D1\n",
       "    detector(3.5, 2, 0) D2\n",
       "    shift_detectors(0, 0, 1) 0\n",
       "    detector(3.5, 0, 0) D3\n",
       "    detector(0.5, 1, 0) D4\n",
       "    detector(3.5, 2, 0) D5\n",
       "''')"
      ]
     },
     "execution_count": 96,
     "metadata": {},
     "output_type": "execute_result"
    }
   ],
   "source": [
    "Z_DEM"
   ]
  },
  {
   "cell_type": "code",
   "execution_count": null,
   "metadata": {},
   "outputs": [
    {
     "data": {
      "text/plain": [
       "0.002833546716163989"
      ]
     },
     "execution_count": 87,
     "metadata": {},
     "output_type": "execute_result"
    }
   ],
   "source": [
    "\n",
    "\n",
    "pij_bd[(\"D1\")]*0.0661255"
   ]
  },
  {
   "cell_type": "code",
   "execution_count": null,
   "metadata": {},
   "outputs": [
    {
     "data": {
      "text/plain": [
       "stim.DetectorErrorModel('''\n",
       "    error(0.0191187) D0 D1 D2\n",
       "    error(0.0126203) D0 D1 L0\n",
       "    error(0.0255305) D0 D2\n",
       "    error(0.0485405) D0 D3\n",
       "    error(0.0442573) D0 L0\n",
       "    error(0.0119289) D1\n",
       "    error(0.0126203) D1 D2\n",
       "    error(0.00797863) D1 D2 D3\n",
       "    error(0.00797863) D1 D3 D5\n",
       "    error(0.0261209) D1 D3 L0\n",
       "    error(0.0485405) D1 D4\n",
       "    error(0.0132269) D1 D5\n",
       "    error(0.0318567) D1 L0\n",
       "    error(0.0191187) D2\n",
       "    error(0.00797863) D2 D3\n",
       "    error(0.0485405) D2 D5\n",
       "    error(0.00533333) D2 L0\n",
       "    error(0.0267923) D3 D4 D5\n",
       "    error(0.0280678) D3 D4 L0\n",
       "    error(0.0331017) D3 D5\n",
       "    error(0.039327) D3 L0\n",
       "    error(0.0454693) D4 D5\n",
       "    error(0.0343602) D4 L0\n",
       "    error(0.0466945) D5\n",
       "    error(0.00533333) D5 L0\n",
       "    detector(3.5, 0, 0) D0\n",
       "    detector(0.5, 1, 0) D1\n",
       "    detector(3.5, 2, 0) D2\n",
       "    shift_detectors(0, 0, 1) 0\n",
       "    detector(3.5, 0, 0) D3\n",
       "    detector(0.5, 1, 0) D4\n",
       "    detector(3.5, 2, 0) D5\n",
       "''')"
      ]
     },
     "execution_count": 53,
     "metadata": {},
     "output_type": "execute_result"
    }
   ],
   "source": [
    "Z_DEM"
   ]
  },
  {
   "cell_type": "code",
   "execution_count": null,
   "metadata": {},
   "outputs": [
    {
     "name": "stdout",
     "output_type": "stream",
     "text": [
      "l= 1\n",
      "key2 key2: ('D1', 'D2', 'D3')\n",
      "l= 1\n",
      "key2 key2: ('D1', 'D2', 'D3')\n",
      "l= 2\n",
      "key2 key2: ('D1', 'D3', 'D5')\n",
      "l= 2\n",
      "key2 key2: ('D1', 'D3', 'D5')\n"
     ]
    },
    {
     "data": {
      "text/plain": [
       "{('D1', 'D3'): 0.026321608262211874,\n",
       " ('D2', 'D3'): 0.007849411634615597,\n",
       " ('D1', 'D5'): 0.013251526823739299}"
      ]
     },
     "execution_count": 122,
     "metadata": {},
     "output_type": "execute_result"
    }
   ],
   "source": [
    "def estimate_ZDEM(sols_for_Z,num_rounds,Z_DEM):\n",
    "    '''Redefine the time edges for the X dem'''\n",
    "\n",
    "    \n",
    "    all_dets = []\n",
    "    #Use X-DEM to find out which names of 3-pnt events we need\n",
    "    for instruction in Z_DEM:\n",
    "\n",
    "        if instruction.type==\"error\": #Get the 3 pnt events that we are interested in\n",
    "\n",
    "            targets = instruction.targets_copy()\n",
    "            dets    = []\n",
    "            for tar in targets:\n",
    "                if tar.is_relative_detector_id():\n",
    "\n",
    "                    dets.append(tar)\n",
    "            if len(dets)==3:\n",
    "                temp = []\n",
    "                for det in dets:\n",
    "                    id = str(det.val)\n",
    "                    temp.append(\"D\"+id)\n",
    "                \n",
    "                all_dets.append(tuple(temp))\n",
    "\n",
    "    #Now use the solutions we have to estimate the X-DEM\n",
    "\n",
    "    temp_Z_DEM = {}   \n",
    "    for key in all_dets:\n",
    "\n",
    "        temp_Z_DEM[key] = sols_for_Z[key][key] #Add the 3 pnt event\n",
    "    \n",
    "    num_ancilla   = len(obj.qubit_groups['anc'])\n",
    "    dets_Z,dets_X = get_Z_X_det_nodes_as_rd_anc_pairs_dict(obj,num_rounds,num_ancilla)\n",
    "    \n",
    "    pij_bulk = {}\n",
    "    \n",
    "    for m in range(len(all_dets)):\n",
    "\n",
    "        key = all_dets[m]\n",
    "\n",
    "        for other_key in sols_for_Z[key].keys():\n",
    "\n",
    "            #Boundary\n",
    "            if other_key[0]==\"D\":\n",
    "                continue\n",
    "\n",
    "            if len(other_key)==3:\n",
    "                continue\n",
    "\n",
    "            #Start with bulk edges\n",
    "            det0 = other_key[0]\n",
    "            det1 = other_key[1]\n",
    "\n",
    "            rd0,anc0 = dets_Z[det0]\n",
    "            rd1,anc1 = dets_Z[det1]\n",
    "\n",
    "            if rd0!=rd1:\n",
    "                continue\n",
    "\n",
    "            p3=[]\n",
    "\n",
    "            if rd0==0:\n",
    "\n",
    "                for l in range(m+1,len(all_dets)):\n",
    "                    key2 = all_dets[l]\n",
    "\n",
    "                    if  key!=key2 and det0 in key2 or det1 in key2: # and\n",
    "                        p3.append(sols_for_Z[key2][key2])\n",
    "\n",
    "            else:\n",
    "\n",
    "                for l in range(m,len(all_dets)):\n",
    "                    key2 = all_dets[l]\n",
    "\n",
    "                    if  key!=key2 and det0 in key2 or det1 in key2: # and\n",
    "                        p3.append(sols_for_Z[key2][key2])\n",
    "\n",
    "            try:\n",
    "\n",
    "                for p in p3:\n",
    "\n",
    "                    pij_bulk[other_key]=(pij_bulk[other_key]-p)/(1-2*p)\n",
    "\n",
    "            except KeyError:\n",
    "                pij_bulk[other_key]=sols_for_Z[key][other_key]\n",
    "\n",
    "    pij_time = {}\n",
    "    \n",
    "    #Now continue with time edges:\n",
    "    for m in range(len(all_dets)):\n",
    "\n",
    "        key = all_dets[m]\n",
    "\n",
    "        for other_key in sols_for_Z[key].keys():\n",
    "\n",
    "            #Boundary\n",
    "            if other_key[0]==\"D\":\n",
    "                continue\n",
    "\n",
    "            if len(other_key)==3:\n",
    "                continue\n",
    "\n",
    "            det0 = other_key[0]\n",
    "            det1 = other_key[1]\n",
    "\n",
    "            rd0,anc0 = dets_Z[det0]\n",
    "            rd1,anc1 = dets_Z[det1]\n",
    "\n",
    "            if rd0==rd1:\n",
    "                continue\n",
    "\n",
    "            \n",
    "            p3=[]\n",
    "\n",
    "            if rd0==0:\n",
    "                \n",
    "\n",
    "                for l in range(m,m+1):\n",
    "                    print(\"l=\",l)\n",
    "                    key2 = all_dets[l]\n",
    "                    print(\"key2 key2:\",key2)\n",
    "\n",
    "                    if  det0 in key2 or det1 in key2:  #key!=key2 and \n",
    "                        p3.append(sols_for_Z[key2][key2])\n",
    "\n",
    "            else:\n",
    "\n",
    "                for l in range(m,len(all_dets)):\n",
    "                    key2 = all_dets[l]\n",
    "\n",
    "                    if  key!=key2 and det0 in key2 or det1 in key2: \n",
    "                        p3.append(sols_for_Z[key2][key2])\n",
    "\n",
    "            try:\n",
    "\n",
    "                for p in p3:\n",
    "\n",
    "                    pij_time[other_key]=(pij_time[other_key]-p)/(1-2*p)\n",
    "\n",
    "            except KeyError:\n",
    "                pij_time[other_key]=sols_for_Z[key][other_key]\n",
    "\n",
    "\n",
    "    return pij_time\n",
    "\n",
    "\n",
    "# estimate_ZDEM(sols_for_Z,num_rounds,Z_DEM)\n",
    "\n",
    "#Get the bulk, boundary and time edges. \n",
    "#Put their initially estimated values in a dictionary\n",
    "#In other dictionary put the 3 pnt events associated with those edges.\n"
   ]
  },
  {
   "cell_type": "code",
   "execution_count": null,
   "metadata": {},
   "outputs": [
    {
     "data": {
      "text/plain": [
       "{'D1': 0.12258272100373291,\n",
       " 'D3': 0.11378067446699938,\n",
       " 'D5': 0.13195574122763312,\n",
       " ('D1', 'D3'): 0.03393102007937788,\n",
       " ('D1', 'D5'): 0.013251526823739299,\n",
       " ('D3', 'D5'): 0.057896642132259306,\n",
       " ('D1', 'D3', 'D5'): 0.008001399789339017}"
      ]
     },
     "execution_count": 119,
     "metadata": {},
     "output_type": "execute_result"
    }
   ],
   "source": [
    "sols_for_Z[(\"D1\",\"D3\",\"D5\")]"
   ]
  },
  {
   "cell_type": "code",
   "execution_count": null,
   "metadata": {},
   "outputs": [
    {
     "data": {
      "text/plain": [
       "dict_keys([('D0', 'D1', 'D2'), ('D0', 'D2', 'D4'), ('D1', 'D2', 'D3'), ('D2', 'D3', 'D4'), ('D0', 'D1', 'D5'), ('D0', 'D4', 'D5'), ('D1', 'D3', 'D5'), ('D3', 'D4', 'D5')])"
      ]
     },
     "execution_count": 113,
     "metadata": {},
     "output_type": "execute_result"
    }
   ],
   "source": [
    "sols_for_Z.keys()"
   ]
  },
  {
   "cell_type": "code",
   "execution_count": null,
   "metadata": {},
   "outputs": [
    {
     "data": {
      "text/plain": [
       "0.02629197076309297"
      ]
     },
     "execution_count": 112,
     "metadata": {},
     "output_type": "execute_result"
    }
   ],
   "source": [
    "p=sols_for_Z[(\"D1\",\"D2\",\"D3\")][(\"D1\",\"D3\")]\n",
    "q=sols_for_Z[(\"D1\",\"D2\",\"D3\")][(\"D1\",\"D2\",\"D3\")]\n",
    "\n",
    "(p-q)/(1-2*q)"
   ]
  },
  {
   "cell_type": "code",
   "execution_count": null,
   "metadata": {},
   "outputs": [
    {
     "data": {
      "text/plain": [
       "stim.DetectorErrorModel('''\n",
       "    error(0.0191187) D0 D1 D2\n",
       "    error(0.0126203) D0 D1 L0\n",
       "    error(0.0255305) D0 D2\n",
       "    error(0.0485405) D0 D3\n",
       "    error(0.0442573) D0 L0\n",
       "    error(0.0119289) D1\n",
       "    error(0.0126203) D1 D2\n",
       "    error(0.00797863) D1 D2 D3\n",
       "    error(0.00797863) D1 D3 D5\n",
       "    error(0.0261209) D1 D3 L0\n",
       "    error(0.0485405) D1 D4\n",
       "    error(0.0132269) D1 D5\n",
       "    error(0.0318567) D1 L0\n",
       "    error(0.0191187) D2\n",
       "    error(0.00797863) D2 D3\n",
       "    error(0.0485405) D2 D5\n",
       "    error(0.00533333) D2 L0\n",
       "    error(0.0267923) D3 D4 D5\n",
       "    error(0.0280678) D3 D4 L0\n",
       "    error(0.0331017) D3 D5\n",
       "    error(0.039327) D3 L0\n",
       "    error(0.0454693) D4 D5\n",
       "    error(0.0343602) D4 L0\n",
       "    error(0.0466945) D5\n",
       "    error(0.00533333) D5 L0\n",
       "    detector(3.5, 0, 0) D0\n",
       "    detector(0.5, 1, 0) D1\n",
       "    detector(3.5, 2, 0) D2\n",
       "    shift_detectors(0, 0, 1) 0\n",
       "    detector(3.5, 0, 0) D3\n",
       "    detector(0.5, 1, 0) D4\n",
       "    detector(3.5, 2, 0) D5\n",
       "''')"
      ]
     },
     "execution_count": 70,
     "metadata": {},
     "output_type": "execute_result"
    }
   ],
   "source": [
    "Z_DEM"
   ]
  },
  {
   "cell_type": "code",
   "execution_count": null,
   "metadata": {},
   "outputs": [
    {
     "data": {
      "text/plain": [
       "0.0328654226592882"
      ]
     },
     "execution_count": 67,
     "metadata": {},
     "output_type": "execute_result"
    }
   ],
   "source": [
    "p=0.057896642132259306\n",
    "q=0.0267923\n",
    "(p-q)/(1-2*q)"
   ]
  },
  {
   "cell_type": "code",
   "execution_count": null,
   "metadata": {},
   "outputs": [
    {
     "data": {
      "text/plain": [
       "stim.DetectorErrorModel('''\n",
       "    error(0.0191187) D0 D1 D2\n",
       "    error(0.0126203) D0 D1 L0\n",
       "    error(0.0255305) D0 D2\n",
       "    error(0.0485405) D0 D3\n",
       "    error(0.0442573) D0 L0\n",
       "    error(0.0119289) D1\n",
       "    error(0.0126203) D1 D2\n",
       "    error(0.00797863) D1 D2 D3\n",
       "    error(0.00797863) D1 D3 D5\n",
       "    error(0.0261209) D1 D3 L0\n",
       "    error(0.0485405) D1 D4\n",
       "    error(0.0132269) D1 D5\n",
       "    error(0.0318567) D1 L0\n",
       "    error(0.0191187) D2\n",
       "    error(0.00797863) D2 D3\n",
       "    error(0.0485405) D2 D5\n",
       "    error(0.00533333) D2 L0\n",
       "    error(0.0267923) D3 D4 D5\n",
       "    error(0.0280678) D3 D4 L0\n",
       "    error(0.0331017) D3 D5\n",
       "    error(0.039327) D3 L0\n",
       "    error(0.0454693) D4 D5\n",
       "    error(0.0343602) D4 L0\n",
       "    error(0.0466945) D5\n",
       "    error(0.00533333) D5 L0\n",
       "    detector(3.5, 0, 0) D0\n",
       "    detector(0.5, 1, 0) D1\n",
       "    detector(3.5, 2, 0) D2\n",
       "    shift_detectors(0, 0, 1) 0\n",
       "    detector(3.5, 0, 0) D3\n",
       "    detector(0.5, 1, 0) D4\n",
       "    detector(3.5, 2, 0) D5\n",
       "''')"
      ]
     },
     "execution_count": 46,
     "metadata": {},
     "output_type": "execute_result"
    }
   ],
   "source": [
    "Z_DEM"
   ]
  },
  {
   "cell_type": "code",
   "execution_count": null,
   "metadata": {},
   "outputs": [
    {
     "data": {
      "text/plain": [
       "{'D0': 0.08859561596074747,\n",
       " 'D1': 0.1252097180731737,\n",
       " 'D2': 0.07735519020576663,\n",
       " ('D0', 'D1'): 0.012794703535623413,\n",
       " ('D0', 'D2'): 0.025630452241839293,\n",
       " ('D1', 'D2'): 0.020254127015224475,\n",
       " ('D0', 'D1', 'D2'): 0.019128583745959302}"
      ]
     },
     "execution_count": 43,
     "metadata": {},
     "output_type": "execute_result"
    }
   ],
   "source": [
    "sols_for_Z[(\"D0\",\"D1\",\"D2\")]"
   ]
  },
  {
   "cell_type": "code",
   "execution_count": null,
   "metadata": {},
   "outputs": [
    {
     "data": {
      "text/plain": [
       "stim.DetectorErrorModel('''\n",
       "    error(0.0191187) D0 D1 D2\n",
       "    error(0.0126203) D0 D1 L0\n",
       "    error(0.0255305) D0 D2\n",
       "    error(0.0485405) D0 D3\n",
       "    error(0.0442573) D0 L0\n",
       "    error(0.0119289) D1\n",
       "    error(0.0126203) D1 D2\n",
       "    error(0.00797863) D1 D2 D3\n",
       "    error(0.00797863) D1 D3 D5\n",
       "    error(0.0261209) D1 D3 L0\n",
       "    error(0.0485405) D1 D4\n",
       "    error(0.0132269) D1 D5\n",
       "    error(0.0318567) D1 L0\n",
       "    error(0.0191187) D2\n",
       "    error(0.00797863) D2 D3\n",
       "    error(0.0485405) D2 D5\n",
       "    error(0.00533333) D2 L0\n",
       "    error(0.0267923) D3 D4 D5\n",
       "    error(0.0280678) D3 D4 L0\n",
       "    error(0.0331017) D3 D5\n",
       "    error(0.039327) D3 L0\n",
       "    error(0.0454693) D4 D5\n",
       "    error(0.0343602) D4 L0\n",
       "    error(0.0466945) D5\n",
       "    error(0.00533333) D5 L0\n",
       "    detector(3.5, 0, 0) D0\n",
       "    detector(0.5, 1, 0) D1\n",
       "    detector(3.5, 2, 0) D2\n",
       "    shift_detectors(0, 0, 1) 0\n",
       "    detector(3.5, 0, 0) D3\n",
       "    detector(0.5, 1, 0) D4\n",
       "    detector(3.5, 2, 0) D5\n",
       "''')"
      ]
     },
     "execution_count": 42,
     "metadata": {},
     "output_type": "execute_result"
    }
   ],
   "source": [
    "Z_DEM"
   ]
  },
  {
   "cell_type": "code",
   "execution_count": null,
   "metadata": {},
   "outputs": [
    {
     "data": {
      "text/plain": [
       "{'D6': (0, 0), 'D7': (0, 1), 'D8': (0, 2)}"
      ]
     },
     "execution_count": 30,
     "metadata": {},
     "output_type": "execute_result"
    }
   ],
   "source": [
    "num_ancilla = len(obj.qubit_groups['anc'])\n",
    "dets_Z,dets_X = get_Z_X_det_nodes_as_rd_anc_pairs_dict(obj,num_rounds,num_ancilla)\n",
    "\n",
    "dets_X"
   ]
  },
  {
   "cell_type": "code",
   "execution_count": null,
   "metadata": {},
   "outputs": [
    {
     "name": "stdout",
     "output_type": "stream",
     "text": [
      "For: ('D0', 'D1', 'D2') 0.019174799517058666\n",
      "For: ('D1', 'D2', 'D3') 0.008088621202013323\n",
      "For: ('D1', 'D3', 'D5') 0.007869411797946568\n",
      "For: ('D3', 'D4', 'D5') 0.02694708456287626\n"
     ]
    }
   ],
   "source": [
    "all_keys=list(sols.keys())\n",
    "sols[all_keys[2]]\n",
    "\n",
    "for k in range(len(all_keys)):\n",
    "    val = sols[all_keys[k]][all_keys[k]]\n",
    "    if val>5e-4:\n",
    "        print(\"For:\",all_keys[k],val)\n"
   ]
  },
  {
   "cell_type": "code",
   "execution_count": null,
   "metadata": {},
   "outputs": [],
   "source": [
    "def collect_solutions_of_3_pnt_cnts(sols):\n",
    "    \n",
    "    p3_cnts={}\n",
    "    for key in sols.keys():\n",
    "\n",
    "        for other_key in sols[key].keys():\n",
    "\n",
    "            if len(other_key)==3:\n",
    "                \n",
    "                p3_cnts[other_key]=sols[other_key][other_key]\n",
    "                break\n",
    "\n",
    "\n",
    "    return p3_cnts\n",
    "\n",
    "p3_cnts_Z_DEM = collect_solutions_of_3_pnt_cnts(sols)\n",
    "\n",
    "#Next just estimate time, bulk and boundary edges and update with the usual formula.\n",
    "#Finally, repeat for the X-dem.\n",
    "#Then we can do the decomposition of the DEMs into the color-restricted and color only DEMs.\n"
   ]
  },
  {
   "cell_type": "code",
   "execution_count": null,
   "metadata": {},
   "outputs": [],
   "source": [
    "#Now estimate time edges and update them based on 3 pnt events\n",
    "\n",
    "def estimate_time_edges(p3_cnts_Z_DEM):\n",
    "\n",
    "\n",
    "    return \n"
   ]
  },
  {
   "cell_type": "markdown",
   "metadata": {},
   "source": [
    "The things below are old version (to be deleted)"
   ]
  },
  {
   "cell_type": "code",
   "execution_count": null,
   "metadata": {},
   "outputs": [],
   "source": [
    "#Now X-defects looks correct!\n",
    "num_shots = 500_000\n",
    "defects_matrix_Z,defects_matrix_X,data_qubit_samples,Z_ANC_QUBITS,X_ANC_QUBITS=get_defects(circuit,num_rounds,num_shots,obj)\n",
    "\n",
    "num_ancilla   = len(Z_ANC_QUBITS)\n",
    "Z_dets,X_dets = get_Z_X_det_nodes(obj,num_rounds,num_ancilla*2)\n",
    "\n",
    "vi_mean   = {}\n",
    "vivj_mean = {}\n",
    "\n",
    "if len(defects_matrix_X)>0:\n",
    "\n",
    "    vi_mean['X']    = avg_vi(defects_matrix_X)\n",
    "    vivj_mean['X']  = avg_vivj(defects_matrix_X)\n",
    "    \n",
    "vi_mean['Z']    = avg_vi(defects_matrix_Z)\n",
    "vivj_mean['Z']  = avg_vivj(defects_matrix_Z)\n",
    "\n",
    "\n",
    "#From these 2 we can reconstruct exactly each color-restricted DEM1\n",
    "pij_bulk = estimate_bulk_edges(num_ancilla,num_rounds,vi_mean,vivj_mean,Z_dets,X_dets)\n",
    "pij_bd   = get_bd_probs_for_each_restricted_color(pij_bulk,vi_mean,nodes,num_rounds,num_ancilla,obj)"
   ]
  },
  {
   "cell_type": "code",
   "execution_count": null,
   "metadata": {},
   "outputs": [
    {
     "name": "stdout",
     "output_type": "stream",
     "text": [
      "red: [4, 5, 8, 13, 14, 17]\n",
      "blue: [2, 3, 7, 11, 12, 16]\n",
      "green: [0, 1, 6, 9, 10, 15]\n"
     ]
    },
    {
     "data": {
      "text/plain": [
       "{('D0', 'D2', 'D4'): 0.00182,\n",
       " ('D1', 'D2', 'D4'): 4.6e-05,\n",
       " ('D2', 'D4', 'D6'): 0.000126,\n",
       " ('D2', 'D4', 'D9'): 0.000642,\n",
       " ('D2', 'D4', 'D10'): 4e-06,\n",
       " ('D2', 'D4', 'D15'): 6e-06,\n",
       " ('D0', 'D3', 'D4'): 0.001324,\n",
       " ('D1', 'D3', 'D4'): 9.4e-05,\n",
       " ('D3', 'D4', 'D6'): 0.001858,\n",
       " ('D3', 'D4', 'D9'): 1.2e-05,\n",
       " ('D3', 'D4', 'D10'): 0.0,\n",
       " ('D3', 'D4', 'D15'): 4e-06,\n",
       " ('D0', 'D4', 'D7'): 0.0001,\n",
       " ('D1', 'D4', 'D7'): 5.2e-05,\n",
       " ('D4', 'D6', 'D7'): 0.001318,\n",
       " ('D4', 'D7', 'D9'): 0.0,\n",
       " ('D4', 'D7', 'D10'): 4e-06,\n",
       " ('D4', 'D7', 'D15'): 0.001088,\n",
       " ('D0', 'D4', 'D11'): 6e-06,\n",
       " ('D1', 'D4', 'D11'): 0.0,\n",
       " ('D4', 'D6', 'D11'): 0.0,\n",
       " ('D4', 'D9', 'D11'): 1e-05,\n",
       " ('D4', 'D10', 'D11'): 0.0,\n",
       " ('D4', 'D11', 'D15'): 2e-06,\n",
       " ('D0', 'D4', 'D12'): 0.001148,\n",
       " ('D1', 'D4', 'D12'): 0.0,\n",
       " ('D4', 'D6', 'D12'): 0.000704,\n",
       " ('D4', 'D9', 'D12'): 0.000726,\n",
       " ('D4', 'D10', 'D12'): 2e-06,\n",
       " ('D4', 'D12', 'D15'): 0.000664,\n",
       " ('D0', 'D4', 'D16'): 0.0,\n",
       " ('D1', 'D4', 'D16'): 0.0,\n",
       " ('D4', 'D6', 'D16'): 6e-06,\n",
       " ('D4', 'D9', 'D16'): 0.0,\n",
       " ('D4', 'D10', 'D16'): 0.0,\n",
       " ('D4', 'D15', 'D16'): 1.2e-05,\n",
       " ('D0', 'D2', 'D5'): 6.2e-05,\n",
       " ('D1', 'D2', 'D5'): 8e-05,\n",
       " ('D2', 'D5', 'D6'): 6.4e-05,\n",
       " ('D2', 'D5', 'D9'): 2e-06,\n",
       " ('D2', 'D5', 'D10'): 8e-06,\n",
       " ('D2', 'D5', 'D15'): 0.0,\n",
       " ('D0', 'D3', 'D5'): 0.000112,\n",
       " ('D1', 'D3', 'D5'): 0.002018,\n",
       " ('D3', 'D5', 'D6'): 0.001414,\n",
       " ('D3', 'D5', 'D9'): 0.0,\n",
       " ('D3', 'D5', 'D10'): 0.000684,\n",
       " ('D3', 'D5', 'D15'): 2e-06,\n",
       " ('D0', 'D5', 'D7'): 4e-06,\n",
       " ('D1', 'D5', 'D7'): 8.4e-05,\n",
       " ('D5', 'D6', 'D7'): 8.8e-05,\n",
       " ('D5', 'D7', 'D9'): 0.0,\n",
       " ('D5', 'D7', 'D10'): 0.0,\n",
       " ('D5', 'D7', 'D15'): 0.0,\n",
       " ('D0', 'D5', 'D11'): 0.0,\n",
       " ('D1', 'D5', 'D11'): 4e-06,\n",
       " ('D5', 'D6', 'D11'): 4e-06,\n",
       " ('D5', 'D9', 'D11'): 4e-06,\n",
       " ('D5', 'D10', 'D11'): 0.0,\n",
       " ('D5', 'D11', 'D15'): 0.0,\n",
       " ('D0', 'D5', 'D12'): 4e-06,\n",
       " ('D1', 'D5', 'D12'): 6e-06,\n",
       " ('D5', 'D6', 'D12'): 1.2e-05,\n",
       " ('D5', 'D9', 'D12'): 2e-06,\n",
       " ('D5', 'D10', 'D12'): 1.6e-05,\n",
       " ('D5', 'D12', 'D15'): 1.6e-05,\n",
       " ('D0', 'D5', 'D16'): 0.0,\n",
       " ('D1', 'D5', 'D16'): 0.0,\n",
       " ('D5', 'D6', 'D16'): 0.0,\n",
       " ('D5', 'D9', 'D16'): 0.0,\n",
       " ('D5', 'D10', 'D16'): 0.0,\n",
       " ('D5', 'D15', 'D16'): 0.0,\n",
       " ('D0', 'D2', 'D8'): 4.6e-05,\n",
       " ('D1', 'D2', 'D8'): 4e-06,\n",
       " ('D2', 'D6', 'D8'): 8e-05,\n",
       " ('D2', 'D8', 'D9'): 2e-06,\n",
       " ('D2', 'D8', 'D10'): 0.0,\n",
       " ('D2', 'D8', 'D15'): 6e-06,\n",
       " ('D0', 'D3', 'D8'): 7e-05,\n",
       " ('D1', 'D3', 'D8'): 5e-05,\n",
       " ('D3', 'D6', 'D8'): 0.00012,\n",
       " ('D3', 'D8', 'D9'): 0.0,\n",
       " ('D3', 'D8', 'D10'): 2e-06,\n",
       " ('D3', 'D8', 'D15'): 0.0,\n",
       " ('D0', 'D7', 'D8'): 6.4e-05,\n",
       " ('D1', 'D7', 'D8'): 6.2e-05,\n",
       " ('D6', 'D7', 'D8'): 0.00203,\n",
       " ('D7', 'D8', 'D9'): 0.0,\n",
       " ('D7', 'D8', 'D10'): 1e-05,\n",
       " ('D7', 'D8', 'D15'): 0.000662,\n",
       " ('D0', 'D8', 'D11'): 0.0,\n",
       " ('D1', 'D8', 'D11'): 0.0,\n",
       " ('D6', 'D8', 'D11'): 1e-05,\n",
       " ('D8', 'D9', 'D11'): 4e-06,\n",
       " ('D8', 'D10', 'D11'): 0.0,\n",
       " ('D8', 'D11', 'D15'): 4e-06,\n",
       " ('D0', 'D8', 'D12'): 0.0,\n",
       " ('D1', 'D8', 'D12'): 0.0,\n",
       " ('D6', 'D8', 'D12'): 0.0,\n",
       " ('D8', 'D9', 'D12'): 8e-06,\n",
       " ('D8', 'D10', 'D12'): 6e-06,\n",
       " ('D8', 'D12', 'D15'): 2e-06,\n",
       " ('D0', 'D8', 'D16'): 0.0,\n",
       " ('D1', 'D8', 'D16'): 0.0,\n",
       " ('D6', 'D8', 'D16'): 1.2e-05,\n",
       " ('D8', 'D9', 'D16'): 0.0,\n",
       " ('D8', 'D10', 'D16'): 0.0,\n",
       " ('D8', 'D15', 'D16'): 1.4e-05,\n",
       " ('D0', 'D2', 'D13'): 1.2e-05,\n",
       " ('D1', 'D2', 'D13'): 4e-06,\n",
       " ('D2', 'D6', 'D13'): 6e-06,\n",
       " ('D2', 'D9', 'D13'): 0.000672,\n",
       " ('D2', 'D10', 'D13'): 8e-06,\n",
       " ('D2', 'D13', 'D15'): 0.000432,\n",
       " ('D0', 'D3', 'D13'): 6e-06,\n",
       " ('D1', 'D3', 'D13'): 0.0,\n",
       " ('D3', 'D6', 'D13'): 8e-06,\n",
       " ('D3', 'D9', 'D13'): 1.2e-05,\n",
       " ('D3', 'D10', 'D13'): 0.0,\n",
       " ('D3', 'D13', 'D15'): 1.2e-05,\n",
       " ('D0', 'D7', 'D13'): 0.0,\n",
       " ('D1', 'D7', 'D13'): 0.0,\n",
       " ('D6', 'D7', 'D13'): 1.2e-05,\n",
       " ('D7', 'D9', 'D13'): 2e-06,\n",
       " ('D7', 'D10', 'D13'): 0.0,\n",
       " ('D7', 'D13', 'D15'): 0.000684,\n",
       " ('D0', 'D11', 'D13'): 8e-06,\n",
       " ('D1', 'D11', 'D13'): 2e-05,\n",
       " ('D6', 'D11', 'D13'): 0.0,\n",
       " ('D9', 'D11', 'D13'): 0.002748,\n",
       " ('D10', 'D11', 'D13'): 0.000146,\n",
       " ('D11', 'D13', 'D15'): 0.000216,\n",
       " ('D0', 'D12', 'D13'): 2e-05,\n",
       " ('D1', 'D12', 'D13'): 0.0,\n",
       " ('D6', 'D12', 'D13'): 1.2e-05,\n",
       " ('D9', 'D12', 'D13'): 0.00283,\n",
       " ('D10', 'D12', 'D13'): 0.00023,\n",
       " ('D12', 'D13', 'D15'): 0.00278,\n",
       " ('D0', 'D13', 'D16'): 0.0,\n",
       " ('D1', 'D13', 'D16'): 6e-06,\n",
       " ('D6', 'D13', 'D16'): 1.8e-05,\n",
       " ('D9', 'D13', 'D16'): 0.000162,\n",
       " ('D10', 'D13', 'D16'): 0.000162,\n",
       " ('D13', 'D15', 'D16'): 0.002874,\n",
       " ('D0', 'D2', 'D14'): 0.0,\n",
       " ('D1', 'D2', 'D14'): 0.0,\n",
       " ('D2', 'D6', 'D14'): 4e-06,\n",
       " ('D2', 'D9', 'D14'): 0.0,\n",
       " ('D2', 'D10', 'D14'): 8e-06,\n",
       " ('D2', 'D14', 'D15'): 1.2e-05,\n",
       " ('D0', 'D3', 'D14'): 2e-06,\n",
       " ('D1', 'D3', 'D14'): 2e-06,\n",
       " ('D3', 'D6', 'D14'): 0.001104,\n",
       " ('D3', 'D9', 'D14'): 0.0,\n",
       " ('D3', 'D10', 'D14'): 0.00064,\n",
       " ('D3', 'D14', 'D15'): 2.6e-05,\n",
       " ('D0', 'D7', 'D14'): 0.0,\n",
       " ('D1', 'D7', 'D14'): 0.0,\n",
       " ('D6', 'D7', 'D14'): 2e-06,\n",
       " ('D7', 'D9', 'D14'): 0.0,\n",
       " ('D7', 'D10', 'D14'): 4e-06,\n",
       " ('D7', 'D14', 'D15'): 8e-06,\n",
       " ('D0', 'D11', 'D14'): 0.0,\n",
       " ('D1', 'D11', 'D14'): 0.0,\n",
       " ('D6', 'D11', 'D14'): 4e-06,\n",
       " ('D9', 'D11', 'D14'): 0.000132,\n",
       " ('D10', 'D11', 'D14'): 0.000126,\n",
       " ('D11', 'D14', 'D15'): 0.00012,\n",
       " ('D0', 'D12', 'D14'): 0.000468,\n",
       " ('D1', 'D12', 'D14'): 6e-06,\n",
       " ('D6', 'D12', 'D14'): 0.00069,\n",
       " ('D9', 'D12', 'D14'): 0.00022,\n",
       " ('D10', 'D12', 'D14'): 0.002762,\n",
       " ('D12', 'D14', 'D15'): 0.002878,\n",
       " ('D0', 'D14', 'D16'): 0.0,\n",
       " ('D1', 'D14', 'D16'): 0.0,\n",
       " ('D6', 'D14', 'D16'): 0.0,\n",
       " ('D9', 'D14', 'D16'): 4e-06,\n",
       " ('D10', 'D14', 'D16'): 0.000122,\n",
       " ('D14', 'D15', 'D16'): 0.000158,\n",
       " ('D0', 'D2', 'D17'): 4e-06,\n",
       " ('D1', 'D2', 'D17'): 0.0,\n",
       " ('D2', 'D6', 'D17'): 0.0,\n",
       " ('D2', 'D9', 'D17'): 6e-06,\n",
       " ('D2', 'D10', 'D17'): 0.0,\n",
       " ('D2', 'D15', 'D17'): 1.2e-05,\n",
       " ('D0', 'D3', 'D17'): 2.8e-05,\n",
       " ('D1', 'D3', 'D17'): 6e-06,\n",
       " ('D3', 'D6', 'D17'): 0.0,\n",
       " ('D3', 'D9', 'D17'): 0.0,\n",
       " ('D3', 'D10', 'D17'): 1e-05,\n",
       " ('D3', 'D15', 'D17'): 0.0,\n",
       " ('D0', 'D7', 'D17'): 0.0,\n",
       " ('D1', 'D7', 'D17'): 1e-05,\n",
       " ('D6', 'D7', 'D17'): 4e-06,\n",
       " ('D7', 'D9', 'D17'): 0.0,\n",
       " ('D7', 'D10', 'D17'): 4e-06,\n",
       " ('D7', 'D15', 'D17'): 0.000702,\n",
       " ('D0', 'D11', 'D17'): 0.0,\n",
       " ('D1', 'D11', 'D17'): 0.0,\n",
       " ('D6', 'D11', 'D17'): 0.0,\n",
       " ('D9', 'D11', 'D17'): 0.000134,\n",
       " ('D10', 'D11', 'D17'): 8e-06,\n",
       " ('D11', 'D15', 'D17'): 0.00015,\n",
       " ('D0', 'D12', 'D17'): 1e-05,\n",
       " ('D1', 'D12', 'D17'): 0.0,\n",
       " ('D6', 'D12', 'D17'): 0.0,\n",
       " ('D9', 'D12', 'D17'): 0.000154,\n",
       " ('D10', 'D12', 'D17'): 0.000116,\n",
       " ('D12', 'D15', 'D17'): 0.000246,\n",
       " ('D0', 'D16', 'D17'): 0.0,\n",
       " ('D1', 'D16', 'D17'): 1e-05,\n",
       " ('D6', 'D16', 'D17'): 4e-06,\n",
       " ('D9', 'D16', 'D17'): 0.00016,\n",
       " ('D10', 'D16', 'D17'): 0.000148,\n",
       " ('D15', 'D16', 'D17'): 0.002758}"
      ]
     },
     "execution_count": 19,
     "metadata": {},
     "output_type": "execute_result"
    }
   ],
   "source": [
    "p3_cnts = get_all_3_point_probs_new(defects_matrix_Z,nodes)\n",
    "\n",
    "p3_cnts"
   ]
  },
  {
   "cell_type": "code",
   "execution_count": null,
   "metadata": {},
   "outputs": [
    {
     "data": {
      "text/plain": [
       "0.018994"
      ]
     },
     "execution_count": 251,
     "metadata": {},
     "output_type": "execute_result"
    }
   ],
   "source": [
    "#Suppose D0,D2,D4\n",
    "\n",
    "#Could use: P111 = pik pj + pi pjk + pk pij +pijk (1- all the rest)\n",
    "#and solve for pijj\n",
    "\n",
    "anc0,rd0 = 0,0 #D0\n",
    "anc1,rd1 = 2,0 #D2\n",
    "anc2,rd2 = 4,0 #D4\n",
    "\n",
    "cnt_D0 = defects_matrix_Z.data[:,rd0,anc0]\n",
    "cnt_D2 = defects_matrix_Z.data[:,rd1,anc1]\n",
    "cnt_D4 = defects_matrix_Z.data[:,rd2,anc2]\n",
    "\n",
    "cnt_D0D2 = sum(cnt_D0 & cnt_D2)/num_shots\n",
    "cnt_D0D4 = sum(cnt_D0 & cnt_D4)/num_shots\n",
    "cnt_D2D4 = sum(cnt_D2 & cnt_D4)/num_shots\n",
    "\n",
    "\n",
    "cnt_D0D2D4 = sum(cnt_D0 & cnt_D2 & cnt_D4)/num_shots\n",
    "cnt_D0     = sum(cnt_D0)/num_shots\n",
    "cnt_D2     = sum(cnt_D2)/num_shots\n",
    "cnt_D4     = sum(cnt_D4)/num_shots\n",
    "\n",
    "\n",
    "(cnt_D0D2D4 )\n",
    "\n"
   ]
  },
  {
   "cell_type": "code",
   "execution_count": null,
   "metadata": {},
   "outputs": [
    {
     "data": {
      "text/plain": [
       "{'r': ['D4', 'D5', 'D8', 'D13', 'D14', 'D17'],\n",
       " 'g': ['D0', 'D1', 'D6', 'D9', 'D10', 'D15'],\n",
       " 'b': ['D2', 'D3', 'D7', 'D11', 'D12', 'D16']}"
      ]
     },
     "execution_count": 204,
     "metadata": {},
     "output_type": "execute_result"
    }
   ],
   "source": [
    "nodes"
   ]
  },
  {
   "cell_type": "code",
   "execution_count": null,
   "metadata": {},
   "outputs": [
    {
     "data": {
      "text/plain": [
       "0.012579795932191487"
      ]
     },
     "execution_count": 252,
     "metadata": {},
     "output_type": "execute_result"
    }
   ],
   "source": [
    "#D0 D3 D4\n",
    "\n",
    "anc0,rd0 = 0,0 #D0\n",
    "anc1,rd1 = 3,0 #D3\n",
    "anc2,rd2 = 4,0 #D4\n",
    "\n",
    "cnt_D0 = defects_matrix_Z.data[:,rd0,anc0]\n",
    "cnt_D3 = defects_matrix_Z.data[:,rd1,anc1]\n",
    "cnt_D4 = defects_matrix_Z.data[:,rd2,anc2]\n",
    "\n",
    "cnt_D0D3 = sum(cnt_D0 & cnt_D3)/num_shots\n",
    "cnt_D0D4 = sum(cnt_D0 & cnt_D4)/num_shots\n",
    "cnt_D2D4 = sum(cnt_D3 & cnt_D4)/num_shots\n",
    "\n",
    "\n",
    "cnt_D0D3D4 = sum(cnt_D0 & cnt_D3 & cnt_D4)/num_shots\n",
    "\n",
    "cnt_D0 = sum(cnt_D0)/num_shots\n",
    "cnt_D3 = sum(cnt_D3)/num_shots\n",
    "cnt_D4 = sum(cnt_D4)/num_shots\n",
    "\n",
    "(cnt_D0D3D4-cnt_D0*cnt_D3*cnt_D4)/(1-2*cnt_D0*cnt_D3*cnt_D4)"
   ]
  },
  {
   "cell_type": "code",
   "execution_count": null,
   "metadata": {},
   "outputs": [
    {
     "data": {
      "text/plain": [
       "0.011989752733430604"
      ]
     },
     "execution_count": 253,
     "metadata": {},
     "output_type": "execute_result"
    }
   ],
   "source": [
    "#D0 D4 D12\n",
    "\n",
    "anc0,rd0 = 0,0 #D0\n",
    "anc1,rd1 = 4,0 #D4\n",
    "anc2,rd2 = 3,1 #D12\n",
    "\n",
    "cnt_D0 = defects_matrix_Z.data[:,rd0,anc0]\n",
    "cnt_D4 = defects_matrix_Z.data[:,rd1,anc1]\n",
    "cnt_D12 = defects_matrix_Z.data[:,rd2,anc2]\n",
    "\n",
    "cnt_D0D4 = sum(cnt_D0 & cnt_D4)/num_shots\n",
    "cnt_D0D12 = sum(cnt_D0 & cnt_D12)/num_shots\n",
    "cnt_D4D12 = sum(cnt_D4 & cnt_D12)/num_shots\n",
    "\n",
    "\n",
    "cnt_D0D4D12 = sum(cnt_D0 & cnt_D4 & cnt_D12)/num_shots\n",
    "\n",
    "cnt_D0 = sum(cnt_D0)/num_shots\n",
    "cnt_D4 = sum(cnt_D4)/num_shots\n",
    "cnt_D12 = sum(cnt_D12)/num_shots\n",
    "\n",
    "(cnt_D0D4D12-cnt_D0*cnt_D4*cnt_D12)/(1-2*cnt_D0*cnt_D4*cnt_D12)"
   ]
  },
  {
   "cell_type": "code",
   "execution_count": null,
   "metadata": {},
   "outputs": [
    {
     "data": {
      "text/plain": [
       "{'r': ['D4', 'D5', 'D8', 'D13', 'D14', 'D17'],\n",
       " 'g': ['D0', 'D1', 'D6', 'D9', 'D10', 'D15'],\n",
       " 'b': ['D2', 'D3', 'D7', 'D11', 'D12', 'D16']}"
      ]
     },
     "execution_count": 221,
     "metadata": {},
     "output_type": "execute_result"
    }
   ],
   "source": [
    "nodes"
   ]
  },
  {
   "cell_type": "code",
   "execution_count": null,
   "metadata": {},
   "outputs": [
    {
     "data": {
      "text/plain": [
       "0.0125125"
      ]
     },
     "execution_count": 254,
     "metadata": {},
     "output_type": "execute_result"
    }
   ],
   "source": [
    "#D0 D3 D4\n",
    "anc0,rd0 = 0,0\n",
    "anc1,rd1 = 3,0\n",
    "anc2,rd2 = 4,0\n",
    "\n",
    "include_pairs=[(rd0,anc0),(rd1,anc1),(rd2,anc2)]\n",
    "\n",
    "\n",
    "exclude_pairs=[(0,2)] #D2: exclude the first blue before D3\n",
    "\n",
    "get_3Point_prob_exclude(defects_matrix_Z,num_shots,include_pairs,exclude_pairs)"
   ]
  },
  {
   "cell_type": "code",
   "execution_count": null,
   "metadata": {},
   "outputs": [
    {
     "data": {
      "text/plain": [
       "0.0188535"
      ]
     },
     "execution_count": 255,
     "metadata": {},
     "output_type": "execute_result"
    }
   ],
   "source": [
    "#D1 D3 D5\n",
    "\n",
    "anc0,rd0 = 1,0\n",
    "anc1,rd1 = 3,0\n",
    "anc2,rd2 = 5,0\n",
    "\n",
    "include_pairs=[(rd0,anc0),(rd1,anc1),(rd2,anc2)]\n",
    "\n",
    "#Exclude all first blue before D12: D2', 'D3', 'D7', 'D11'\n",
    "\n",
    "# exclude_pairs=[] \n",
    "\n",
    "# get_3Point_prob_exclude(defects_matrix_Z,num_shots,include_pairs,exclude_pairs)\n",
    "\n",
    "get_3Point_prob(defects_matrix_Z,num_shots,include_pairs)"
   ]
  },
  {
   "cell_type": "code",
   "execution_count": null,
   "metadata": {},
   "outputs": [
    {
     "data": {
      "text/plain": [
       "stim.DetectorErrorModel('''\n",
       "    error(0.0191187) D0 D2 D4\n",
       "    error(0.0126203) D0 D2 L0\n",
       "    error(0.0126203) D0 D3 D4\n",
       "    error(0.0318567) D0 D3 L0\n",
       "    error(0.0132269) D0 D4 D12\n",
       "    error(0.00533333) D0 D6\n",
       "    error(0.0485405) D0 D9\n",
       "    error(0.00533333) D0 D12 D14\n",
       "    error(0.00797863) D0 D12 L0\n",
       "    error(0.0191187) D1 D3 D5\n",
       "    error(0.0126203) D1 D3 L0\n",
       "    error(0.0255305) D1 D5\n",
       "    error(0.0485405) D1 D10\n",
       "    error(0.0442573) D1 L0\n",
       "    error(0.0126203) D2 D4\n",
       "    error(0.00797863) D2 D4 D9\n",
       "    error(0.00533333) D2 D7\n",
       "    error(0.00797863) D2 D9 D13\n",
       "    error(0.0261209) D2 D9 L0\n",
       "    error(0.0485405) D2 D11\n",
       "    error(0.0132269) D2 D13\n",
       "    error(0.00533333) D2 D13 D15\n",
       "    error(0.0318567) D2 L0\n",
       "    error(0.0119289) D3\n",
       "    error(0.0191187) D3 D4 D6\n",
       "    error(0.0126203) D3 D5 D6\n",
       "    error(0.00797863) D3 D5 D10\n",
       "    error(0.0132269) D3 D6 D14\n",
       "    error(0.00797863) D3 D10 D14\n",
       "    error(0.0261209) D3 D10 L0\n",
       "    error(0.041203) D3 D12\n",
       "    error(0.0126203) D4 D6 D7\n",
       "    error(0.00797863) D4 D6 D12\n",
       "    error(0.0191187) D4 D7\n",
       "    error(0.0132269) D4 D7 D15\n",
       "    error(0.00533333) D4 D8\n",
       "    error(0.00797863) D4 D9 D12\n",
       "    error(0.00797863) D4 D12 D15\n",
       "    error(0.041203) D4 D13\n",
       "    error(0.00533333) D4 D15\n",
       "    error(0.00533333) D4 L0\n",
       "    error(0.0191187) D5 D6\n",
       "    error(0.00797863) D5 D10\n",
       "    error(0.0485405) D5 D14\n",
       "    error(0.00533333) D5 L0\n",
       "    error(0.0191187) D6 D7 D8\n",
       "    error(0.0255305) D6 D8\n",
       "    error(0.00797863) D6 D12 D14\n",
       "    error(0.0210117) D6 D14\n",
       "    error(0.041203) D6 D15\n",
       "    error(0.0119289) D7\n",
       "    error(0.0126203) D7 D8\n",
       "    error(0.00797863) D7 D8 D15\n",
       "    error(0.00797863) D7 D13\n",
       "    error(0.00797863) D7 D13 D15\n",
       "    error(0.00797863) D7 D15 D17\n",
       "    error(0.0485405) D7 D16\n",
       "    error(0.0132269) D7 D17\n",
       "    error(0.0191187) D8\n",
       "    error(0.00797863) D8 D15\n",
       "    error(0.0485405) D8 D17\n",
       "    error(0.0267923) D9 D11 D13\n",
       "    error(0.0280678) D9 D11 L0\n",
       "    error(0.0280678) D9 D12 D13\n",
       "    error(0.039327) D9 D12 L0\n",
       "    error(0.00533333) D9 D15\n",
       "    error(0.0267923) D10 D12 D14\n",
       "    error(0.0280678) D10 D12 L0\n",
       "    error(0.0331017) D10 D14\n",
       "    error(0.039327) D10 L0\n",
       "    error(0.0454693) D11 D13\n",
       "    error(0.0343602) D11 L0\n",
       "    error(0.00533333) D12\n",
       "    error(0.0267923) D12 D13 D15\n",
       "    error(0.0280678) D12 D14 D15\n",
       "    error(0.0280678) D13 D15 D16\n",
       "    error(0.0343602) D13 D16\n",
       "    error(0.00533333) D13 D17\n",
       "    error(0.00533333) D13 L0\n",
       "    error(0.0267923) D14 D15\n",
       "    error(0.00533333) D14 L0\n",
       "    error(0.0267923) D15 D16 D17\n",
       "    error(0.0331017) D15 D17\n",
       "    error(0.0454693) D16 D17\n",
       "    error(0.0466945) D17\n",
       "    detector(3.5, 0, 0) D0\n",
       "    detector(9.5, 0, 0) D1\n",
       "    detector(0.5, 1, 0) D2\n",
       "    detector(6.5, 1, 0) D3\n",
       "    detector(3.5, 2, 0) D4\n",
       "    detector(9.5, 2, 0) D5\n",
       "    detector(6.5, 3, 0) D6\n",
       "    detector(3.5, 4, 0) D7\n",
       "    detector(6.5, 5, 0) D8\n",
       "    shift_detectors(0, 0, 1) 0\n",
       "    detector(3.5, 0, 0) D9\n",
       "    detector(9.5, 0, 0) D10\n",
       "    detector(0.5, 1, 0) D11\n",
       "    detector(6.5, 1, 0) D12\n",
       "    detector(3.5, 2, 0) D13\n",
       "    detector(9.5, 2, 0) D14\n",
       "    detector(6.5, 3, 0) D15\n",
       "    detector(3.5, 4, 0) D16\n",
       "    detector(6.5, 5, 0) D17\n",
       "''')"
      ]
     },
     "execution_count": 246,
     "metadata": {},
     "output_type": "execute_result"
    }
   ],
   "source": [
    "circuit.detector_error_model()"
   ]
  },
  {
   "cell_type": "code",
   "execution_count": null,
   "metadata": {},
   "outputs": [
    {
     "name": "stdout",
     "output_type": "stream",
     "text": [
      "red: [4, 5, 8, 13, 14, 17]\n",
      "blue: [2, 3, 7, 11, 12, 16]\n",
      "green: [0, 1, 6, 9, 10, 15]\n"
     ]
    }
   ],
   "source": [
    "p_3cnts     = get_all_3_point_probs_new(defects_matrix_Z,nodes)"
   ]
  },
  {
   "cell_type": "code",
   "execution_count": null,
   "metadata": {},
   "outputs": [],
   "source": [
    "p3_cnts=get_all_3_point_probs(defects_matrix_Z)"
   ]
  },
  {
   "cell_type": "code",
   "execution_count": null,
   "metadata": {},
   "outputs": [
    {
     "data": {
      "text/plain": [
       "0.019344"
      ]
     },
     "execution_count": 164,
     "metadata": {},
     "output_type": "execute_result"
    }
   ],
   "source": [
    "p3_cnts[(\"D0\",\"D2\",\"D4\")]"
   ]
  },
  {
   "cell_type": "code",
   "execution_count": null,
   "metadata": {},
   "outputs": [
    {
     "data": {
      "text/plain": [
       "0.000968"
      ]
     },
     "execution_count": 167,
     "metadata": {},
     "output_type": "execute_result"
    }
   ],
   "source": [
    "p3_cnts[(\"D0\",\"D12\",\"D14\")]"
   ]
  },
  {
   "cell_type": "code",
   "execution_count": null,
   "metadata": {},
   "outputs": [
    {
     "data": {
      "text/plain": [
       "stim.DetectorErrorModel('''\n",
       "    error(0.0191187) D0 D2 D4\n",
       "    error(0.0126203) D0 D2 L0\n",
       "    error(0.0126203) D0 D3 D4\n",
       "    error(0.0318567) D0 D3 L0\n",
       "    error(0.0132269) D0 D4 D12\n",
       "    error(0.00533333) D0 D6\n",
       "    error(0.0485405) D0 D9\n",
       "    error(0.00533333) D0 D12 D14\n",
       "    error(0.00797863) D0 D12 L0\n",
       "    error(0.0191187) D1 D3 D5\n",
       "    error(0.0126203) D1 D3 L0\n",
       "    error(0.0255305) D1 D5\n",
       "    error(0.0485405) D1 D10\n",
       "    error(0.0442573) D1 L0\n",
       "    error(0.0126203) D2 D4\n",
       "    error(0.00797863) D2 D4 D9\n",
       "    error(0.00533333) D2 D7\n",
       "    error(0.00797863) D2 D9 D13\n",
       "    error(0.0261209) D2 D9 L0\n",
       "    error(0.0485405) D2 D11\n",
       "    error(0.0132269) D2 D13\n",
       "    error(0.00533333) D2 D13 D15\n",
       "    error(0.0318567) D2 L0\n",
       "    error(0.0119289) D3\n",
       "    error(0.0191187) D3 D4 D6\n",
       "    error(0.0126203) D3 D5 D6\n",
       "    error(0.00797863) D3 D5 D10\n",
       "    error(0.0132269) D3 D6 D14\n",
       "    error(0.00797863) D3 D10 D14\n",
       "    error(0.0261209) D3 D10 L0\n",
       "    error(0.041203) D3 D12\n",
       "    error(0.0126203) D4 D6 D7\n",
       "    error(0.00797863) D4 D6 D12\n",
       "    error(0.0191187) D4 D7\n",
       "    error(0.0132269) D4 D7 D15\n",
       "    error(0.00533333) D4 D8\n",
       "    error(0.00797863) D4 D9 D12\n",
       "    error(0.00797863) D4 D12 D15\n",
       "    error(0.041203) D4 D13\n",
       "    error(0.00533333) D4 D15\n",
       "    error(0.00533333) D4 L0\n",
       "    error(0.0191187) D5 D6\n",
       "    error(0.00797863) D5 D10\n",
       "    error(0.0485405) D5 D14\n",
       "    error(0.00533333) D5 L0\n",
       "    error(0.0191187) D6 D7 D8\n",
       "    error(0.0255305) D6 D8\n",
       "    error(0.00797863) D6 D12 D14\n",
       "    error(0.0210117) D6 D14\n",
       "    error(0.041203) D6 D15\n",
       "    error(0.0119289) D7\n",
       "    error(0.0126203) D7 D8\n",
       "    error(0.00797863) D7 D8 D15\n",
       "    error(0.00797863) D7 D13\n",
       "    error(0.00797863) D7 D13 D15\n",
       "    error(0.00797863) D7 D15 D17\n",
       "    error(0.0485405) D7 D16\n",
       "    error(0.0132269) D7 D17\n",
       "    error(0.0191187) D8\n",
       "    error(0.00797863) D8 D15\n",
       "    error(0.0485405) D8 D17\n",
       "    error(0.0267923) D9 D11 D13\n",
       "    error(0.0280678) D9 D11 L0\n",
       "    error(0.0280678) D9 D12 D13\n",
       "    error(0.039327) D9 D12 L0\n",
       "    error(0.00533333) D9 D15\n",
       "    error(0.0267923) D10 D12 D14\n",
       "    error(0.0280678) D10 D12 L0\n",
       "    error(0.0331017) D10 D14\n",
       "    error(0.039327) D10 L0\n",
       "    error(0.0454693) D11 D13\n",
       "    error(0.0343602) D11 L0\n",
       "    error(0.00533333) D12\n",
       "    error(0.0267923) D12 D13 D15\n",
       "    error(0.0280678) D12 D14 D15\n",
       "    error(0.0280678) D13 D15 D16\n",
       "    error(0.0343602) D13 D16\n",
       "    error(0.00533333) D13 D17\n",
       "    error(0.00533333) D13 L0\n",
       "    error(0.0267923) D14 D15\n",
       "    error(0.00533333) D14 L0\n",
       "    error(0.0267923) D15 D16 D17\n",
       "    error(0.0331017) D15 D17\n",
       "    error(0.0454693) D16 D17\n",
       "    error(0.0466945) D17\n",
       "    detector(3.5, 0, 0) D0\n",
       "    detector(9.5, 0, 0) D1\n",
       "    detector(0.5, 1, 0) D2\n",
       "    detector(6.5, 1, 0) D3\n",
       "    detector(3.5, 2, 0) D4\n",
       "    detector(9.5, 2, 0) D5\n",
       "    detector(6.5, 3, 0) D6\n",
       "    detector(3.5, 4, 0) D7\n",
       "    detector(6.5, 5, 0) D8\n",
       "    shift_detectors(0, 0, 1) 0\n",
       "    detector(3.5, 0, 0) D9\n",
       "    detector(9.5, 0, 0) D10\n",
       "    detector(0.5, 1, 0) D11\n",
       "    detector(6.5, 1, 0) D12\n",
       "    detector(3.5, 2, 0) D13\n",
       "    detector(9.5, 2, 0) D14\n",
       "    detector(6.5, 3, 0) D15\n",
       "    detector(3.5, 4, 0) D16\n",
       "    detector(6.5, 5, 0) D17\n",
       "''')"
      ]
     },
     "execution_count": 163,
     "metadata": {},
     "output_type": "execute_result"
    }
   ],
   "source": [
    "circuit.detector_error_model()"
   ]
  },
  {
   "cell_type": "code",
   "execution_count": null,
   "metadata": {},
   "outputs": [
    {
     "data": {
      "text/plain": [
       "0.0387065"
      ]
     },
     "execution_count": 122,
     "metadata": {},
     "output_type": "execute_result"
    }
   ],
   "source": [
    "#Let's try to use the expression:\n",
    "\n",
    "# 1/2 - sqrt(1/4 - numer/denom)\n",
    "#where denom = 1-2*(v_i0 +v_j0+v_k0 - 2(v_i0+v_j0+v_k0)+4*v_iov_j0v+k0)\n",
    "#and numer = vi0vj0vk0-vi0<v_j0v_k0>\n",
    "\n",
    "cnts_of_D0 = defects_matrix_Z.data[:,0,0]\n",
    "cnts_of_D1 = defects_matrix_Z.data[:,0,1]\n",
    "cnts_of_D2 = defects_matrix_Z.data[:,0,2]\n",
    "\n",
    "v0 = sum(cnts_of_D0)/num_shots\n",
    "v1 = sum(cnts_of_D1)/num_shots\n",
    "v2 = sum(cnts_of_D2)/num_shots\n",
    "\n",
    "v0v1 = sum(cnts_of_D0 & cnts_of_D1)/num_shots\n",
    "v0v2 = sum(cnts_of_D0 & cnts_of_D2)/num_shots\n",
    "v1v2 = sum(cnts_of_D1 & cnts_of_D2)/num_shots\n",
    "\n",
    "v0v1v2 = sum(cnts_of_D0 & cnts_of_D1 & cnts_of_D2)/num_shots\n",
    "\n",
    "# numer = v0v1v2 - v0*(v1v2)-v1*(v0v2)-v2*(v0v1)+2*v0*v1*v2\n",
    "# denom = 1-2*( v0+v1+v2 -2*(v0v1+v0v2+v1v2) + 4*v0v1v2 )\n",
    "\n",
    "# 1/2-np.sqrt(1/4-numer/denom)\n",
    "\n",
    "v0v1\n"
   ]
  },
  {
   "cell_type": "code",
   "execution_count": null,
   "metadata": {},
   "outputs": [
    {
     "data": {
      "text/plain": [
       "stim.DetectorErrorModel('''\n",
       "    error(0.0191187) D0 D1 D2\n",
       "    error(0.0126203) D0 D1 L0\n",
       "    error(0.0255305) D0 D2\n",
       "    error(0.0485405) D0 D3\n",
       "    error(0.0442573) D0 L0\n",
       "    error(0.0119289) D1\n",
       "    error(0.0126203) D1 D2\n",
       "    error(0.00797863) D1 D2 D3\n",
       "    error(0.00797863) D1 D3 D5\n",
       "    error(0.0261209) D1 D3 L0\n",
       "    error(0.0485405) D1 D4\n",
       "    error(0.0132269) D1 D5\n",
       "    error(0.0318567) D1 L0\n",
       "    error(0.0191187) D2\n",
       "    error(0.00797863) D2 D3\n",
       "    error(0.0485405) D2 D5\n",
       "    error(0.00533333) D2 L0\n",
       "    error(0.0267923) D3 D4 D5\n",
       "    error(0.0280678) D3 D4 L0\n",
       "    error(0.0331017) D3 D5\n",
       "    error(0.039327) D3 L0\n",
       "    error(0.0454693) D4 D5\n",
       "    error(0.0343602) D4 L0\n",
       "    error(0.0466945) D5\n",
       "    error(0.00533333) D5 L0\n",
       "    detector(3.5, 0, 0) D0\n",
       "    detector(0.5, 1, 0) D1\n",
       "    detector(3.5, 2, 0) D2\n",
       "    shift_detectors(0, 0, 1) 0\n",
       "    detector(3.5, 0, 0) D3\n",
       "    detector(0.5, 1, 0) D4\n",
       "    detector(3.5, 2, 0) D5\n",
       "''')"
      ]
     },
     "execution_count": 112,
     "metadata": {},
     "output_type": "execute_result"
    }
   ],
   "source": [
    "circuit.detector_error_model()"
   ]
  },
  {
   "cell_type": "code",
   "execution_count": null,
   "metadata": {},
   "outputs": [
    {
     "name": "stdout",
     "output_type": "stream",
     "text": [
      "red: [4, 5, 8, 13, 14, 17]\n",
      "blue: [2, 3, 7, 11, 12, 16]\n",
      "green: [0, 1, 6, 9, 10, 15]\n"
     ]
    },
    {
     "data": {
      "text/plain": [
       "{('D0', 'D2', 'D4'): 0.019344,\n",
       " ('D1', 'D2', 'D4'): 0.006496,\n",
       " ('D2', 'D4', 'D6'): 0.010084,\n",
       " ('D2', 'D4', 'D9'): 0.001592,\n",
       " ('D2', 'D4', 'D10'): 9.2e-05,\n",
       " ('D2', 'D4', 'D15'): 8.8e-05,\n",
       " ('D0', 'D3', 'D4'): 0.016972,\n",
       " ('D1', 'D3', 'D4'): 0.008492,\n",
       " ('D3', 'D4', 'D6'): 0.019672,\n",
       " ('D3', 'D4', 'D9'): 0.000204,\n",
       " ('D3', 'D4', 'D10'): 4.4e-05,\n",
       " ('D3', 'D4', 'D15'): 0.000248,\n",
       " ('D0', 'D4', 'D7'): 0.009104,\n",
       " ('D1', 'D4', 'D7'): 0.006616,\n",
       " ('D4', 'D6', 'D7'): 0.016808,\n",
       " ('D4', 'D7', 'D9'): 5.2e-05,\n",
       " ('D4', 'D7', 'D10'): 0.000132,\n",
       " ('D4', 'D7', 'D15'): 0.002224,\n",
       " ('D0', 'D4', 'D11'): 0.000204,\n",
       " ('D1', 'D4', 'D11'): 2e-05,\n",
       " ('D4', 'D6', 'D11'): 2.8e-05,\n",
       " ('D4', 'D9', 'D11'): 0.000308,\n",
       " ('D4', 'D10', 'D11'): 2.8e-05,\n",
       " ('D4', 'D11', 'D15'): 6.4e-05,\n",
       " ('D0', 'D4', 'D12'): 0.00256,\n",
       " ('D1', 'D4', 'D12'): 2e-05,\n",
       " ('D4', 'D6', 'D12'): 0.00158,\n",
       " ('D4', 'D9', 'D12'): 0.001808,\n",
       " ('D4', 'D10', 'D12'): 7.2e-05,\n",
       " ('D4', 'D12', 'D15'): 0.001636,\n",
       " ('D0', 'D4', 'D16'): 4e-06,\n",
       " ('D1', 'D4', 'D16'): 2.8e-05,\n",
       " ('D4', 'D6', 'D16'): 0.000132,\n",
       " ('D4', 'D9', 'D16'): 1.6e-05,\n",
       " ('D4', 'D10', 'D16'): 1.6e-05,\n",
       " ('D4', 'D15', 'D16'): 0.000372,\n",
       " ('D0', 'D2', 'D5'): 0.005256,\n",
       " ('D1', 'D2', 'D5'): 0.007428,\n",
       " ('D2', 'D5', 'D6'): 0.00632,\n",
       " ('D2', 'D5', 'D9'): 4.4e-05,\n",
       " ('D2', 'D5', 'D10'): 5.6e-05,\n",
       " ('D2', 'D5', 'D15'): 8e-06,\n",
       " ('D0', 'D3', 'D5'): 0.007624,\n",
       " ('D1', 'D3', 'D5'): 0.018604,\n",
       " ('D3', 'D5', 'D6'): 0.015788,\n",
       " ('D3', 'D5', 'D9'): 2.4e-05,\n",
       " ('D3', 'D5', 'D10'): 0.001484,\n",
       " ('D3', 'D5', 'D15'): 0.000132,\n",
       " ('D0', 'D5', 'D7'): 0.002928,\n",
       " ('D1', 'D5', 'D7'): 0.007272,\n",
       " ('D5', 'D6', 'D7'): 0.007328,\n",
       " ('D5', 'D7', 'D9'): 0.0,\n",
       " ('D5', 'D7', 'D10'): 2.4e-05,\n",
       " ('D5', 'D7', 'D15'): 0.0,\n",
       " ('D0', 'D5', 'D11'): 1.2e-05,\n",
       " ('D1', 'D5', 'D11'): 0.000152,\n",
       " ('D5', 'D6', 'D11'): 0.000152,\n",
       " ('D5', 'D9', 'D11'): 3.6e-05,\n",
       " ('D5', 'D10', 'D11'): 6e-05,\n",
       " ('D5', 'D11', 'D15'): 2e-05,\n",
       " ('D0', 'D5', 'D12'): 7.2e-05,\n",
       " ('D1', 'D5', 'D12'): 0.000224,\n",
       " ('D5', 'D6', 'D12'): 0.0002,\n",
       " ('D5', 'D9', 'D12'): 4e-05,\n",
       " ('D5', 'D10', 'D12'): 0.000396,\n",
       " ('D5', 'D12', 'D15'): 0.000272,\n",
       " ('D0', 'D5', 'D16'): 0.0,\n",
       " ('D1', 'D5', 'D16'): 8e-06,\n",
       " ('D5', 'D6', 'D16'): 2.8e-05,\n",
       " ('D5', 'D9', 'D16'): 4e-06,\n",
       " ('D5', 'D10', 'D16'): 8e-06,\n",
       " ('D5', 'D15', 'D16'): 0.0,\n",
       " ('D0', 'D2', 'D8'): 0.00502,\n",
       " ('D1', 'D2', 'D8'): 0.002808,\n",
       " ('D2', 'D6', 'D8'): 0.00754,\n",
       " ('D2', 'D8', 'D9'): 0.000148,\n",
       " ('D2', 'D8', 'D10'): 8e-06,\n",
       " ('D2', 'D8', 'D15'): 0.000132,\n",
       " ('D0', 'D3', 'D8'): 0.006528,\n",
       " ('D1', 'D3', 'D8'): 0.005356,\n",
       " ('D3', 'D6', 'D8'): 0.009512,\n",
       " ('D3', 'D8', 'D9'): 8e-06,\n",
       " ('D3', 'D8', 'D10'): 0.000132,\n",
       " ('D3', 'D8', 'D15'): 2.8e-05,\n",
       " ('D0', 'D7', 'D8'): 0.006012,\n",
       " ('D1', 'D7', 'D8'): 0.005644,\n",
       " ('D6', 'D7', 'D8'): 0.018904,\n",
       " ('D7', 'D8', 'D9'): 8e-06,\n",
       " ('D7', 'D8', 'D10'): 0.000132,\n",
       " ('D7', 'D8', 'D15'): 0.001672,\n",
       " ('D0', 'D8', 'D11'): 4e-06,\n",
       " ('D1', 'D8', 'D11'): 8e-06,\n",
       " ('D6', 'D8', 'D11'): 0.000132,\n",
       " ('D8', 'D9', 'D11'): 0.000104,\n",
       " ('D8', 'D10', 'D11'): 8e-06,\n",
       " ('D8', 'D11', 'D15'): 6e-05,\n",
       " ('D0', 'D8', 'D12'): 6.8e-05,\n",
       " ('D1', 'D8', 'D12'): 1.2e-05,\n",
       " ('D6', 'D8', 'D12'): 4e-05,\n",
       " ('D8', 'D9', 'D12'): 0.000136,\n",
       " ('D8', 'D10', 'D12'): 0.000144,\n",
       " ('D8', 'D12', 'D15'): 4e-05,\n",
       " ('D0', 'D8', 'D16'): 8e-06,\n",
       " ('D1', 'D8', 'D16'): 2.8e-05,\n",
       " ('D6', 'D8', 'D16'): 0.000208,\n",
       " ('D8', 'D9', 'D16'): 0.0,\n",
       " ('D8', 'D10', 'D16'): 1.2e-05,\n",
       " ('D8', 'D15', 'D16'): 0.000344,\n",
       " ('D0', 'D2', 'D13'): 0.000236,\n",
       " ('D1', 'D2', 'D13'): 9.6e-05,\n",
       " ('D2', 'D6', 'D13'): 2.8e-05,\n",
       " ('D2', 'D9', 'D13'): 0.001756,\n",
       " ('D2', 'D10', 'D13'): 0.000112,\n",
       " ('D2', 'D13', 'D15'): 0.000872,\n",
       " ('D0', 'D3', 'D13'): 0.000192,\n",
       " ('D1', 'D3', 'D13'): 1.6e-05,\n",
       " ('D3', 'D6', 'D13'): 0.000148,\n",
       " ('D3', 'D9', 'D13'): 0.000248,\n",
       " ('D3', 'D10', 'D13'): 5.6e-05,\n",
       " ('D3', 'D13', 'D15'): 0.000212,\n",
       " ('D0', 'D7', 'D13'): 1.2e-05,\n",
       " ('D1', 'D7', 'D13'): 8.4e-05,\n",
       " ('D6', 'D7', 'D13'): 0.000164,\n",
       " ('D7', 'D9', 'D13'): 7.2e-05,\n",
       " ('D7', 'D10', 'D13'): 7.2e-05,\n",
       " ('D7', 'D13', 'D15'): 0.00178,\n",
       " ('D0', 'D11', 'D13'): 0.000272,\n",
       " ('D1', 'D11', 'D13'): 0.000352,\n",
       " ('D6', 'D11', 'D13'): 1.6e-05,\n",
       " ('D9', 'D11', 'D13'): 0.026812,\n",
       " ('D10', 'D11', 'D13'): 0.012564,\n",
       " ('D11', 'D13', 'D15'): 0.015976,\n",
       " ('D0', 'D12', 'D13'): 0.000356,\n",
       " ('D1', 'D12', 'D13'): 4e-06,\n",
       " ('D6', 'D12', 'D13'): 0.000248,\n",
       " ('D9', 'D12', 'D13'): 0.0292,\n",
       " ('D10', 'D12', 'D13'): 0.016112,\n",
       " ('D12', 'D13', 'D15'): 0.028872,\n",
       " ('D0', 'D13', 'D16'): 8e-06,\n",
       " ('D1', 'D13', 'D16'): 0.000328,\n",
       " ('D6', 'D13', 'D16'): 0.00026,\n",
       " ('D9', 'D13', 'D16'): 0.013284,\n",
       " ('D10', 'D13', 'D16'): 0.011632,\n",
       " ('D13', 'D15', 'D16'): 0.027532,\n",
       " ('D0', 'D2', 'D14'): 1.6e-05,\n",
       " ('D1', 'D2', 'D14'): 2e-05,\n",
       " ('D2', 'D6', 'D14'): 0.000136,\n",
       " ('D2', 'D9', 'D14'): 3.6e-05,\n",
       " ('D2', 'D10', 'D14'): 0.000188,\n",
       " ('D2', 'D14', 'D15'): 0.000184,\n",
       " ('D0', 'D3', 'D14'): 0.0001,\n",
       " ('D1', 'D3', 'D14'): 0.0003,\n",
       " ('D3', 'D6', 'D14'): 0.002584,\n",
       " ('D3', 'D9', 'D14'): 2.4e-05,\n",
       " ('D3', 'D10', 'D14'): 0.001812,\n",
       " ('D3', 'D14', 'D15'): 0.000412,\n",
       " ('D0', 'D7', 'D14'): 4e-06,\n",
       " ('D1', 'D7', 'D14'): 4e-06,\n",
       " ('D6', 'D7', 'D14'): 2.8e-05,\n",
       " ('D7', 'D9', 'D14'): 8e-06,\n",
       " ('D7', 'D10', 'D14'): 9.6e-05,\n",
       " ('D7', 'D14', 'D15'): 6.8e-05,\n",
       " ('D0', 'D11', 'D14'): 8e-06,\n",
       " ('D1', 'D11', 'D14'): 1.6e-05,\n",
       " ('D6', 'D11', 'D14'): 0.000188,\n",
       " ('D9', 'D11', 'D14'): 0.010652,\n",
       " ('D10', 'D11', 'D14'): 0.010388,\n",
       " ('D11', 'D14', 'D15'): 0.01012,\n",
       " ('D0', 'D12', 'D14'): 0.000968,\n",
       " ('D1', 'D12', 'D14'): 0.00026,\n",
       " ('D6', 'D12', 'D14'): 0.001792,\n",
       " ('D9', 'D12', 'D14'): 0.016128,\n",
       " ('D10', 'D12', 'D14'): 0.027692,\n",
       " ('D12', 'D14', 'D15'): 0.028688,\n",
       " ('D0', 'D14', 'D16'): 0.0,\n",
       " ('D1', 'D14', 'D16'): 0.0,\n",
       " ('D6', 'D14', 'D16'): 2.4e-05,\n",
       " ('D9', 'D14', 'D16'): 0.005756,\n",
       " ('D10', 'D14', 'D16'): 0.01056,\n",
       " ('D14', 'D15', 'D16'): 0.012636,\n",
       " ('D0', 'D2', 'D17'): 0.000176,\n",
       " ('D1', 'D2', 'D17'): 1.6e-05,\n",
       " ('D2', 'D6', 'D17'): 1.6e-05,\n",
       " ('D2', 'D9', 'D17'): 0.000236,\n",
       " ('D2', 'D10', 'D17'): 3.2e-05,\n",
       " ('D2', 'D15', 'D17'): 0.000224,\n",
       " ('D0', 'D3', 'D17'): 0.00022,\n",
       " ('D1', 'D3', 'D17'): 0.00016,\n",
       " ('D3', 'D6', 'D17'): 2e-05,\n",
       " ('D3', 'D9', 'D17'): 2e-05,\n",
       " ('D3', 'D10', 'D17'): 0.000268,\n",
       " ('D3', 'D15', 'D17'): 9.6e-05,\n",
       " ('D0', 'D7', 'D17'): 8e-06,\n",
       " ('D1', 'D7', 'D17'): 0.000152,\n",
       " ('D6', 'D7', 'D17'): 0.000252,\n",
       " ('D7', 'D9', 'D17'): 3.2e-05,\n",
       " ('D7', 'D10', 'D17'): 0.000152,\n",
       " ('D7', 'D15', 'D17'): 0.00172,\n",
       " ('D0', 'D11', 'D17'): 3.2e-05,\n",
       " ('D1', 'D11', 'D17'): 8e-06,\n",
       " ('D6', 'D11', 'D17'): 2e-05,\n",
       " ('D9', 'D11', 'D17'): 0.010728,\n",
       " ('D10', 'D11', 'D17'): 0.00544,\n",
       " ('D11', 'D15', 'D17'): 0.010988,\n",
       " ('D0', 'D12', 'D17'): 8.8e-05,\n",
       " ('D1', 'D12', 'D17'): 3.6e-05,\n",
       " ('D6', 'D12', 'D17'): 1.2e-05,\n",
       " ('D9', 'D12', 'D17'): 0.013804,\n",
       " ('D10', 'D12', 'D17'): 0.011808,\n",
       " ('D12', 'D15', 'D17'): 0.017428,\n",
       " ('D0', 'D16', 'D17'): 2.4e-05,\n",
       " ('D1', 'D16', 'D17'): 0.000348,\n",
       " ('D6', 'D16', 'D17'): 0.000216,\n",
       " ('D9', 'D16', 'D17'): 0.012648,\n",
       " ('D10', 'D16', 'D17'): 0.012564,\n",
       " ('D15', 'D16', 'D17'): 0.028032}"
      ]
     },
     "execution_count": 141,
     "metadata": {},
     "output_type": "execute_result"
    }
   ],
   "source": [
    "p3_cnts = get_all_3_point_probs_new(defects_matrix_Z,nodes)\n",
    "\n",
    "p3_cnts"
   ]
  },
  {
   "cell_type": "code",
   "execution_count": null,
   "metadata": {},
   "outputs": [
    {
     "name": "stdout",
     "output_type": "stream",
     "text": [
      "D0-D1-D2: 0.005225555555555555\n",
      "D1-D2-D3: 0.002767777777777778\n",
      "D1-D3-D5: 0.003311111111111111\n"
     ]
    }
   ],
   "source": [
    "rd1,anc1 = 0,0\n",
    "rd2,anc2 = 0,1\n",
    "rd3,anc3 = 0,2\n",
    "\n",
    "triplet = [(rd1,anc1),(rd2,anc2),(rd3,anc3)]\n",
    "p_012   = get_3Point_prob(defects_matrix_Z,num_shots,triplet)\n",
    "print(\"D0-D1-D2:\",p_012)\n",
    "rd1,anc1 = 0,1\n",
    "rd2,anc2 = 0,2\n",
    "rd3,anc3 = 1,0\n",
    "\n",
    "triplet       = [(rd1,anc1),(rd2,anc2),(rd3,anc3)]\n",
    "exclude_pairs = [(0,0),(1,1),(1,2)] #Exclude D0, D4, D5 (previous rd, and nodes in this round)\n",
    "p_123         = get_3Point_prob_exclude(defects_matrix_Z,num_shots,triplet,exclude_pairs)\n",
    "print(\"D1-D2-D3:\",p_123)\n",
    "        \n",
    "rd1,anc1 = 0,1\n",
    "rd2,anc2 = 1,0\n",
    "rd3,anc3 = 1,2\n",
    "\n",
    "triplet       = [(rd1,anc1),(rd2,anc2),(rd3,anc3)]\n",
    "exclude_pairs = [(0,0),(0,2),(1,1)] #Exclude D0, D4, D2 (previous rd, and nodes in this round)\n",
    "p_135         = get_3Point_prob_exclude(defects_matrix_Z,num_shots,triplet,exclude_pairs)\n",
    "print(\"D1-D3-D5:\",p_135)\n",
    "\n",
    "\n"
   ]
  },
  {
   "cell_type": "code",
   "execution_count": null,
   "metadata": {},
   "outputs": [],
   "source": []
  },
  {
   "cell_type": "code",
   "execution_count": null,
   "metadata": {},
   "outputs": [
    {
     "data": {
      "text/plain": [
       "stim.DetectorErrorModel('''\n",
       "    error(0.0191187) D0 D1 D2\n",
       "    error(0.0126203) D0 D1 L0\n",
       "    error(0.0255305) D0 D2\n",
       "    error(0.0485405) D0 D3\n",
       "    error(0.0442573) D0 L0\n",
       "    error(0.0053378) D1\n",
       "    error(0.0126203) D1 D2\n",
       "    error(0.00533333) D1 D2 D3\n",
       "    error(0.00267382) D1 D2 D3 D6\n",
       "    error(0.00334003) D1 D3 D5\n",
       "    error(0.00200671) D1 D3 D5 D6\n",
       "    error(0.00200671) D1 D3 D5 D6 D8\n",
       "    error(0.000669799) D1 D3 D5 D8\n",
       "    error(0.000669799) D1 D3 D6 D8 L0\n",
       "    error(0.0112742) D1 D3 D6 L0\n",
       "    error(0.000669799) D1 D3 D8 L0\n",
       "    error(0.0138877) D1 D3 L0\n",
       "    error(0.0430609) D1 D4\n",
       "    error(0.000669799) D1 D4 D6\n",
       "    error(0.00200671) D1 D4 D6 D8\n",
       "    error(0.00334003) D1 D4 D8\n",
       "    error(0.00797863) D1 D5\n",
       "    error(0.00533333) D1 D5 D8\n",
       "    error(0.000669799) D1 D6\n",
       "    error(0.000669799) D1 D6 D8\n",
       "    error(0.0053378) D1 D8\n",
       "    error(0.0013387) D1 D8 L0\n",
       "    error(0.0306) D1 L0\n",
       "    error(0.0191187) D2\n",
       "    error(0.00533333) D2 D3\n",
       "    error(0.00267382) D2 D3 D6\n",
       "    error(0.0461133) D2 D5\n",
       "    error(0.00267382) D2 D5 D6\n",
       "    error(0.00267382) D2 D6 L0\n",
       "    error(0.00267382) D2 L0\n",
       "    error(0.0106186) D3 D4 D5\n",
       "    error(0.000669799) D3 D4 D5 D6\n",
       "    error(0.0013387) D3 D4 D5 D6 D7\n",
       "    error(0.00864662) D3 D4 D5 D6 D7 D8\n",
       "    error(0.00267382) D3 D4 D5 D6 D8\n",
       "    error(0.00200671) D3 D4 D5 D7\n",
       "    error(0.000669799) D3 D4 D5 D8\n",
       "    error(0.00864662) D3 D4 D6 D7 L0\n",
       "    error(0.000669799) D3 D4 D6 D8 L0\n",
       "    error(0.0013387) D3 D4 D6 L0\n",
       "    error(0.000669799) D3 D4 D7 L0\n",
       "    error(0.000669799) D3 D4 D8 L0\n",
       "    error(0.00930483) D3 D4 L0\n",
       "    error(0.0171437) D3 D5\n",
       "    error(0.00400536) D3 D5 D6\n",
       "    error(0.0158474) D3 D5 D6 D8\n",
       "    error(0.00267382) D3 D5 D8\n",
       "    error(0.000669799) D3 D6 D7 D8 D9\n",
       "    error(0.00200671) D3 D6 D7 D9\n",
       "    error(0.000669799) D3 D6 D8 D9\n",
       "    error(0.00864662) D3 D6 D9\n",
       "    error(0.0311926) D3 D6 L0\n",
       "    error(0.0013387) D3 D8 D9\n",
       "    error(0.0362648) D3 D9\n",
       "    error(0.0336996) D3 L0\n",
       "    error(0.0053378) D4\n",
       "    error(0.0184365) D4 D5\n",
       "    error(0.0013387) D4 D5 D6 D7 D8 D9\n",
       "    error(0.000669799) D4 D5 D6 D7 D9\n",
       "    error(0.000669799) D4 D5 D6 D9\n",
       "    error(0.00267382) D4 D5 D7\n",
       "    error(0.0158474) D4 D5 D7 D8\n",
       "    error(0.0013387) D4 D5 D7 D8 D9\n",
       "    error(0.000669799) D4 D5 D7 D9\n",
       "    error(0.00267382) D4 D5 D8\n",
       "    error(0.0013387) D4 D5 D8 D9\n",
       "    error(0.00200671) D4 D5 D9\n",
       "    error(0.000669799) D4 D6 D7 D8 D9 L0\n",
       "    error(0.00267382) D4 D6 D7 D9 L0\n",
       "    error(0.00200671) D4 D6 D9 L0\n",
       "    error(0.000669799) D4 D7\n",
       "    error(0.000669799) D4 D7 D8\n",
       "    error(0.0013387) D4 D7 D8 D9 D11\n",
       "    error(0.000669799) D4 D7 D8 D9 L0\n",
       "    error(0.00267382) D4 D7 D8 D11\n",
       "    error(0.00267382) D4 D7 D9 D11\n",
       "    error(0.00930483) D4 D7 D9 L0\n",
       "    error(0.00533333) D4 D7 D10\n",
       "    error(0.00267382) D4 D7 D11\n",
       "    error(0.0223028) D4 D7 L0\n",
       "    error(0.0053378) D4 D8\n",
       "    error(0.0013387) D4 D8 D9 D11\n",
       "    error(0.00267382) D4 D8 D11\n",
       "    error(0.0013387) D4 D8 L0\n",
       "    error(0.00267382) D4 D9 D11\n",
       "    error(0.0112742) D4 D9 L0\n",
       "    error(0.043673) D4 D10\n",
       "    error(0.00533333) D4 D11\n",
       "    error(0.0235818) D4 L0\n",
       "    error(0.02422) D5\n",
       "    error(0.000669799) D5 D6 D7 D8 L0\n",
       "    error(0.000669799) D5 D6 D7 L0\n",
       "    error(0.0013387) D5 D6 D8 D9\n",
       "    error(0.000669799) D5 D6 D8 L0\n",
       "    error(0.0013387) D5 D6 D9\n",
       "    error(0.00200671) D5 D6 L0\n",
       "    error(0.000669799) D5 D7\n",
       "    error(0.000669799) D5 D7 D8\n",
       "    error(0.00267382) D5 D7 D8 D11\n",
       "    error(0.000669799) D5 D7 D8 L0\n",
       "    error(0.00467426) D5 D7 D11\n",
       "    error(0.00200671) D5 D7 L0\n",
       "    error(0.021662) D5 D8\n",
       "    error(0.00267382) D5 D8 D9\n",
       "    error(0.00267382) D5 D8 D11\n",
       "    error(0.000669799) D5 D8 L0\n",
       "    error(0.00267382) D5 D9\n",
       "    error(0.0393668) D5 D11\n",
       "    error(0.00334003) D5 L0\n",
       "    error(0.108457) D6\n",
       "    error(0.0106186) D6 D7\n",
       "    error(0.00930483) D6 D7 D8\n",
       "    error(0.0197258) D6 D8\n",
       "    error(0.000669799) D6 D8 D9 L0\n",
       "    error(0.0112742) D6 D9 L0\n",
       "    error(0.11729) D7\n",
       "    error(0.0197258) D7 D8\n",
       "    error(0.000669799) D7 D8 D9 D11\n",
       "    error(0.000669799) D7 D8 D11\n",
       "    error(0.00533333) D7 D9 D10 D11\n",
       "    error(0.00267382) D7 D9 D10 L0\n",
       "    error(0.000669799) D7 D9 D11\n",
       "    error(0.00533333) D7 D10 D11\n",
       "    error(0.00267382) D7 D10 L0\n",
       "    error(0.000669799) D7 D11\n",
       "    error(0.00267382) D7 D11 L0\n",
       "    error(0.103166) D8\n",
       "    error(0.00466979) D8 D9 D11\n",
       "    error(0.000669799) D8 D9 L0\n",
       "    error(0.00200671) D8 D11\n",
       "    error(0.0216903) D9 D10 D11\n",
       "    error(0.0255305) D9 D10 L0\n",
       "    error(0.0274347) D9 D11\n",
       "    error(0.0274347) D9 L0\n",
       "    error(0.0405687) D10 D11\n",
       "    error(0.0318567) D10 L0\n",
       "    error(0.043646) D11\n",
       "    error(0.00267382) D11 L0\n",
       "    detector(3.5, 0, 0) D0\n",
       "    detector(0.5, 1, 0) D1\n",
       "    detector(3.5, 2, 0) D2\n",
       "    shift_detectors(0, 0, 1) 0\n",
       "    detector(3.5, 0, 0) D3\n",
       "    detector(0.5, 1, 0) D4\n",
       "    detector(3.5, 2, 0) D5\n",
       "    detector(4.5, 0, 0) D6\n",
       "    detector(1.5, 1, 0) D7\n",
       "    detector(4.5, 2, 0) D8\n",
       "    shift_detectors(0, 0, 1) 0\n",
       "    detector(3.5, 0, 0) D9\n",
       "    detector(0.5, 1, 0) D10\n",
       "    detector(3.5, 2, 0) D11\n",
       "''')"
      ]
     },
     "execution_count": 123,
     "metadata": {},
     "output_type": "execute_result"
    }
   ],
   "source": [
    "circuit.detector_error_model()"
   ]
  },
  {
   "cell_type": "code",
   "execution_count": null,
   "metadata": {},
   "outputs": [
    {
     "data": {
      "text/plain": [
       "9.791820536008001e-05"
      ]
     },
     "execution_count": 66,
     "metadata": {},
     "output_type": "execute_result"
    }
   ],
   "source": [
    "#Try this: P(a and b and c) = P(a) P(b|given a)P(c|given a and b)\n",
    "\n",
    "pa = pij_bd['r'][\"D0\"]\n",
    "#now we need pb given a\n",
    "\n",
    "rda,anca=0,0\n",
    "rdb,ancb=0,1\n",
    "rdc,ancc=0,2\n",
    "\n",
    "pa=0\n",
    "pb_given_a=0\n",
    "pc_given_a_and_b=0\n",
    "for k in range(num_shots):\n",
    "\n",
    "    if defects_matrix_Z.data[k,rda,anca]==True:\n",
    "        pa+=1\n",
    "        if defects_matrix_Z.data[k,rdb,ancb]==True:\n",
    "            pb_given_a +=1\n",
    "\n",
    "            if defects_matrix_Z.data[k,rdc,ancc]==True:\n",
    "                pc_given_a_and_b+=1\n",
    "\n",
    "pa=pa/num_shots\n",
    "pb_given_a=pb_given_a/num_shots\n",
    "pc_given_a_and_b=pc_given_a_and_b/num_shots\n",
    "\n",
    "pa*pb_given_a*pc_given_a_and_b"
   ]
  },
  {
   "cell_type": "code",
   "execution_count": null,
   "metadata": {},
   "outputs": [],
   "source": [
    "default_dems={}\n",
    "for color in ['r', 'g', 'b']:\n",
    "    dem1, dem2 = obj.decompose_detector_error_model(ORG_DEM=[],color=color) #my_ORG_DEM\n",
    "\n",
    "    # dem1 = my_c_restr_DEMS[color]\n",
    "\n",
    "    default_dems[color] = dem1, dem2  # stim.DetectorErrorModel\n",
    "\n",
    "default_dems['r'][1]"
   ]
  },
  {
   "cell_type": "code",
   "execution_count": null,
   "metadata": {},
   "outputs": [
    {
     "data": {
      "image/png": "[encoded data removed]",
      "text/plain": [
       "<Figure size 640x480 with 1 Axes>"
      ]
     },
     "metadata": {},
     "output_type": "display_data"
    }
   ],
   "source": [
    "from matplotlib import pyplot as plt\n",
    "plt, ax = plt.subplots()\n",
    "obj.draw_tanner_graph(ax=ax, show_axes=True,show_lattice=True)"
   ]
  },
  {
   "cell_type": "code",
   "execution_count": null,
   "metadata": {},
   "outputs": [
    {
     "ename": "NameError",
     "evalue": "name 'get_Z_X_det_nodes_as_rd_anc_pairs' is not defined",
     "output_type": "error",
     "traceback": [
      "\u001b[0;31m---------------------------------------------------------------------------\u001b[0m",
      "\u001b[0;31mNameError\u001b[0m                                 Traceback (most recent call last)",
      "Cell \u001b[0;32mIn[26], line 4\u001b[0m\n\u001b[1;32m      1\u001b[0m \u001b[38;5;66;03m#Need a function that creates a dictionary (rd,anc) for Z/X dets\u001b[39;00m\n\u001b[0;32m----> 4\u001b[0m Z_dets,X_dets\u001b[38;5;241m=\u001b[39m\u001b[43mget_Z_X_det_nodes_as_rd_anc_pairs\u001b[49m(obj,num_rounds,num_ancilla)\n\u001b[1;32m      5\u001b[0m Z_dets\n",
      "\u001b[0;31mNameError\u001b[0m: name 'get_Z_X_det_nodes_as_rd_anc_pairs' is not defined"
     ]
    }
   ],
   "source": [
    "#Need a function that creates a dictionary (rd,anc) for Z/X dets\n",
    "\n"
   ]
  },
  {
   "cell_type": "code",
   "execution_count": null,
   "metadata": {},
   "outputs": [
    {
     "data": {
      "text/plain": [
       "[('D0', 'D3'),\n",
       " ('D0', 'D9'),\n",
       " ('D3', 'D9'),\n",
       " ('D0', 'D1'),\n",
       " ('D0', 'D4'),\n",
       " ('D0', 'D10'),\n",
       " ('D1', 'D3'),\n",
       " ('D3', 'D4'),\n",
       " ('D3', 'D10'),\n",
       " ('D1', 'D9'),\n",
       " ('D4', 'D9'),\n",
       " ('D9', 'D10'),\n",
       " ('D0', 'D2'),\n",
       " ('D0', 'D5'),\n",
       " ('D0', 'D11'),\n",
       " ('D2', 'D3'),\n",
       " ('D3', 'D5'),\n",
       " ('D3', 'D11'),\n",
       " ('D2', 'D9'),\n",
       " ('D5', 'D9'),\n",
       " ('D9', 'D11'),\n",
       " ('D1', 'D4'),\n",
       " ('D1', 'D10'),\n",
       " ('D4', 'D10'),\n",
       " ('D1', 'D2'),\n",
       " ('D1', 'D5'),\n",
       " ('D1', 'D11'),\n",
       " ('D2', 'D4'),\n",
       " ('D4', 'D5'),\n",
       " ('D4', 'D11'),\n",
       " ('D2', 'D10'),\n",
       " ('D5', 'D10'),\n",
       " ('D10', 'D11'),\n",
       " ('D2', 'D5'),\n",
       " ('D2', 'D11'),\n",
       " ('D5', 'D11')]"
      ]
     },
     "execution_count": 8,
     "metadata": {},
     "output_type": "execute_result"
    }
   ],
   "source": [
    "def get_bd_probs_for_each_restricted_color_new(pij_bulk,vi_mean,nodes,num_rounds,num_ancilla,Z_dets):\n",
    "    '''nodes is a dictironary with keys the colors 'r', 'g', 'b' and values a list\n",
    "     of detectors [\"Dj\", \"Dk\", ...]. \n",
    "\n",
    "     To find the boundary probabilities for a specific color restricted lattice,\n",
    "     we need to exclude nodes that are of the particular color.\n",
    "     For example, in the red-restricted lattice, we ignore any edges D_j - D_2 or D_j - D_5\n",
    "     '''\n",
    "    \n",
    "    pij_bd={}\n",
    "\n",
    "    for color in nodes.keys():\n",
    "        \n",
    "        pij_bd_per_color={}\n",
    "\n",
    "        if color=='r': #do not use the red nodes\n",
    "            remaining_nodes = nodes['g']+nodes['b']\n",
    "        elif color=='g': #do not use the green nodes\n",
    "            remaining_nodes = nodes['r']+nodes['b']\n",
    "        else:            #do not use the blue nodes\n",
    "            remaining_nodes = nodes['r']+nodes['g']\n",
    "     \n",
    "        for detector_node in remaining_nodes:\n",
    "\n",
    "            INDX1    = int(detector_node[1:])\n",
    "            (rd,anc) = detector_name_to_rd_anc_name(detector_node,num_ancilla,num_rounds)\n",
    "\n",
    "            #Form all other combinations of this detector node with remaining nodes\n",
    "            dets_to_exclude=[]\n",
    "            \n",
    "            for other_node in remaining_nodes:\n",
    "\n",
    "                if other_node!=detector_node:\n",
    "                    \n",
    "                    INDX2 = int(other_node[1:])\n",
    "\n",
    "                    indx1 = min([INDX1,INDX2])\n",
    "                    indx2 = max([INDX1,INDX2])\n",
    "                    temp  = (\"D\"+str(indx1),\"D\"+str(indx2))\n",
    "                    dets_to_exclude.append(temp)\n",
    "\n",
    "            val =  extract_bd_prob(pij_bulk,vi_mean,anc,rd,dets_to_exclude)\n",
    "            \n",
    "            if val<0:\n",
    "                val=0\n",
    "\n",
    "            pij_bd_per_color[(\"D\"+str(INDX1))] = val\n",
    "\n",
    "        pij_bd[color]=pij_bd_per_color\n",
    "\n",
    "\n",
    "    return pij_bd\n"
   ]
  },
  {
   "cell_type": "code",
   "execution_count": null,
   "metadata": {},
   "outputs": [],
   "source": [
    "num_shots = 400_000\n",
    "\n",
    "defects_matrix, data_qubit_samples,Z_ANC_QUBITS = get_defects(circuit,num_rounds,num_shots,obj)\n",
    "obs_flips                                       = get_observable_flips(data_qubit_samples,num_shots,d)\n",
    "vi_mean                                         = avg_vi(defects_matrix)\n",
    "vivj_mean                                       = avg_vivj(defects_matrix)\n",
    "events_w_L0                                     = get_events_that_cause_L0_flips(circuit)\n",
    "num_ancilla                                     = len(Z_ANC_QUBITS)\n",
    "Z_dets                                          = get_Z_det_nodes(obj,num_rounds,num_ancilla*2)\n",
    "pij_bulk                                        = estimate_bulk_edges(num_ancilla,num_rounds,vi_mean,vivj_mean,Z_dets)\n",
    "\n",
    "dets  = obj.detector_ids\n",
    "nodes = {}\n",
    "for key in dets.keys():\n",
    "    vals = dets[key]\n",
    "    temp = []\n",
    "    for val in vals:\n",
    "        temp.append(\"D\"+str(val))\n",
    "    nodes[key] =temp\n",
    "\n",
    "# pij_bd_all      = get_bd_probs_for_each_restricted_color(pij_bulk,vi_mean,nodes,num_rounds,num_ancilla)\n",
    "# my_c_restr_DEMS = get_color_restricted_DEMs(pij_bulk,pij_bd_all,nodes)\n",
    "# p3_new          = get_all_3_point_probs_new(defects_matrix,nodes) #35 s for 200k shots. (6**3 combinations (6 nodes per color))\n"
   ]
  },
  {
   "cell_type": "code",
   "execution_count": null,
   "metadata": {},
   "outputs": [],
   "source": [
    "from noise_estimation.utilities_for_noise_estimation_V2 import avg_vi, avg_vivj, bulk_prob_formula\n",
    "\n",
    "\n",
    "def estimate_DEM(circuit,num_rounds,num_shots,obj,d):\n",
    "    #----- Get the nodes --------------\n",
    "    nodes=collect_color_of_nodes(obj)\n",
    "\n",
    "    #------ Form defects matrix and calculate the probabilities -----------------------\n",
    "    defects_matrix_Z,defects_matrix_X,data_qubit_samples,Z_ANC_QUBITS,X_ANC_QUBITS = get_defects(circuit,num_rounds,num_shots,obj)\n",
    "    \n",
    "    defects_matrix =  defects_matrix_Z\n",
    "    obs_flips      = get_observable_flips(data_qubit_samples,num_shots,d)\n",
    "    vi_mean['Z']   = avg_vi(defects_matrix)\n",
    "    vivj_mean['Z'] = avg_vivj(defects_matrix)\n",
    "    events_w_L0    = get_events_that_cause_L0_flips(circuit)\n",
    "    \n",
    "    num_ancilla = len(Z_ANC_QUBITS)\n",
    "\n",
    "    Z_dets,X_dets                                   = get_Z_X_det_nodes(obj,num_rounds,2*num_ancilla)\n",
    "    pij_bulk    = estimate_bulk_edges(num_ancilla,num_rounds,vi_mean,vivj_mean,Z_dets,X_dets)\n",
    "    # pij_bd      = get_all_bd_probs(pij_bulk,vi_mean)\n",
    "\n",
    "    pij_bd_all      = get_bd_probs_for_each_restricted_color(pij_bulk,vi_mean,nodes,num_rounds,num_ancilla,obj)\n",
    "    my_c_restr_DEMS = get_color_restricted_DEMs(pij_bulk,pij_bd_all,nodes)\n",
    "\n",
    "    p1_cnts     = get_all_single_cnts_w_and_wo_L0(defects_matrix,obs_flips)\n",
    "    p_3cnts     = get_all_3_point_probs_new(defects_matrix,nodes)\n",
    "    p2_updated  = get_updated_probs_of_two_point_events(pij_bulk,p_3cnts,nodes)\n",
    "\n",
    "    #------- Construct our own DEM (initial before breaking into 2 parts) ---------------\n",
    "\n",
    "    org_DEM_Alt = {}\n",
    "    for key in p2_updated.keys():\n",
    "\n",
    "        if p2_updated[key]>0:\n",
    "            if key in events_w_L0:\n",
    "                key_new = key + (\"L0\",)\n",
    "            else:\n",
    "                key_new=key\n",
    "            org_DEM_Alt[key_new]=p2_updated[key]\n",
    "\n",
    "    for key in p1_cnts.keys():\n",
    "\n",
    "        if p1_cnts[key]>0:\n",
    "            org_DEM_Alt[key]=p1_cnts[key]\n",
    "            \n",
    "    for key in p_3cnts.keys():\n",
    "\n",
    "        if p_3cnts[key]>0:\n",
    "            org_DEM_Alt[key]=p_3cnts[key]\n",
    "\n",
    "\n",
    "    my_ORG_DEM = stim.DetectorErrorModel()\n",
    "\n",
    "    for key in org_DEM_Alt.keys():\n",
    "        \n",
    "        if org_DEM_Alt[key]<1e-4:\n",
    "            continue\n",
    "        temp = []\n",
    "        for p in key:\n",
    "\n",
    "            if len(p)>0 :\n",
    "                if p[0]==\"D\":\n",
    "                    indx = int(p[1:])\n",
    "                    temp.append(stim.target_relative_detector_id(indx))\n",
    "                elif p[0]==\"L\":\n",
    "                    temp.append(stim.target_logical_observable_id(0))\n",
    "\n",
    "\n",
    "        my_ORG_DEM.append(\"error\",org_DEM_Alt[key],temp)\n",
    "\n",
    "\n",
    "    my_ORG_DEM+=get_dets_from_stim_circuit(circuit)\n",
    "\n",
    "\n",
    "    return my_ORG_DEM,defects_matrix,num_ancilla,obs_flips\n",
    "\n",
    "def get_logical_errors(num_shots,num_rounds,circuit,obj,d):\n",
    "\n",
    "    my_ORG_DEM,defects_matrix,num_ancilla,obs_flips=estimate_DEM(circuit,num_rounds,num_shots,obj,d)\n",
    "\n",
    "    default_dems={}\n",
    "    for color in ['r', 'g', 'b']:\n",
    "        dem1, dem2 = obj.decompose_detector_error_model(ORG_DEM=[],color=color) #my_ORG_DEM\n",
    "\n",
    "        # dem1 = my_c_restr_DEMS[color]\n",
    "\n",
    "        default_dems[color] = dem1, dem2  # stim.DetectorErrorModel\n",
    "    \n",
    "\n",
    "    my_DEMs=get_my_DEMs(obj,my_ORG_DEM) #This is the decomposition: TODO: check if we can use instead the c-restricted DEM instead of \n",
    "                                        #decomposing the total DEM\n",
    "\n",
    "    dets_alt = np.reshape(defects_matrix.data,(num_shots,num_ancilla*(num_rounds+1)))\n",
    "\n",
    "    preds_obs, best_color = obj.decode(dets_alt, my_DEMs, verbose=False, get_color=True)\n",
    "\n",
    "    my_fails = np.logical_xor(obs_flips, preds_obs)\n",
    "\n",
    "\n",
    "    preds_obs, best_color = obj.decode(dets_alt, default_dems, verbose=False, get_color=True)\n",
    "\n",
    "    fails = np.logical_xor(obs_flips, preds_obs)\n",
    "\n",
    "\n",
    "    return my_fails,fails\n",
    "\n",
    "\n",
    "def get_my_DEMs(obj,my_ORG_DEM):\n",
    "\n",
    "    #Now get my DEMs\n",
    "    my_DEMs={}\n",
    "    for color in ['r', 'g', 'b']:\n",
    "        dem1, dem2 = obj.decompose_detector_error_model(ORG_DEM=my_ORG_DEM,color=color) \n",
    "\n",
    "        # dem1_temp           = my_c_restr_DEMS[color]\n",
    "        # #Make sure to put Ljs (logical errors) in my_c_restr_DEM\n",
    "\n",
    "        # dem1_final = stim.DetectorErrorModel()\n",
    "        # cnt=0\n",
    "        # for instruction in dem1_temp:\n",
    "        #     #Should we just put some random Ljs?\n",
    "        #     targs = instruction.targets_copy()\n",
    "\n",
    "        #     # indx=int(str(targs[0])[1:])+int(dem1.num_detectors)\n",
    "        #     # cnt=indx\n",
    "\n",
    "        #     targs.append(stim.target_logical_observable_id(cnt))\n",
    "\n",
    "        #     cnt+=1\n",
    "        #     dem1_final.append(\"error\",instruction.args_copy(),targs)\n",
    "        \n",
    "        # dem1+= stim.DetectorErrorModel(\"\"\"detector(3.5, 0, 0) D0\n",
    "        #                 detector(0.5, 1, 0) D1\n",
    "        #                 detector(3.5, 2, 0) D2\n",
    "        #                 shift_detectors(0, 0, 1) 0\n",
    "        #                 detector(3.5, 0, 0) D3\n",
    "        #                 detector(0.5, 1, 0) D4\n",
    "        #                 detector(3.5, 2, 0) D5\"\"\")\n",
    "\n",
    "        # dem2+=stim.DetectorErrorModel(\"\"\"detector(3.5, 0, 0) D0\n",
    "        #                                 detector(0.5, 1, 0) D1\n",
    "        #                                 detector(3.5, 2, 0) D2\n",
    "        #                                 shift_detectors(0, 0, 1) 0\n",
    "        #                                 detector(3.5, 0, 0) D3\n",
    "        #                                 detector(0.5, 1, 0) D4\n",
    "        #                                 detector(3.5, 2, 0) D5\"\"\")\n",
    "        my_DEMs[color] = dem1, dem2  # stim.DetectorErrorModel\n",
    "    return my_DEMs\n",
    "\n",
    "\n",
    "# num_shots                  = 50_000\n",
    "# my_ORG_DEM,defects_matrix,num_ancilla,obs_flips = estimate_DEM(circuit,num_rounds,num_shots,obj,d)\n",
    "\n",
    "# my_ORG_DEM"
   ]
  },
  {
   "cell_type": "code",
   "execution_count": null,
   "metadata": {},
   "outputs": [
    {
     "name": "stdout",
     "output_type": "stream",
     "text": [
      "red: [4, 5, 8, 13, 14, 17]\n",
      "blue: [2, 3, 7, 11, 12, 16]\n",
      "green: [0, 1, 6, 9, 10, 15]\n",
      "Entered here\n",
      "Entered here\n",
      "Entered here\n",
      "red: [4, 5, 8, 13, 14, 17]\n",
      "blue: [2, 3, 7, 11, 12, 16]\n",
      "green: [0, 1, 6, 9, 10, 15]\n",
      "Entered here\n",
      "Entered here\n",
      "Entered here\n"
     ]
    }
   ],
   "source": [
    "def get_logical_errors_per_error_rate(num_shots,obj,d,num_rounds):\n",
    "\n",
    "    # d          = 3\n",
    "    # num_rounds = 1\n",
    "    \n",
    "    # pvals = np.linspace(1e-3,1e-2,4)\n",
    "    pvals=[1e-3,2e-3]\n",
    "\n",
    "    my_LE    = []\n",
    "    stims_LE = []\n",
    "    for p in pvals:\n",
    "    \n",
    "        obj        = ColorCode(d=d,rounds=num_rounds,p_circuit=p ) ##p_cnot=0,p_bitflip=0.01\n",
    "        circuit    = obj.circuit\n",
    "\n",
    "        my_fails,fails = get_logical_errors(num_shots,num_rounds,circuit,obj,d)\n",
    "\n",
    "        my_fails = sum(my_fails)\n",
    "        fails    = sum(fails)\n",
    "        \n",
    "        my_LE.append(my_fails/num_shots)\n",
    "        stims_LE.append(fails/num_shots)\n",
    "\n",
    "    return my_LE,stims_LE,pvals\n",
    "\n",
    "d                    = 5\n",
    "num_rounds           = 1\n",
    "num_shots            = 200_000\n",
    "my_LE,stims_LE,pvals = get_logical_errors_per_error_rate(num_shots,obj,d,num_rounds)\n",
    "\n"
   ]
  },
  {
   "cell_type": "code",
   "execution_count": null,
   "metadata": {},
   "outputs": [
    {
     "data": {
      "image/png": "[encoded data removed]",
      "text/plain": [
       "<Figure size 640x480 with 1 Axes>"
      ]
     },
     "metadata": {},
     "output_type": "display_data"
    }
   ],
   "source": [
    "from matplotlib import pyplot as plt\n",
    "\n",
    "plt.bar(x=pvals,height=my_LE,width=0.001)\n",
    "plt.bar(x=pvals,height=stims_LE,width=0.0005)\n",
    "plt.xlabel('physical error rate')\n",
    "plt.ylabel('logical error rate')\n",
    "plt.legend(['our DEM','stim`s dem'])\n",
    "plt.show()\n"
   ]
  },
  {
   "cell_type": "code",
   "execution_count": null,
   "metadata": {},
   "outputs": [
    {
     "name": "stdout",
     "output_type": "stream",
     "text": [
      "Alt for D1 D2 D3: 0.00090625\n"
     ]
    },
    {
     "data": {
      "text/plain": [
       "{('D0', 'D1', 'D2'): 0.00194125,\n",
       " ('D3', 'D4', 'D5'): 0.00278,\n",
       " ('D1', 'D2', 'D3'): 0.00083125,\n",
       " ('D1', 'D3', 'D5'): 0.000795}"
      ]
     },
     "execution_count": 6,
     "metadata": {},
     "output_type": "execute_result"
    }
   ],
   "source": [
    "#Check 3-point probabilities (I think what we obtain is acceptable)\n",
    "org_DEM      = {}\n",
    "p_3cnts      = {}\n",
    "\n",
    "triplets                  = [(0,0),(0,1),(0,2)] #D0-D1-D2\n",
    "p_3cnts[(\"D0\",\"D1\",\"D2\")] = get_3Point_prob(defects_matrix,num_shots,triplets)\n",
    "triplets                  = [(1,0),(1,1),(1,2)] #D3-D4-D5\n",
    "p_3cnts[(\"D3\",\"D4\",\"D5\")] = get_3Point_prob(defects_matrix,num_shots,triplets)\n",
    "\n",
    "#-------- Calculate by excluding other nodes that fire ------------------\n",
    "\n",
    "include_pairs             = [(0,1),(0,2),(1,0)] #D1-D2-D3:\n",
    "exclude_pairs             = [(1,1),(1,2),(0,0)] # seems to work better if i remove D0 or D6...\n",
    "p_3cnts[(\"D1\",\"D2\",\"D3\")] = get_3Point_prob_exclude(defects_matrix,num_shots,include_pairs,exclude_pairs)\n",
    "\n",
    "include_pairs             = [(0,1),(1,0),(1,2)] #D1-D3-D5:\n",
    "exclude_pairs             = [(0,0),(0,2),(1,1)] #\n",
    "p_3cnts[(\"D1\",\"D3\",\"D5\")] = get_3Point_prob_exclude(defects_matrix,num_shots,include_pairs,exclude_pairs)\n",
    "\n",
    "\n",
    "#Add 3 pnt events to original DEM\n",
    "for key in p_3cnts.keys():\n",
    "    org_DEM[key] = p_3cnts[key]\n",
    "\n",
    "org_DEM\n",
    "\n"
   ]
  },
  {
   "cell_type": "markdown",
   "metadata": {},
   "source": [
    "Let's try now to infer the errors of the original DEM"
   ]
  },
  {
   "cell_type": "code",
   "execution_count": null,
   "metadata": {},
   "outputs": [
    {
     "name": "stdout",
     "output_type": "stream",
     "text": [
      "D5 w/ L0: 0.0005849999999999972\n",
      "D5 wo/ L0: 0.0044300000000000225\n",
      "D2 w/ L0: 0.000539999999999999\n",
      "D2 wo/ L0: 0.001814999999999947\n",
      "D0 w/ L0: 0.004490000000000041\n",
      "D0 wo/ L0: 1.25e-05\n",
      "D1 w/ L0: 0.0031074999999998946\n",
      "D1 wo/ L0: 0.0012062499999999719\n",
      "D3 w/ L0: 0.0037787499999998673\n",
      "D3 wo/ L0: 6.0000000000000076e-05\n",
      "D4 w/ L0: 0.00322124999999989\n",
      "D4 wo/ L0: 3.875000000000002e-05\n"
     ]
    }
   ],
   "source": [
    "#D0, D1, D2 are first rd.  D3, D4, D5, are 2nd rd.\n",
    "\n",
    "#Find when the red nodes fire (exclude blue & green nodes) but allow the other red to fire\n",
    "\n",
    "#D2 \n",
    "target_node                 = (0,2) #(rd,anc)\n",
    "exclude_nodes               = [(0,0),(0,1),(1,0),(1,1),(1,2)] #D0, D1, D3, D4\n",
    "D2_cnts_wo_L0, D2_cnts_w_L0 = extract_single_counts_w_and_wo_L0_excluding_nodes(num_shots,obs_flips,defects_matrix,target_node,exclude_nodes)\n",
    "\n",
    "#D5\n",
    "target_node                 = (1,2) #(rd,anc)\n",
    "exclude_nodes               = [(0,0),(0,1),(1,0),(1,1),(0,2)] #D0, D1, D3, D4\n",
    "D5_cnts_wo_L0, D5_cnts_w_L0 = extract_single_counts_w_and_wo_L0_excluding_nodes(num_shots,obs_flips,defects_matrix,target_node,exclude_nodes)\n",
    "\n",
    "print(\"D5 w/ L0:\", D5_cnts_w_L0)\n",
    "print(\"D5 wo/ L0:\", D5_cnts_wo_L0)\n",
    "\n",
    "print(\"D2 w/ L0:\", D2_cnts_w_L0)\n",
    "print(\"D2 wo/ L0:\", D2_cnts_wo_L0)\n",
    "\n",
    "\n",
    "#D0\n",
    "target_node                 = (0,0) #(rd,anc)\n",
    "exclude_nodes               = [(0,1),(0,2),(1,0),(1,1),(1,2)] #D1, D2, D4, D5\n",
    "D0_cnts_wo_L0, D0_cnts_w_L0 = extract_single_counts_w_and_wo_L0_excluding_nodes(num_shots,obs_flips,defects_matrix,target_node,exclude_nodes)\n",
    "\n",
    "\n",
    "#D1\n",
    "target_node                 = (0,1) #(rd,anc)\n",
    "exclude_nodes               = [(0,0),(0,2),(1,0),(1,1),(1,2)] #D1, D2, D4, D5\n",
    "D1_cnts_wo_L0, D1_cnts_w_L0 = extract_single_counts_w_and_wo_L0_excluding_nodes(num_shots,obs_flips,defects_matrix,target_node,exclude_nodes)\n",
    "\n",
    "\n",
    "#D3\n",
    "target_node                 = (1,0) #(rd,anc)\n",
    "exclude_nodes               = [(0,0),(0,1),(0,2),(1,1),(1,2)] #D1, D2, D4, D5\n",
    "D3_cnts_wo_L0, D3_cnts_w_L0 = extract_single_counts_w_and_wo_L0_excluding_nodes(num_shots,obs_flips,defects_matrix,target_node,exclude_nodes)\n",
    "\n",
    "#D4\n",
    "target_node                 = (1,1) #(rd,anc)\n",
    "exclude_nodes               = [(0,0),(0,1),(0,2),(1,0),(1,2)] #D1, D2, D4, D5\n",
    "D4_cnts_wo_L0, D4_cnts_w_L0 = extract_single_counts_w_and_wo_L0_excluding_nodes(num_shots,obs_flips,defects_matrix,target_node,exclude_nodes)\n",
    "\n",
    "\n",
    "print(\"D0 w/ L0:\", D0_cnts_w_L0)\n",
    "print(\"D0 wo/ L0:\", D0_cnts_wo_L0)\n",
    "\n",
    "print(\"D1 w/ L0:\", D1_cnts_w_L0)\n",
    "print(\"D1 wo/ L0:\", D1_cnts_wo_L0)\n",
    "\n",
    "print(\"D3 w/ L0:\", D3_cnts_w_L0)\n",
    "print(\"D3 wo/ L0:\", D3_cnts_wo_L0)\n",
    "\n",
    "print(\"D4 w/ L0:\", D4_cnts_w_L0)\n",
    "print(\"D4 wo/ L0:\", D4_cnts_wo_L0)\n",
    "\n",
    "\n",
    "#Pretty good, add this to original DEM\n",
    "\n",
    "org_DEM[(\"D5\",\"L0\")]=D5_cnts_w_L0\n",
    "org_DEM[(\"D2\",\"L0\")]=D2_cnts_w_L0\n"
   ]
  },
  {
   "cell_type": "code",
   "execution_count": null,
   "metadata": {},
   "outputs": [],
   "source": [
    "#Add other bulk edges to org_DEM:\n",
    "\n",
    "org_DEM[(\"D2\",\"D5\")]=pij_bulk[(\"D2\",\"D5\")]\n",
    "org_DEM[(\"D1\",\"D4\")]=pij_bulk[(\"D1\",\"D4\")]\n",
    "org_DEM[(\"D0\",\"D3\")]=pij_bulk[(\"D0\",\"D3\")]"
   ]
  },
  {
   "cell_type": "markdown",
   "metadata": {},
   "source": [
    "Use 3-point events to find 2-point events"
   ]
  },
  {
   "cell_type": "code",
   "execution_count": null,
   "metadata": {},
   "outputs": [
    {
     "data": {
      "text/plain": [
       "{('D5', 'L0'): 0.0005666666666666668,\n",
       " ('D2', 'L0'): 0.0005266666666666663,\n",
       " ('D2', 'D5'): 0.005224605344912314,\n",
       " ('D1', 'D4'): 0.004946275099007524,\n",
       " ('D0', 'D3'): 0.005218004841540447,\n",
       " ('D0', 'D1', 'D2'): 0.0019533333333333334,\n",
       " ('D3', 'D4', 'D5'): 0.00285,\n",
       " ('D1', 'D2', 'D3'): 0.0008333333333333334,\n",
       " ('D1', 'D3', 'D5'): 0.00079,\n",
       " ('D0', 'D1', 'L0'): 0.0011491160873009988,\n",
       " ('D0', 'D2'): 0.0026608091696335165,\n",
       " ('D4', 'D5'): 0.004605189455622341,\n",
       " ('D1', 'D5'): 0.001341364937918964,\n",
       " ('D2', 'D3'): 0.0007455931865941428,\n",
       " ('D3', 'D4', 'L0'): 0.002753805037931625,\n",
       " ('D1', 'D2'): 0.0013227128075973466,\n",
       " ('D1', 'D3', 'L0'): 0.002641515195146791,\n",
       " ('D3', 'D5'): 0.003543353634664246,\n",
       " ('D4', 'L0'): 0.003665430891833692,\n",
       " ('D0', 'L0'): 0.0047260020622971214,\n",
       " ('D3', 'L0'): 0.004009290159801043}"
      ]
     },
     "execution_count": 44,
     "metadata": {},
     "output_type": "execute_result"
    }
   ],
   "source": [
    "#Estimate other events by subtracting the 3 point events\n",
    "\n",
    "org_DEM[(\"D0\",\"D1\",\"L0\")] = (pij_bulk[(\"D0\",\"D1\")]-p_3cnts[(\"D0\",\"D1\",\"D2\")])/(1-2*p_3cnts[(\"D0\",\"D1\",\"D2\")])\n",
    "org_DEM[(\"D0\",\"D2\")]      = (pij_bulk[(\"D0\",\"D2\")]-p_3cnts[(\"D0\",\"D1\",\"D2\")])/(1-2*p_3cnts[(\"D0\",\"D1\",\"D2\")])\n",
    "org_DEM[(\"D4\",\"D5\")]      = (pij_bulk[(\"D4\",\"D5\")]-p_3cnts[(\"D3\",\"D4\",\"D5\")])/(1-2*p_3cnts[(\"D3\",\"D4\",\"D5\")])\n",
    "org_DEM[(\"D1\",\"D5\")]      = (pij_bulk[(\"D1\",\"D5\")]-p_3cnts[(\"D1\",\"D3\",\"D5\")])/((1-2*p_3cnts[(\"D1\",\"D3\",\"D5\")]))\n",
    "org_DEM[(\"D2\",\"D3\")]      = (pij_bulk[(\"D2\",\"D3\")]-p_3cnts[(\"D1\",\"D2\",\"D3\")])/(1-2*p_3cnts[(\"D1\",\"D2\",\"D3\")])\n",
    "org_DEM[(\"D3\",\"D4\",\"L0\")] = (pij_bulk[(\"D3\",\"D4\")]-p_3cnts[(\"D3\",\"D4\",\"D5\")])/(1-2*p_3cnts[(\"D3\",\"D4\",\"D5\")])\n",
    "\n",
    "\n",
    "\n",
    "\n",
    "org_DEM[(\"D1\",\"D2\")]      = (pij_bulk[(\"D1\",\"D2\")]-p_3cnts[(\"D0\",\"D1\",\"D2\")]-p_3cnts[(\"D1\",\"D2\",\"D3\")])/((1-2*p_3cnts[(\"D0\",\"D1\",\"D2\")])*(1-2*p_3cnts[(\"D1\",\"D2\",\"D3\")]))\n",
    "org_DEM[(\"D1\",\"D3\",\"L0\")] = (pij_bulk[(\"D1\",\"D3\")]-p_3cnts[(\"D1\",\"D3\",\"D5\")]-p_3cnts[(\"D1\",\"D2\",\"D3\")])/((1-2*p_3cnts[(\"D1\",\"D3\",\"D5\")])*(1-2*p_3cnts[(\"D1\",\"D2\",\"D3\")]))\n",
    "org_DEM[(\"D3\",\"D5\")]      = (pij_bulk[(\"D3\",\"D5\")]-p_3cnts[(\"D3\",\"D4\",\"D5\")]-p_3cnts[(\"D1\",\"D3\",\"D5\")])/((1-2*p_3cnts[(\"D3\",\"D4\",\"D5\")])*(1-2*p_3cnts[(\"D1\",\"D3\",\"D5\")]))\n",
    "\n",
    "# org_DEM[(\"D3\",\"D5\")]      = (pij_bulk[(\"D3\",\"D5\")]-p_3cnts[(\"D3\",\"D4\",\"D5\")]-p_3cnts[(\"D1\",\"D2\",\"D3\")])/((1-2*p_3cnts[(\"D3\",\"D4\",\"D5\")])*(1-2*p_3cnts[(\"D1\",\"D2\",\"D3\")]))\n",
    "\n",
    "\n",
    "\n",
    "\n",
    "\n",
    "org_DEM[(\"D4\",\"L0\")] = (DEM1[(\"D4\",\"L8\")]-org_DEM[(\"D4\",\"D5\")])/(1-2*org_DEM[(\"D4\",\"D5\")])\n",
    "org_DEM[(\"D0\",\"L0\")] = (DEM1[(\"D0\",\"L1\")]-org_DEM[(\"D0\",\"D2\")])/(1-2*org_DEM[(\"D0\",\"D2\")])\n",
    "org_DEM[(\"D3\",\"L0\")] = (DEM1[(\"D3\",\"L6\")]-org_DEM[(\"D3\",\"D5\")]-org_DEM[(\"D2\",\"D3\")])/((1-2*org_DEM[(\"D3\",\"D5\")])*(1-2*org_DEM[(\"D2\",\"D3\")]))\n",
    "org_DEM[(\"D3\",\"D4\",\"L0\")] = (pij_bulk[(\"D3\",\"D4\")]-p_3cnts[(\"D3\",\"D4\",\"D5\")])/(1-2*p_3cnts[(\"D3\",\"D4\",\"D5\")])\n",
    "\n",
    "\n",
    "\n",
    "\n",
    "# These 2 methods are pretty close.\n",
    "# p_tempD1D3L0 = (pij_bulk[(\"D1\",\"D3\")]-p_3cnts[(\"D1\",\"D3\",\"D5\")])/(1-2*p_3cnts[(\"D1\",\"D3\",\"D5\")])\n",
    "# p_tempD1D3L0 = (p_tempD1D3L0-p_3cnts[(\"D1\",\"D2\",\"D3\")])/(1-2*p_3cnts[(\"D1\",\"D2\",\"D3\")])\n",
    "# p_Other_D1D3_L0 = (pij_bulk[(\"D1\",\"D3\")]-p_3cnts[(\"D1\",\"D3\",\"D5\")]-p_3cnts[(\"D1\",\"D2\",\"D3\")])/((1-2*p_3cnts[(\"D1\",\"D3\",\"D5\")])*(1-2*p_3cnts[(\"D1\",\"D2\",\"D3\")]))\n",
    "# print(\"Method 1 for D1-D3 L0:\",p_tempD1D3L0)\n",
    "# print(\"Method 2 for D1-D3 L0:\",p_Other_D1D3_L0)\n",
    "\n",
    "\n",
    "org_DEM"
   ]
  },
  {
   "cell_type": "code",
   "execution_count": null,
   "metadata": {},
   "outputs": [],
   "source": [
    "#Add 3 point events in org_DEM\n",
    "p_org_DEM              = {}\n",
    "p_org_DEM[(\"D1\",\"D2\",\"D3\")] = p_3cnts[(\"D1\",\"D2\",\"D3\")]\n",
    "p_org_DEM[(\"D0\",\"D1\",\"D2\")] = p_3cnts[(\"D0\",\"D1\",\"D2\")]\n",
    "p_org_DEM[(\"D3\",\"D4\",\"D5\")] = p_3cnts[(\"D3\",\"D4\",\"D5\")]\n",
    "p_org_DEM[(\"D1\",\"D3\",\"D5\")] = p_3cnts[(\"D1\",\"D3\",\"D5\")]"
   ]
  },
  {
   "cell_type": "code",
   "execution_count": null,
   "metadata": {},
   "outputs": [],
   "source": [
    "#Add the D2 L0, D2 , D5 L0, D5\n",
    "\n",
    "p_org_DEM[(\"D2\",\"L0\")]=v_D2_w_L0\n",
    "p_org_DEM[(\"D2\",\"\")]=v_D2_wo_L0\n",
    "p_org_DEM[(\"D5\",\"\")]=v_D5_wo_L0\n",
    "p_org_DEM[(\"D5\",\"L0\")]=v_D5_w_L0\n",
    "p_org_DEM[(\"D1\",\"L0\")]=v_D1_w_L0\n",
    "p_org_DEM[(\"D1\",\"\")]=v_D1_wo_L0\n",
    "\n"
   ]
  },
  {
   "cell_type": "code",
   "execution_count": null,
   "metadata": {},
   "outputs": [
    {
     "data": {
      "text/plain": [
       "{('D1', 'D2', 'D3'): 9.2e-05,\n",
       " ('D0', 'D1', 'D2'): 0.009684,\n",
       " ('D3', 'D4', 'D5'): 0.009687,\n",
       " ('D1', 'D3', 'D5'): 0.0001135,\n",
       " ('D2', 'L0'): 0.0002695000000000033,\n",
       " ('D2', ''): 0.008791999999998466,\n",
       " ('D5', ''): 0.008783499999998457,\n",
       " ('D5', 'L0'): 0.00025900000000000304,\n",
       " ('D1', 'L0'): 0.009041999999998716,\n",
       " ('D1', ''): 0.0002490000000000028,\n",
       " ('D2', 'D5'): 3.90680368087537e-05,\n",
       " ('D1', 'D4'): 0,\n",
       " ('D0', 'D3'): 3.0684276601300464e-05,\n",
       " ('D2', 'D3'): -7.401373840190307e-05,\n",
       " ('D0', 'D1', 'L0'): 0.01029991348786124,\n",
       " ('D3', 'D4', 'L0'): 0.010182750195801959,\n",
       " ('D4', 'D5'): 0.01031549825247557,\n",
       " ('D0', 'D2'): 0.010271769192823849,\n",
       " ('D3', 'D5'): 0.010228872578725637,\n",
       " ('D1', 'D2'): 0.010164960141099112,\n",
       " ('D1', 'D5'): -0.0001135257703498694,\n",
       " ('D0', 'L0'): 0.00973743611323074,\n",
       " ('D4', 'L0'): 0.009774244876919726,\n",
       " ('D3', 'L0'): 0.009845764042186182,\n",
       " ('D1', 'D3', 'L0'): -0.00019891887482728727}"
      ]
     },
     "execution_count": 25,
     "metadata": {},
     "output_type": "execute_result"
    }
   ],
   "source": [
    "#Use the 3-point events to find probs in original DEM\n",
    "\n",
    "\n",
    "p_org_DEM[(\"D2\",\"D5\")] = pij_bulk[(\"D2\",\"D5\")]\n",
    "p_org_DEM[(\"D1\",\"D4\")] = pij_bulk[(\"D1\",\"D4\")]\n",
    "p_org_DEM[(\"D0\",\"D3\")] = pij_bulk[(\"D0\",\"D3\")]\n",
    "\n",
    "p_org_DEM[(\"D2\",\"D3\")] = (pij_bulk[(\"D2\",\"D3\")]-p_3cnts[(\"D1\",\"D2\",\"D3\")])/(1-2*p_3cnts[(\"D1\",\"D2\",\"D3\")])\n",
    "p_org_DEM[(\"D0\",\"D1\",\"L0\")] = (pij_bulk[(\"D0\",\"D1\")]-p_3cnts[(\"D0\",\"D1\",\"D2\")])/(1-2*p_3cnts[(\"D0\",\"D1\",\"D2\")])\n",
    "p_org_DEM[(\"D3\",\"D4\",\"L0\")] = (pij_bulk[(\"D3\",\"D4\")]-p_3cnts[(\"D3\",\"D4\",\"D5\")])/(1-2*p_3cnts[(\"D3\",\"D4\",\"D5\")])\n",
    "p_org_DEM[(\"D4\",\"D5\")] = (pij_bulk[(\"D4\",\"D5\")]-p_3cnts[(\"D3\",\"D4\",\"D5\")])/(1-2*p_3cnts[(\"D3\",\"D4\",\"D5\")])\n",
    "p_org_DEM[(\"D0\",\"D2\")] = (pij_bulk[(\"D0\",\"D2\")]-p_3cnts[(\"D0\",\"D1\",\"D2\")])/(1-2*p_3cnts[(\"D0\",\"D1\",\"D2\")])\n",
    "\n",
    "p_org_DEM[(\"D3\",\"D5\")] = (pij_bulk[(\"D3\",\"D5\")]-p_3cnts[(\"D3\",\"D4\",\"D5\")]-p_3cnts[(\"D1\",\"D2\",\"D3\")])/((1-2*p_3cnts[(\"D3\",\"D4\",\"D5\")])*(1-2*p_3cnts[(\"D1\",\"D2\",\"D3\")]))\n",
    "\n",
    "\n",
    "# p_org_DEM[(\"D1\",\"D3\")] = (pij_bulk[(\"D1\",\"D3\")]-p_3cnts[(\"D1\",\"D3\",\"D5\")])/(1-2*p_3cnts[(\"D1\",\"D3\",\"D5\")])\n",
    "p_org_DEM[(\"D1\",\"D2\")] = (pij_bulk[(\"D1\",\"D2\")]-p_3cnts[(\"D0\",\"D1\",\"D2\")]-p_3cnts[(\"D1\",\"D2\",\"D3\")])/((1-2*p_3cnts[(\"D0\",\"D1\",\"D2\")])*(1-2*p_3cnts[(\"D1\",\"D2\",\"D3\")]))\n",
    "\n",
    "#Maybe this is a bit off?\n",
    "p_org_DEM[(\"D1\",\"D5\")] = (pij_bulk[(\"D1\",\"D5\")]-p_3cnts[(\"D1\",\"D3\",\"D5\")])/((1-2*p_3cnts[(\"D1\",\"D3\",\"D5\")]))\n",
    "\n",
    "\n",
    "#Use D0 L1 in new dem to estimate D0 L0 in original dem: looks good\n",
    "p_org_DEM[(\"D0\",\"L0\")] = (pij_bd[(\"D0\",\"L1\")]-p_org_DEM[(\"D0\",\"D2\")])/(1-2*p_org_DEM[(\"D0\",\"D2\")])\n",
    "\n",
    "#Use D4 L8 in new dem to estimate D4 L0 in original dem: looks good\n",
    "p_org_DEM[(\"D4\",\"L0\")] = (pij_bd[(\"D4\",\"L8\")]-p_org_DEM[(\"D4\",\"D5\")])/(1-2*p_org_DEM[(\"D4\",\"D5\")])\n",
    "\n",
    "#Use D3 D4 L7 to construct D3 D4 L0 via D3 D4 D5\n",
    "p_org_DEM[(\"D3\",\"D4\",\"D5\")] = p_3cnts[(\"D3\",\"D4\",\"D5\")]\n",
    "\n",
    "#Use D3 D5, D2 D3 from org dem and D3 L6 from DEM 1 to get D3 L0 in org DEM: close enough\n",
    "p_org_DEM[(\"D3\",\"L0\")] = (pij_bd[(\"D3\",\"L6\")]-p_org_DEM[(\"D3\",\"D5\")]-p_org_DEM[(\"D2\",\"D3\")])/((1-2*p_org_DEM[(\"D3\",\"D5\")])*(1-2*p_org_DEM[(\"D2\",\"D3\")]))\n",
    "\n",
    "\n",
    "#Get D1 D3 L0 of org_DEM from D1 D3 of DEM1 and from D1D3D5 and D1D2D3: close enough\n",
    "p_org_DEM[(\"D1\",\"D3\",\"L0\")] = (pij_bulk[(\"D1\",\"D3\")]-p_3cnts[(\"D1\",\"D3\",\"D5\")]-p_3cnts[(\"D1\",\"D2\",\"D3\")])/((1-2*p_3cnts[(\"D1\",\"D3\",\"D5\")])*(1-2*p_3cnts[(\"D1\",\"D2\",\"D3\")]))\n",
    "p_org_DEM[(\"D1\",\"D3\",\"D5\")] = p_3cnts[(\"D1\",\"D3\",\"D5\")]\n",
    "p_org_DEM[(\"D1\",\"D2\",\"D3\")] = p_3cnts[(\"D1\",\"D2\",\"D3\")]\n",
    "\n",
    "#use D0 D2 in org_dem and D0 L1 in DEM1 to construct D0 L0 in org_dem\n",
    "p_org_DEM[(\"D0\",\"L0\")] = (pij_bd[(\"D0\",\"L1\")]-p_org_DEM[(\"D0\",\"D2\")])/(1-2*p_org_DEM[(\"D0\",\"D2\")])\n",
    "\n",
    "\n",
    "p_org_DEM\n"
   ]
  },
  {
   "cell_type": "code",
   "execution_count": null,
   "metadata": {},
   "outputs": [],
   "source": [
    "#I think dem2 (M_red only) has red detectors, virtual detectors and logical observables\n",
    "#Then, dem1 (M_restricted) has no red detectors. It has blue, green detectors, and virtual observables?\n",
    "\n",
    "#So the question is: to what actual detector each virtual observable relates to? What probabilities does it combine?\n",
    "#Then, if we know this, we can just use our estimates instead of relying on Stim's DEM.\n",
    "\n",
    "#So dem2 for each error instruction in the M_{ZX}, it adds the target if it is a red detector\n",
    "#then it adds another virtual detector with id = num_detectors + virtual_obs_id (latter is of dem1)\n",
    "#and it adds an observable L0 under some condition.\n",
    "#The probability is already the probability found in the decomposition + compression above\n"
   ]
  },
  {
   "cell_type": "code",
   "execution_count": null,
   "metadata": {},
   "outputs": [
    {
     "data": {
      "text/plain": [
       "(10000, 6)"
      ]
     },
     "execution_count": 31,
     "metadata": {},
     "output_type": "execute_result"
    }
   ],
   "source": [
    "det, obs = obj.sample(10000)\n",
    "\n",
    "np.shape(det)"
   ]
  },
  {
   "cell_type": "code",
   "execution_count": null,
   "metadata": {},
   "outputs": [
    {
     "data": {
      "text/plain": [
       "array([[False, False, False, False, False, False],\n",
       "       [False, False, False, False, False, False],\n",
       "       [False, False, False, False, False, False],\n",
       "       ...,\n",
       "       [False, False, False, False, False, False],\n",
       "       [False, False, False, False, False, False],\n",
       "       [False, False, False, False, False, False]])"
      ]
     },
     "execution_count": 36,
     "metadata": {},
     "output_type": "execute_result"
    }
   ],
   "source": []
  },
  {
   "cell_type": "code",
   "execution_count": null,
   "metadata": {},
   "outputs": [],
   "source": [
    "circuit.dee"
   ]
  },
  {
   "cell_type": "code",
   "execution_count": null,
   "metadata": {},
   "outputs": [
    {
     "name": "stdout",
     "output_type": "stream",
     "text": [
      "color r, step-1 decoding..\n"
     ]
    },
    {
     "ename": "ValueError",
     "evalue": "`shots` array should have at least 5 columns (the number of detectors), and no more than 5 columns (the number of nodes), but instead has 6 columns",
     "output_type": "error",
     "traceback": [
      "\u001b[0;31m---------------------------------------------------------------------------\u001b[0m",
      "\u001b[0;31mValueError\u001b[0m                                Traceback (most recent call last)",
      "Cell \u001b[0;32mIn[37], line 3\u001b[0m\n\u001b[1;32m      1\u001b[0m dets \u001b[38;5;241m=\u001b[39m np\u001b[38;5;241m.\u001b[39mreshape(defects_matrix\u001b[38;5;241m.\u001b[39mdata,(num_shots,num_ancilla\u001b[38;5;241m*\u001b[39m(num_rounds\u001b[38;5;241m+\u001b[39m\u001b[38;5;241m1\u001b[39m)))\n\u001b[0;32m----> 3\u001b[0m preds_obs, best_color \u001b[38;5;241m=\u001b[39m \u001b[43mobj\u001b[49m\u001b[38;5;241;43m.\u001b[39;49m\u001b[43mdecode\u001b[49m\u001b[43m(\u001b[49m\u001b[43mdets\u001b[49m\u001b[43m,\u001b[49m\u001b[43m \u001b[49m\u001b[43mdems\u001b[49m\u001b[43m,\u001b[49m\u001b[43m \u001b[49m\u001b[43mverbose\u001b[49m\u001b[38;5;241;43m=\u001b[39;49m\u001b[38;5;28;43;01mTrue\u001b[39;49;00m\u001b[43m,\u001b[49m\u001b[43m \u001b[49m\u001b[43mget_color\u001b[49m\u001b[38;5;241;43m=\u001b[39;49m\u001b[38;5;28;43;01mTrue\u001b[39;49;00m\u001b[43m)\u001b[49m\n",
      "File \u001b[0;32m~/myenv/sims/color_code/color_code_stim.py:28\u001b[0m, in \u001b[0;36mtimeit.<locals>.wrap\u001b[0;34m(*args, **kwargs)\u001b[0m\n\u001b[1;32m     25\u001b[0m     \u001b[38;5;28mprint\u001b[39m(\u001b[38;5;124mf\u001b[39m\u001b[38;5;124m\"\u001b[39m\u001b[38;5;124mElapsed time for function \u001b[39m\u001b[38;5;124m'\u001b[39m\u001b[38;5;132;01m{\u001b[39;00mfunc\u001b[38;5;241m.\u001b[39m\u001b[38;5;18m__name__\u001b[39m\u001b[38;5;132;01m}\u001b[39;00m\u001b[38;5;124m'\u001b[39m\u001b[38;5;124m: \u001b[39m\u001b[38;5;124m\"\u001b[39m\n\u001b[1;32m     26\u001b[0m           \u001b[38;5;124mf\u001b[39m\u001b[38;5;124m\"\u001b[39m\u001b[38;5;132;01m{\u001b[39;00melapsed\u001b[38;5;132;01m:\u001b[39;00m\u001b[38;5;124m.2e\u001b[39m\u001b[38;5;132;01m}\u001b[39;00m\u001b[38;5;124m s\u001b[39m\u001b[38;5;124m\"\u001b[39m)\n\u001b[1;32m     27\u001b[0m \u001b[38;5;28;01melse\u001b[39;00m:\n\u001b[0;32m---> 28\u001b[0m     res \u001b[38;5;241m=\u001b[39m \u001b[43mfunc\u001b[49m\u001b[43m(\u001b[49m\u001b[38;5;241;43m*\u001b[39;49m\u001b[43margs\u001b[49m\u001b[43m,\u001b[49m\u001b[43m \u001b[49m\u001b[38;5;241;43m*\u001b[39;49m\u001b[38;5;241;43m*\u001b[39;49m\u001b[43mkwargs\u001b[49m\u001b[43m)\u001b[49m\n\u001b[1;32m     29\u001b[0m \u001b[38;5;28;01mreturn\u001b[39;00m res\n",
      "File \u001b[0;32m~/myenv/sims/color_code/color_code_stim.py:1093\u001b[0m, in \u001b[0;36mColorCode.decode\u001b[0;34m(self, detector_outcomes, dems, get_color, verbose)\u001b[0m\n\u001b[1;32m   1091\u001b[0m \u001b[38;5;28;01mif\u001b[39;00m verbose:\n\u001b[1;32m   1092\u001b[0m     \u001b[38;5;28mprint\u001b[39m(\u001b[38;5;124mf\u001b[39m\u001b[38;5;124m\"\u001b[39m\u001b[38;5;124mcolor \u001b[39m\u001b[38;5;132;01m{\u001b[39;00mc\u001b[38;5;132;01m}\u001b[39;00m\u001b[38;5;124m, step-1 decoding..\u001b[39m\u001b[38;5;124m\"\u001b[39m)\n\u001b[0;32m-> 1093\u001b[0m preds_dem1 \u001b[38;5;241m=\u001b[39m \u001b[38;5;28;43mself\u001b[39;49m\u001b[38;5;241;43m.\u001b[39;49m\u001b[43m_decode_dem1\u001b[49m\u001b[43m(\u001b[49m\u001b[43mdem1\u001b[49m\u001b[43m,\u001b[49m\u001b[43m \u001b[49m\u001b[43mdetector_outcomes\u001b[49m\u001b[43m,\u001b[49m\u001b[43m \u001b[49m\u001b[43mc\u001b[49m\u001b[43m)\u001b[49m\n\u001b[1;32m   1094\u001b[0m \u001b[38;5;28;01mif\u001b[39;00m verbose:\n\u001b[1;32m   1095\u001b[0m     \u001b[38;5;28mprint\u001b[39m(\u001b[38;5;124mf\u001b[39m\u001b[38;5;124m\"\u001b[39m\u001b[38;5;124mcolor \u001b[39m\u001b[38;5;132;01m{\u001b[39;00mc\u001b[38;5;132;01m}\u001b[39;00m\u001b[38;5;124m, step-2 decoding..\u001b[39m\u001b[38;5;124m\"\u001b[39m)\n",
      "File \u001b[0;32m~/myenv/sims/color_code/color_code_stim.py:1140\u001b[0m, in \u001b[0;36mColorCode._decode_dem1\u001b[0;34m(self, dem1, detector_outcomes, color)\u001b[0m\n\u001b[1;32m   1138\u001b[0m det_outcomes_dem1[:, \u001b[38;5;28mself\u001b[39m\u001b[38;5;241m.\u001b[39mdetector_ids[color]] \u001b[38;5;241m=\u001b[39m \u001b[38;5;28;01mFalse\u001b[39;00m\n\u001b[1;32m   1139\u001b[0m matching \u001b[38;5;241m=\u001b[39m pymatching\u001b[38;5;241m.\u001b[39mMatching\u001b[38;5;241m.\u001b[39mfrom_detector_error_model(dem1)\n\u001b[0;32m-> 1140\u001b[0m preds_dem1 \u001b[38;5;241m=\u001b[39m \u001b[43mmatching\u001b[49m\u001b[38;5;241;43m.\u001b[39;49m\u001b[43mdecode_batch\u001b[49m\u001b[43m(\u001b[49m\u001b[43mdet_outcomes_dem1\u001b[49m\u001b[43m)\u001b[49m\n\u001b[1;32m   1141\u001b[0m \u001b[38;5;28;01mdel\u001b[39;00m det_outcomes_dem1, matching\n\u001b[1;32m   1143\u001b[0m \u001b[38;5;28;01mreturn\u001b[39;00m preds_dem1\n",
      "File \u001b[0;32m~/myenv/lib/python3.11/site-packages/pymatching/matching.py:419\u001b[0m, in \u001b[0;36mMatching.decode_batch\u001b[0;34m(self, shots, return_weights, bit_packed_shots, bit_packed_predictions)\u001b[0m\n\u001b[1;32m    330\u001b[0m \u001b[38;5;28;01mdef\u001b[39;00m \u001b[38;5;21mdecode_batch\u001b[39m(\n\u001b[1;32m    331\u001b[0m         \u001b[38;5;28mself\u001b[39m,\n\u001b[1;32m    332\u001b[0m         shots: np\u001b[38;5;241m.\u001b[39mndarray,\n\u001b[0;32m   (...)\u001b[0m\n\u001b[1;32m    335\u001b[0m         bit_packed_shots: \u001b[38;5;28mbool\u001b[39m \u001b[38;5;241m=\u001b[39m \u001b[38;5;28;01mFalse\u001b[39;00m,\n\u001b[1;32m    336\u001b[0m         bit_packed_predictions: \u001b[38;5;28mbool\u001b[39m \u001b[38;5;241m=\u001b[39m \u001b[38;5;28;01mFalse\u001b[39;00m) \u001b[38;5;241m-\u001b[39m\u001b[38;5;241m>\u001b[39m Union[np\u001b[38;5;241m.\u001b[39mndarray, Tuple[np\u001b[38;5;241m.\u001b[39mndarray, np\u001b[38;5;241m.\u001b[39mndarray]]:\n\u001b[1;32m    337\u001b[0m \u001b[38;5;250m    \u001b[39m\u001b[38;5;124;03m\"\"\"\u001b[39;00m\n\u001b[1;32m    338\u001b[0m \u001b[38;5;124;03m    Decode from a 2D `shots` array containing a batch of syndrome measurements. A faster\u001b[39;00m\n\u001b[1;32m    339\u001b[0m \u001b[38;5;124;03m    alternative to using `pymatching.Matching.decode` and iterating over the shots in Python.\u001b[39;00m\n\u001b[0;32m   (...)\u001b[0m\n\u001b[1;32m    417\u001b[0m \u001b[38;5;124;03m    >>> num_errors = np.sum(np.any(predicted_observables != actual_observables, axis=1))\u001b[39;00m\n\u001b[1;32m    418\u001b[0m \u001b[38;5;124;03m    \"\"\"\u001b[39;00m\n\u001b[0;32m--> 419\u001b[0m     predictions, weights \u001b[38;5;241m=\u001b[39m \u001b[38;5;28;43mself\u001b[39;49m\u001b[38;5;241;43m.\u001b[39;49m\u001b[43m_matching_graph\u001b[49m\u001b[38;5;241;43m.\u001b[39;49m\u001b[43mdecode_batch\u001b[49m\u001b[43m(\u001b[49m\n\u001b[1;32m    420\u001b[0m \u001b[43m        \u001b[49m\u001b[43mshots\u001b[49m\u001b[43m,\u001b[49m\n\u001b[1;32m    421\u001b[0m \u001b[43m        \u001b[49m\u001b[43mbit_packed_predictions\u001b[49m\u001b[38;5;241;43m=\u001b[39;49m\u001b[43mbit_packed_predictions\u001b[49m\u001b[43m,\u001b[49m\n\u001b[1;32m    422\u001b[0m \u001b[43m        \u001b[49m\u001b[43mbit_packed_shots\u001b[49m\u001b[38;5;241;43m=\u001b[39;49m\u001b[43mbit_packed_shots\u001b[49m\n\u001b[1;32m    423\u001b[0m \u001b[43m    \u001b[49m\u001b[43m)\u001b[49m\n\u001b[1;32m    424\u001b[0m     \u001b[38;5;28;01mif\u001b[39;00m return_weights:\n\u001b[1;32m    425\u001b[0m         \u001b[38;5;28;01mreturn\u001b[39;00m predictions, weights\n",
      "\u001b[0;31mValueError\u001b[0m: `shots` array should have at least 5 columns (the number of detectors), and no more than 5 columns (the number of nodes), but instead has 6 columns"
     ]
    }
   ],
   "source": [
    "dets = np.reshape(defects_matrix.data,(num_shots,num_ancilla*(num_rounds+1)))\n",
    "\n",
    "preds_obs, best_color = obj.decode(dets, dems, verbose=True, get_color=True)"
   ]
  },
  {
   "cell_type": "code",
   "execution_count": null,
   "metadata": {},
   "outputs": [
    {
     "data": {
      "text/plain": [
       "array([False, False, False, ..., False, False, False])"
      ]
     },
     "execution_count": 20,
     "metadata": {},
     "output_type": "execute_result"
    }
   ],
   "source": [
    "preds_obs  # Predictions of logical observables"
   ]
  },
  {
   "cell_type": "code",
   "execution_count": null,
   "metadata": {},
   "outputs": [
    {
     "data": {
      "text/plain": [
       "array(['r', 'r', 'r', ..., 'r', 'r', 'r'], dtype='<U1')"
      ]
     },
     "execution_count": 21,
     "metadata": {},
     "output_type": "execute_result"
    }
   ],
   "source": [
    "best_color  # Selected best colors"
   ]
  },
  {
   "cell_type": "code",
   "execution_count": null,
   "metadata": {},
   "outputs": [
    {
     "data": {
      "text/plain": [
       "array([False, False, False, ..., False, False, False])"
      ]
     },
     "execution_count": 22,
     "metadata": {},
     "output_type": "execute_result"
    }
   ],
   "source": [
    "fails = np.logical_xor(obs, preds_obs)\n",
    "fails"
   ]
  },
  {
   "cell_type": "code",
   "execution_count": null,
   "metadata": {},
   "outputs": [
    {
     "name": "stdout",
     "output_type": "stream",
     "text": [
      "Number of failures: 43\n"
     ]
    }
   ],
   "source": [
    "print(\"Number of failures:\", np.sum(fails))"
   ]
  }
 ],
 "metadata": {
  "kernelspec": {
   "display_name": "noise_est",
   "language": "python",
   "name": "python3"
  },
  "language_info": {
   "codemirror_mode": {
    "name": "ipython",
    "version": 3
   },
   "file_extension": ".py",
   "mimetype": "text/x-python",
   "name": "python",
   "nbconvert_exporter": "python",
   "pygments_lexer": "ipython3",
   "version": "3.11.6"
  }
 },
 "nbformat": 4,
 "nbformat_minor": 2
}
